{
 "cells": [
  {
   "cell_type": "markdown",
   "id": "ef08d369",
   "metadata": {},
   "source": [
    "## Сравнение документов при помощи готовых моделей"
   ]
  },
  {
   "cell_type": "code",
   "execution_count": 1,
   "id": "847e569e",
   "metadata": {},
   "outputs": [],
   "source": [
    "import json\n",
    "\n",
    "path = '../data/documents.json'\n",
    "file = open(path)\n",
    "data = json.load(file)"
   ]
  },
  {
   "cell_type": "code",
   "execution_count": 2,
   "id": "74b0b935",
   "metadata": {},
   "outputs": [
    {
     "name": "stdout",
     "output_type": "stream",
     "text": [
      "total: 4733\n",
      "rpds: 4670\n",
      "vacancies: 22\n",
      "projects: 41\n"
     ]
    }
   ],
   "source": [
    "rpds = list(filter(lambda el: el['object_type'] == \"rpd\", data))\n",
    "vacancies = list(filter(lambda el: el['object_type'] == \"vacancy\", data))\n",
    "projects = list(filter(lambda el: el['object_type'] == \"project\", data))\n",
    "\n",
    "print(f'total: {len(data)}')\n",
    "print(f'rpds: {len(rpds)}')\n",
    "print(f'vacancies: {len(vacancies)}')\n",
    "print(f'projects: {len(projects)}')"
   ]
  },
  {
   "cell_type": "code",
   "execution_count": 3,
   "id": "19601715",
   "metadata": {},
   "outputs": [
    {
     "name": "stdout",
     "output_type": "stream",
     "text": [
      "dict_keys(['id', 'object_type', 'system_id', 'updated_at', 'root_id', 'text', 'is_active', 'created_at'])\n"
     ]
    }
   ],
   "source": [
    "# for vacancy in vacancies:\n",
    "#     print('vacancy id: {}:\\n|{}|\\n\\n'.format(vacancy['id'], vacancy['text']))\n",
    "print(projects[0].keys())"
   ]
  },
  {
   "cell_type": "code",
   "execution_count": 4,
   "id": "5a522dc8",
   "metadata": {},
   "outputs": [],
   "source": [
    "import pandas as pd\n",
    "import pymorphy2\n",
    "import nltk\n",
    "from nltk.tokenize import word_tokenize\n",
    "from nltk.corpus import stopwords"
   ]
  },
  {
   "cell_type": "code",
   "execution_count": 5,
   "id": "041f8126",
   "metadata": {},
   "outputs": [
    {
     "name": "stderr",
     "output_type": "stream",
     "text": [
      "[nltk_data] Downloading package punkt to\n",
      "[nltk_data]     C:\\Users\\Andrey\\AppData\\Roaming\\nltk_data...\n",
      "[nltk_data]   Package punkt is already up-to-date!\n",
      "[nltk_data] Downloading package stopwords to\n",
      "[nltk_data]     C:\\Users\\Andrey\\AppData\\Roaming\\nltk_data...\n",
      "[nltk_data]   Package stopwords is already up-to-date!\n"
     ]
    },
    {
     "data": {
      "text/plain": [
       "True"
      ]
     },
     "execution_count": 5,
     "metadata": {},
     "output_type": "execute_result"
    }
   ],
   "source": [
    "nltk.download('punkt')\n",
    "nltk.download('stopwords')"
   ]
  },
  {
   "cell_type": "code",
   "execution_count": 6,
   "id": "243ce11a",
   "metadata": {},
   "outputs": [],
   "source": [
    "def preprocess(text, stop_words, punctuation_marks, morph):\n",
    "    tokens = word_tokenize(text.lower())\n",
    "    preprocessed_text = []\n",
    "    for token in tokens:\n",
    "        if token not in punctuation_marks:\n",
    "            lemma = morph.parse(token)[0].normal_form\n",
    "            if lemma not in stop_words:\n",
    "                preprocessed_text.append(lemma)\n",
    "    return preprocessed_text"
   ]
  },
  {
   "cell_type": "code",
   "execution_count": 7,
   "id": "e0099c04",
   "metadata": {},
   "outputs": [],
   "source": [
    "punctuation_marks = ['!', ',', '(', ')', ':', '-', '?', '.', '..', '...']\n",
    "stop_words = stopwords.words(\"russian\")\n",
    "morph = pymorphy2.MorphAnalyzer()"
   ]
  },
  {
   "cell_type": "code",
   "execution_count": 8,
   "id": "08cc69be",
   "metadata": {},
   "outputs": [],
   "source": [
    "vacancies_df = pd.DataFrame(vacancies)\n",
    "rpds_df = pd.DataFrame(rpds)\n",
    "projects_df = pd.DataFrame(projects)\n"
   ]
  },
  {
   "cell_type": "code",
   "execution_count": 9,
   "id": "9864c65d",
   "metadata": {},
   "outputs": [
    {
     "data": {
      "text/html": [
       "<div>\n",
       "<style scoped>\n",
       "    .dataframe tbody tr th:only-of-type {\n",
       "        vertical-align: middle;\n",
       "    }\n",
       "\n",
       "    .dataframe tbody tr th {\n",
       "        vertical-align: top;\n",
       "    }\n",
       "\n",
       "    .dataframe thead th {\n",
       "        text-align: right;\n",
       "    }\n",
       "</style>\n",
       "<table border=\"1\" class=\"dataframe\">\n",
       "  <thead>\n",
       "    <tr style=\"text-align: right;\">\n",
       "      <th></th>\n",
       "      <th>id</th>\n",
       "      <th>object_type</th>\n",
       "      <th>system_id</th>\n",
       "      <th>updated_at</th>\n",
       "      <th>root_id</th>\n",
       "      <th>text</th>\n",
       "      <th>is_active</th>\n",
       "      <th>created_at</th>\n",
       "    </tr>\n",
       "  </thead>\n",
       "  <tbody>\n",
       "    <tr>\n",
       "      <th>0</th>\n",
       "      <td>11</td>\n",
       "      <td>rpd</td>\n",
       "      <td>102</td>\n",
       "      <td>2022-12-04 14:52:07.015145</td>\n",
       "      <td>NaN</td>\n",
       "      <td>Дисциплина посвящена изучению вопросов, связан...</td>\n",
       "      <td>True</td>\n",
       "      <td>2022-12-04 14:52:07.015132</td>\n",
       "    </tr>\n",
       "    <tr>\n",
       "      <th>1</th>\n",
       "      <td>12</td>\n",
       "      <td>rpd</td>\n",
       "      <td>101</td>\n",
       "      <td>2022-12-04 14:52:07.036244</td>\n",
       "      <td>NaN</td>\n",
       "      <td>В рамках дисциплины рассматриваются методы, ср...</td>\n",
       "      <td>True</td>\n",
       "      <td>2022-12-04 14:52:07.036225</td>\n",
       "    </tr>\n",
       "    <tr>\n",
       "      <th>2</th>\n",
       "      <td>13</td>\n",
       "      <td>rpd</td>\n",
       "      <td>103</td>\n",
       "      <td>2022-12-04 14:52:07.111377</td>\n",
       "      <td>NaN</td>\n",
       "      <td>В дисциплине изучаются математические методы а...</td>\n",
       "      <td>True</td>\n",
       "      <td>2022-12-04 14:52:07.111363</td>\n",
       "    </tr>\n",
       "    <tr>\n",
       "      <th>3</th>\n",
       "      <td>14</td>\n",
       "      <td>rpd</td>\n",
       "      <td>104</td>\n",
       "      <td>2022-12-04 14:52:07.143323</td>\n",
       "      <td>16.0</td>\n",
       "      <td>Дисциплина Теория оптимального управления вклю...</td>\n",
       "      <td>True</td>\n",
       "      <td>2022-12-04 14:52:07.143313</td>\n",
       "    </tr>\n",
       "    <tr>\n",
       "      <th>4</th>\n",
       "      <td>15</td>\n",
       "      <td>rpd</td>\n",
       "      <td>105</td>\n",
       "      <td>2022-12-04 14:52:07.168986</td>\n",
       "      <td>NaN</td>\n",
       "      <td>Дисциплина включает изложение основ теории ма...</td>\n",
       "      <td>True</td>\n",
       "      <td>2022-12-04 14:52:07.168972</td>\n",
       "    </tr>\n",
       "    <tr>\n",
       "      <th>...</th>\n",
       "      <td>...</td>\n",
       "      <td>...</td>\n",
       "      <td>...</td>\n",
       "      <td>...</td>\n",
       "      <td>...</td>\n",
       "      <td>...</td>\n",
       "      <td>...</td>\n",
       "      <td>...</td>\n",
       "    </tr>\n",
       "    <tr>\n",
       "      <th>4728</th>\n",
       "      <td>4739</td>\n",
       "      <td>vacancy</td>\n",
       "      <td>f753f1a9-7843-47c5-9880-e6dec4147034</td>\n",
       "      <td>2022-11-04 16:42:20.317272</td>\n",
       "      <td>NaN</td>\n",
       "      <td>IT-рекрутер_HR-менеджер. Основные задачи: • По...</td>\n",
       "      <td>True</td>\n",
       "      <td>2022-11-02 13:24:50.375527</td>\n",
       "    </tr>\n",
       "    <tr>\n",
       "      <th>4729</th>\n",
       "      <td>4740</td>\n",
       "      <td>vacancy</td>\n",
       "      <td>71e63d91-09c6-435c-b1f7-dfd71027eec6</td>\n",
       "      <td>2022-11-04 16:42:19.680058</td>\n",
       "      <td>NaN</td>\n",
       "      <td>Анализ факторов влияющих на посещаемость музея...</td>\n",
       "      <td>True</td>\n",
       "      <td>2022-11-02 13:24:49.792713</td>\n",
       "    </tr>\n",
       "    <tr>\n",
       "      <th>4730</th>\n",
       "      <td>4741</td>\n",
       "      <td>vacancy</td>\n",
       "      <td>910674f7-4b3a-4a96-ada6-ee21b2c158ee</td>\n",
       "      <td>2022-11-04 16:42:19.841199</td>\n",
       "      <td>NaN</td>\n",
       "      <td>Senior Middle Java. Мы находимся в поиске Seni...</td>\n",
       "      <td>True</td>\n",
       "      <td>2022-11-02 13:24:49.950152</td>\n",
       "    </tr>\n",
       "    <tr>\n",
       "      <th>4731</th>\n",
       "      <td>4742</td>\n",
       "      <td>vacancy</td>\n",
       "      <td>ec6cdc46-5ed4-45d1-b63e-6ac0e3ff7de9</td>\n",
       "      <td>2022-11-04 16:42:20.269543</td>\n",
       "      <td>NaN</td>\n",
       "      <td>Python разработчик. Мы находимся в поисках Pyt...</td>\n",
       "      <td>True</td>\n",
       "      <td>2022-11-02 13:24:50.316030</td>\n",
       "    </tr>\n",
       "    <tr>\n",
       "      <th>4732</th>\n",
       "      <td>4743</td>\n",
       "      <td>vacancy</td>\n",
       "      <td>8f2bb3f6-a273-4862-a1d6-cf451e2fa19c</td>\n",
       "      <td>2022-11-23 13:08:02.600790</td>\n",
       "      <td>NaN</td>\n",
       "      <td>Черт-стажер. Страх. Ужас. Нужен чёрт. Демонам ...</td>\n",
       "      <td>True</td>\n",
       "      <td>2022-11-23 13:04:08.087207</td>\n",
       "    </tr>\n",
       "  </tbody>\n",
       "</table>\n",
       "<p>4733 rows × 8 columns</p>\n",
       "</div>"
      ],
      "text/plain": [
       "        id object_type                             system_id  \\\n",
       "0       11         rpd                                   102   \n",
       "1       12         rpd                                   101   \n",
       "2       13         rpd                                   103   \n",
       "3       14         rpd                                   104   \n",
       "4       15         rpd                                   105   \n",
       "...    ...         ...                                   ...   \n",
       "4728  4739     vacancy  f753f1a9-7843-47c5-9880-e6dec4147034   \n",
       "4729  4740     vacancy  71e63d91-09c6-435c-b1f7-dfd71027eec6   \n",
       "4730  4741     vacancy  910674f7-4b3a-4a96-ada6-ee21b2c158ee   \n",
       "4731  4742     vacancy  ec6cdc46-5ed4-45d1-b63e-6ac0e3ff7de9   \n",
       "4732  4743     vacancy  8f2bb3f6-a273-4862-a1d6-cf451e2fa19c   \n",
       "\n",
       "                      updated_at  root_id  \\\n",
       "0     2022-12-04 14:52:07.015145      NaN   \n",
       "1     2022-12-04 14:52:07.036244      NaN   \n",
       "2     2022-12-04 14:52:07.111377      NaN   \n",
       "3     2022-12-04 14:52:07.143323     16.0   \n",
       "4     2022-12-04 14:52:07.168986      NaN   \n",
       "...                          ...      ...   \n",
       "4728  2022-11-04 16:42:20.317272      NaN   \n",
       "4729  2022-11-04 16:42:19.680058      NaN   \n",
       "4730  2022-11-04 16:42:19.841199      NaN   \n",
       "4731  2022-11-04 16:42:20.269543      NaN   \n",
       "4732  2022-11-23 13:08:02.600790      NaN   \n",
       "\n",
       "                                                   text  is_active  \\\n",
       "0     Дисциплина посвящена изучению вопросов, связан...       True   \n",
       "1     В рамках дисциплины рассматриваются методы, ср...       True   \n",
       "2     В дисциплине изучаются математические методы а...       True   \n",
       "3     Дисциплина Теория оптимального управления вклю...       True   \n",
       "4      Дисциплина включает изложение основ теории ма...       True   \n",
       "...                                                 ...        ...   \n",
       "4728  IT-рекрутер_HR-менеджер. Основные задачи: • По...       True   \n",
       "4729  Анализ факторов влияющих на посещаемость музея...       True   \n",
       "4730  Senior Middle Java. Мы находимся в поиске Seni...       True   \n",
       "4731  Python разработчик. Мы находимся в поисках Pyt...       True   \n",
       "4732  Черт-стажер. Страх. Ужас. Нужен чёрт. Демонам ...       True   \n",
       "\n",
       "                      created_at  \n",
       "0     2022-12-04 14:52:07.015132  \n",
       "1     2022-12-04 14:52:07.036225  \n",
       "2     2022-12-04 14:52:07.111363  \n",
       "3     2022-12-04 14:52:07.143313  \n",
       "4     2022-12-04 14:52:07.168972  \n",
       "...                          ...  \n",
       "4728  2022-11-02 13:24:50.375527  \n",
       "4729  2022-11-02 13:24:49.792713  \n",
       "4730  2022-11-02 13:24:49.950152  \n",
       "4731  2022-11-02 13:24:50.316030  \n",
       "4732  2022-11-23 13:04:08.087207  \n",
       "\n",
       "[4733 rows x 8 columns]"
      ]
     },
     "execution_count": 9,
     "metadata": {},
     "output_type": "execute_result"
    }
   ],
   "source": [
    "data_df = pd.DataFrame(data)\n",
    "data_df"
   ]
  },
  {
   "cell_type": "code",
   "execution_count": 10,
   "id": "2cb934d5",
   "metadata": {},
   "outputs": [],
   "source": [
    "# data_df['preprocessed_texts'] = data_df.apply(lambda row: preprocess(row['text'], punctuation_marks, stop_words, morph), axis=1)"
   ]
  },
  {
   "cell_type": "code",
   "execution_count": 11,
   "id": "52370b74",
   "metadata": {},
   "outputs": [],
   "source": [
    "path = '../data/preprocessed_documents.json'\n",
    "file = open(path)\n",
    "data = json.load(file)\n",
    "data_df_preprocessed = pd.DataFrame(data)"
   ]
  },
  {
   "cell_type": "code",
   "execution_count": 12,
   "id": "ddb37283",
   "metadata": {},
   "outputs": [
    {
     "data": {
      "text/html": [
       "<div>\n",
       "<style scoped>\n",
       "    .dataframe tbody tr th:only-of-type {\n",
       "        vertical-align: middle;\n",
       "    }\n",
       "\n",
       "    .dataframe tbody tr th {\n",
       "        vertical-align: top;\n",
       "    }\n",
       "\n",
       "    .dataframe thead th {\n",
       "        text-align: right;\n",
       "    }\n",
       "</style>\n",
       "<table border=\"1\" class=\"dataframe\">\n",
       "  <thead>\n",
       "    <tr style=\"text-align: right;\">\n",
       "      <th></th>\n",
       "      <th>id</th>\n",
       "      <th>object_type</th>\n",
       "      <th>system_id</th>\n",
       "      <th>updated_at</th>\n",
       "      <th>root_id</th>\n",
       "      <th>is_active</th>\n",
       "      <th>created_at</th>\n",
       "      <th>preprocessed_texts</th>\n",
       "    </tr>\n",
       "  </thead>\n",
       "  <tbody>\n",
       "    <tr>\n",
       "      <th>0</th>\n",
       "      <td>11</td>\n",
       "      <td>rpd</td>\n",
       "      <td>102</td>\n",
       "      <td>2022-12-04 14:52:07.015145</td>\n",
       "      <td>NaN</td>\n",
       "      <td>True</td>\n",
       "      <td>2022-12-04 14:52:07.015132</td>\n",
       "      <td>[дисциплина, посвятить, изучение, вопрос, связ...</td>\n",
       "    </tr>\n",
       "    <tr>\n",
       "      <th>1</th>\n",
       "      <td>12</td>\n",
       "      <td>rpd</td>\n",
       "      <td>101</td>\n",
       "      <td>2022-12-04 14:52:07.036244</td>\n",
       "      <td>NaN</td>\n",
       "      <td>True</td>\n",
       "      <td>2022-12-04 14:52:07.036225</td>\n",
       "      <td>[рамка, дисциплина, рассматриваться, метод, ср...</td>\n",
       "    </tr>\n",
       "    <tr>\n",
       "      <th>2</th>\n",
       "      <td>13</td>\n",
       "      <td>rpd</td>\n",
       "      <td>103</td>\n",
       "      <td>2022-12-04 14:52:07.111377</td>\n",
       "      <td>NaN</td>\n",
       "      <td>True</td>\n",
       "      <td>2022-12-04 14:52:07.111363</td>\n",
       "      <td>[дисциплина, изучаться, математический, метод,...</td>\n",
       "    </tr>\n",
       "    <tr>\n",
       "      <th>3</th>\n",
       "      <td>14</td>\n",
       "      <td>rpd</td>\n",
       "      <td>104</td>\n",
       "      <td>2022-12-04 14:52:07.143323</td>\n",
       "      <td>16.0</td>\n",
       "      <td>True</td>\n",
       "      <td>2022-12-04 14:52:07.143313</td>\n",
       "      <td>[дисциплина, теория, оптимальный, управление, ...</td>\n",
       "    </tr>\n",
       "    <tr>\n",
       "      <th>4</th>\n",
       "      <td>15</td>\n",
       "      <td>rpd</td>\n",
       "      <td>105</td>\n",
       "      <td>2022-12-04 14:52:07.168986</td>\n",
       "      <td>NaN</td>\n",
       "      <td>True</td>\n",
       "      <td>2022-12-04 14:52:07.168972</td>\n",
       "      <td>[дисциплина, включать, изложение, основа, теор...</td>\n",
       "    </tr>\n",
       "    <tr>\n",
       "      <th>...</th>\n",
       "      <td>...</td>\n",
       "      <td>...</td>\n",
       "      <td>...</td>\n",
       "      <td>...</td>\n",
       "      <td>...</td>\n",
       "      <td>...</td>\n",
       "      <td>...</td>\n",
       "      <td>...</td>\n",
       "    </tr>\n",
       "    <tr>\n",
       "      <th>4728</th>\n",
       "      <td>4739</td>\n",
       "      <td>vacancy</td>\n",
       "      <td>f753f1a9-7843-47c5-9880-e6dec4147034</td>\n",
       "      <td>2022-11-04 16:42:20.317272</td>\n",
       "      <td>NaN</td>\n",
       "      <td>True</td>\n",
       "      <td>2022-11-02 13:24:50.375527</td>\n",
       "      <td>[it-рекрутер_hr-менеджер, основной, задача, •,...</td>\n",
       "    </tr>\n",
       "    <tr>\n",
       "      <th>4729</th>\n",
       "      <td>4740</td>\n",
       "      <td>vacancy</td>\n",
       "      <td>71e63d91-09c6-435c-b1f7-dfd71027eec6</td>\n",
       "      <td>2022-11-04 16:42:19.680058</td>\n",
       "      <td>NaN</td>\n",
       "      <td>True</td>\n",
       "      <td>2022-11-02 13:24:49.792713</td>\n",
       "      <td>[анализ, фактор, влиять, посещаемость, музей, ...</td>\n",
       "    </tr>\n",
       "    <tr>\n",
       "      <th>4730</th>\n",
       "      <td>4741</td>\n",
       "      <td>vacancy</td>\n",
       "      <td>910674f7-4b3a-4a96-ada6-ee21b2c158ee</td>\n",
       "      <td>2022-11-04 16:42:19.841199</td>\n",
       "      <td>NaN</td>\n",
       "      <td>True</td>\n",
       "      <td>2022-11-02 13:24:49.950152</td>\n",
       "      <td>[senior, middle, java, находиться, поиск, seni...</td>\n",
       "    </tr>\n",
       "    <tr>\n",
       "      <th>4731</th>\n",
       "      <td>4742</td>\n",
       "      <td>vacancy</td>\n",
       "      <td>ec6cdc46-5ed4-45d1-b63e-6ac0e3ff7de9</td>\n",
       "      <td>2022-11-04 16:42:20.269543</td>\n",
       "      <td>NaN</td>\n",
       "      <td>True</td>\n",
       "      <td>2022-11-02 13:24:50.316030</td>\n",
       "      <td>[python, разработчик, находиться, поиск, pytho...</td>\n",
       "    </tr>\n",
       "    <tr>\n",
       "      <th>4732</th>\n",
       "      <td>4743</td>\n",
       "      <td>vacancy</td>\n",
       "      <td>8f2bb3f6-a273-4862-a1d6-cf451e2fa19c</td>\n",
       "      <td>2022-11-23 13:08:02.600790</td>\n",
       "      <td>NaN</td>\n",
       "      <td>True</td>\n",
       "      <td>2022-11-23 13:04:08.087207</td>\n",
       "      <td>[чёрт-стажёр, страх, ужас, нужный, чёрт, демон...</td>\n",
       "    </tr>\n",
       "  </tbody>\n",
       "</table>\n",
       "<p>4733 rows × 8 columns</p>\n",
       "</div>"
      ],
      "text/plain": [
       "        id object_type                             system_id  \\\n",
       "0       11         rpd                                   102   \n",
       "1       12         rpd                                   101   \n",
       "2       13         rpd                                   103   \n",
       "3       14         rpd                                   104   \n",
       "4       15         rpd                                   105   \n",
       "...    ...         ...                                   ...   \n",
       "4728  4739     vacancy  f753f1a9-7843-47c5-9880-e6dec4147034   \n",
       "4729  4740     vacancy  71e63d91-09c6-435c-b1f7-dfd71027eec6   \n",
       "4730  4741     vacancy  910674f7-4b3a-4a96-ada6-ee21b2c158ee   \n",
       "4731  4742     vacancy  ec6cdc46-5ed4-45d1-b63e-6ac0e3ff7de9   \n",
       "4732  4743     vacancy  8f2bb3f6-a273-4862-a1d6-cf451e2fa19c   \n",
       "\n",
       "                      updated_at  root_id  is_active  \\\n",
       "0     2022-12-04 14:52:07.015145      NaN       True   \n",
       "1     2022-12-04 14:52:07.036244      NaN       True   \n",
       "2     2022-12-04 14:52:07.111377      NaN       True   \n",
       "3     2022-12-04 14:52:07.143323     16.0       True   \n",
       "4     2022-12-04 14:52:07.168986      NaN       True   \n",
       "...                          ...      ...        ...   \n",
       "4728  2022-11-04 16:42:20.317272      NaN       True   \n",
       "4729  2022-11-04 16:42:19.680058      NaN       True   \n",
       "4730  2022-11-04 16:42:19.841199      NaN       True   \n",
       "4731  2022-11-04 16:42:20.269543      NaN       True   \n",
       "4732  2022-11-23 13:08:02.600790      NaN       True   \n",
       "\n",
       "                      created_at  \\\n",
       "0     2022-12-04 14:52:07.015132   \n",
       "1     2022-12-04 14:52:07.036225   \n",
       "2     2022-12-04 14:52:07.111363   \n",
       "3     2022-12-04 14:52:07.143313   \n",
       "4     2022-12-04 14:52:07.168972   \n",
       "...                          ...   \n",
       "4728  2022-11-02 13:24:50.375527   \n",
       "4729  2022-11-02 13:24:49.792713   \n",
       "4730  2022-11-02 13:24:49.950152   \n",
       "4731  2022-11-02 13:24:50.316030   \n",
       "4732  2022-11-23 13:04:08.087207   \n",
       "\n",
       "                                     preprocessed_texts  \n",
       "0     [дисциплина, посвятить, изучение, вопрос, связ...  \n",
       "1     [рамка, дисциплина, рассматриваться, метод, ср...  \n",
       "2     [дисциплина, изучаться, математический, метод,...  \n",
       "3     [дисциплина, теория, оптимальный, управление, ...  \n",
       "4     [дисциплина, включать, изложение, основа, теор...  \n",
       "...                                                 ...  \n",
       "4728  [it-рекрутер_hr-менеджер, основной, задача, •,...  \n",
       "4729  [анализ, фактор, влиять, посещаемость, музей, ...  \n",
       "4730  [senior, middle, java, находиться, поиск, seni...  \n",
       "4731  [python, разработчик, находиться, поиск, pytho...  \n",
       "4732  [чёрт-стажёр, страх, ужас, нужный, чёрт, демон...  \n",
       "\n",
       "[4733 rows x 8 columns]"
      ]
     },
     "execution_count": 12,
     "metadata": {},
     "output_type": "execute_result"
    }
   ],
   "source": [
    "# data_df_preprocessed = data_df.copy()\n",
    "# data_df_preprocessed = data_df_preprocessed.drop(columns=['text'], axis=1)\n",
    "# data_df_preprocessed.to_json('../data/preprocessed_documents.json')\n",
    "data_df_preprocessed"
   ]
  },
  {
   "cell_type": "code",
   "execution_count": 86,
   "id": "2f34f7d3",
   "metadata": {},
   "outputs": [
    {
     "data": {
      "text/plain": [
       "4733"
      ]
     },
     "execution_count": 86,
     "metadata": {},
     "output_type": "execute_result"
    }
   ],
   "source": [
    "import gensim.models\n",
    "data_df_preprocessed['preprocessed_texts'].size"
   ]
  },
  {
   "cell_type": "code",
   "execution_count": 113,
   "id": "e8c1c363",
   "metadata": {},
   "outputs": [],
   "source": [
    "train_part = data_df_preprocessed['preprocessed_texts']"
   ]
  },
  {
   "cell_type": "code",
   "execution_count": 114,
   "id": "79637588",
   "metadata": {},
   "outputs": [],
   "source": [
    "model = gensim.models.Word2Vec(sentences=train_part, min_count=5, vector_size=50)"
   ]
  },
  {
   "cell_type": "code",
   "execution_count": 88,
   "id": "5cbc2bee",
   "metadata": {
    "scrolled": true
   },
   "outputs": [
    {
     "data": {
      "text/plain": [
       "array([ 2.4623537 ,  1.4300408 , -0.680008  ,  0.83727527,  0.9830264 ,\n",
       "        2.3433704 , -0.2914513 ,  0.8753014 , -0.03168268,  3.4960208 ,\n",
       "        1.7436459 , -2.2772021 ,  1.3138137 , -0.19287579, -2.5136135 ,\n",
       "       -1.3262156 ,  1.0058781 , -1.2379185 , -1.480588  , -3.5167403 ,\n",
       "        1.5315789 , -0.78471684, -0.07802825, -0.64502186,  1.1393894 ,\n",
       "        0.16341056,  0.14100589,  3.8801663 , -0.40122178,  1.6227934 ,\n",
       "        2.3915389 , -2.301975  ,  0.49422148, -2.406377  , -1.1975806 ,\n",
       "       -1.5202249 ,  1.9890846 ,  2.6031504 , -0.46008748,  3.1050327 ,\n",
       "        2.562875  ,  1.5871464 , -3.2155063 , -0.51606166,  2.7304502 ,\n",
       "       -0.2998767 ,  1.3258868 ,  0.47376263,  0.27284822,  4.041276  ],\n",
       "      dtype=float32)"
      ]
     },
     "execution_count": 88,
     "metadata": {},
     "output_type": "execute_result"
    }
   ],
   "source": [
    "model.wv['математический'] # векторы, полученные на основе обучения на нашем наборе данных"
   ]
  },
  {
   "cell_type": "code",
   "execution_count": 115,
   "id": "3e876f18",
   "metadata": {},
   "outputs": [
    {
     "data": {
      "text/plain": [
       "[('found', 0.960681140422821),\n",
       " ('two', 0.9509900212287903),\n",
       " ('soon', 0.9472825527191162),\n",
       " ('prospects', 0.9445124864578247),\n",
       " ('memory', 0.9425790309906006),\n",
       " ('respond', 0.9418269395828247),\n",
       " ('nationality', 0.9416079521179199),\n",
       " ('portfolio', 0.9414680600166321),\n",
       " ('result', 0.9411369562149048),\n",
       " ('innodb', 0.9405909776687622)]"
      ]
     },
     "execution_count": 115,
     "metadata": {},
     "output_type": "execute_result"
    }
   ],
   "source": [
    "model.wv.most_similar('senior')"
   ]
  },
  {
   "cell_type": "code",
   "execution_count": 116,
   "id": "c34920d5",
   "metadata": {
    "scrolled": false
   },
   "outputs": [
    {
     "data": {
      "text/plain": [
       "[('c++', 0.8057485222816467),\n",
       " ('php', 0.7705948352813721),\n",
       " ('numpy', 0.7694965600967407),\n",
       " ('java', 0.7602179646492004),\n",
       " ('gnu', 0.7504503130912781),\n",
       " ('prolog', 0.7476317882537842),\n",
       " ('np', 0.7356088161468506),\n",
       " ('octave', 0.7338268756866455),\n",
       " ('verilog', 0.7310166358947754),\n",
       " ('с++', 0.7307944297790527)]"
      ]
     },
     "execution_count": 116,
     "metadata": {},
     "output_type": "execute_result"
    }
   ],
   "source": [
    "model.wv.most_similar('python')"
   ]
  },
  {
   "cell_type": "markdown",
   "id": "a46fca77",
   "metadata": {},
   "source": [
    "- $rpd \\rightarrow projects$\n",
    "- $vacancy \\rightarrow projects$"
   ]
  },
  {
   "cell_type": "code",
   "execution_count": 91,
   "id": "fd8b25e6",
   "metadata": {
    "scrolled": false
   },
   "outputs": [],
   "source": [
    "# Сравним 10 rpd с проектами\n",
    "\n",
    "# for i in range(10, 20):\n",
    "# #     print(rpds_df['text'][i])\n",
    "#     for project_text in projects_df['text']:\n",
    "# #         print(project_text, end='\\n\\n')\n"
   ]
  },
  {
   "cell_type": "code",
   "execution_count": 92,
   "id": "c0646526",
   "metadata": {
    "scrolled": true
   },
   "outputs": [
    {
     "data": {
      "text/plain": [
       "0       Дисциплина посвящена изучению вопросов, связан...\n",
       "1       В рамках дисциплины рассматриваются методы, ср...\n",
       "2       В дисциплине изучаются математические методы а...\n",
       "3       Дисциплина Теория оптимального управления вклю...\n",
       "4        Дисциплина включает изложение основ теории ма...\n",
       "                              ...                        \n",
       "4665    Дисциплина посвящена изучению проектирования к...\n",
       "4666    Данная дисциплина знакомит с базовыми методами...\n",
       "4667    Производственная практика бакалавров имеет цел...\n",
       "4668    Рассматривается задача проверки корректности р...\n",
       "4669                                                     \n",
       "Name: text, Length: 4670, dtype: object"
      ]
     },
     "execution_count": 92,
     "metadata": {},
     "output_type": "execute_result"
    }
   ],
   "source": [
    "rpds_df['text']"
   ]
  },
  {
   "cell_type": "code",
   "execution_count": 122,
   "id": "ebefa6b6",
   "metadata": {},
   "outputs": [],
   "source": [
    "# import numpy as np\n",
    "# # rpd -> projects\n",
    "# sentences_similarity = np.zeros(projects_df['text'].size)\n",
    "\n",
    "# projects_lst = list(projects_df['text'])\n",
    "# # # print(projects_lst)\n",
    "# for i in range(13, 19):\n",
    "#     target_sentence_words = [w for w in rpds_df['text'][i].split() if w in model.wv.index_to_key]\n",
    "#     for idx, sentence in enumerate(projects_lst):\n",
    "#         sentence_words = [w for w in sentence.split() if w in model.wv.index_to_key]\n",
    "#         sim = model.wv.n_similarity(target_sentence_words, sentence_words)\n",
    "#         sentences_similarity[idx] = sim\n",
    "        \n",
    "#     result = list(zip(sentences_similarity, projects_lst))\n",
    "#     result.sort(key=lambda item:item[0], reverse=True)\n",
    "#     print(\"Target:\\n\", rpds_df['text'][i], '\\n->')\n",
    "#     print(result[0], end='\\n\\n')\n",
    "\n"
   ]
  },
  {
   "cell_type": "markdown",
   "id": "5048e426",
   "metadata": {},
   "source": [
    "Здесь описано, что надо сделать, чтобы сравнивать предложения. (In [9])\n",
    "https://notebook.community/ianozsvald/word2vec_sentences_vs_target_sentence_demo/word2vec%20similarity%20example"
   ]
  },
  {
   "cell_type": "markdown",
   "id": "c0c0e479",
   "metadata": {},
   "source": [
    "- False positive - волка не былo, но сказали, что есть;\n",
    "- True positive - волк пришел, позвали на помощь, но ему никто не поверил и овец съели;\n",
    "- True negative - волк пришел, не позвали на помощь, и овец съели;\n",
    "- False negative - волк пришел, пастух вообще заснул, овец съели."
   ]
  },
  {
   "cell_type": "code",
   "execution_count": 94,
   "id": "d1281c11",
   "metadata": {
    "scrolled": true
   },
   "outputs": [
    {
     "name": "stdout",
     "output_type": "stream",
     "text": [
      "41\n"
     ]
    }
   ],
   "source": [
    "print(len(projects_lst))"
   ]
  },
  {
   "cell_type": "markdown",
   "id": "544643a1",
   "metadata": {},
   "source": [
    "### Выберем 10 рпд и определим, с какими проектами  рпд будет сопоставляться (матчиться), а с какими нет."
   ]
  },
  {
   "cell_type": "code",
   "execution_count": 121,
   "id": "ed8c2604",
   "metadata": {
    "scrolled": true
   },
   "outputs": [],
   "source": [
    "# for i in range(10, 16):\n",
    "  #  print('{} {}: {}'.format(rpds[i]['id'], rpds[i]['system_id'], rpds[i]['text']), end='\\n------------------------------------------------------------------------\\n\\n')\n",
    "    \n",
    "#print(rpds[10])"
   ]
  },
  {
   "cell_type": "markdown",
   "id": "7c4b91af",
   "metadata": {},
   "source": [
    "21 match: 96, 97, 105, 84?,\n",
    "\n",
    "21 unmatch: 77, 80, 82, 83, 85,  "
   ]
  },
  {
   "cell_type": "code",
   "execution_count": 120,
   "id": "4ebf3ce4",
   "metadata": {
    "scrolled": true
   },
   "outputs": [],
   "source": [
    "# for project in projects:\n",
    "  #  print('{} {}: {}'.format(project['id'], project['system_id'], project['text']), end='\\n------------------------------------------------------------------------\\n\\n')\n",
    "#     print('id =', project.id,  project['text'], sep=' ', end='\\n\\n')\n"
   ]
  },
  {
   "cell_type": "markdown",
   "id": "fe1c81be",
   "metadata": {},
   "source": [
    "## Работа по плану Корытова П. В."
   ]
  },
  {
   "cell_type": "markdown",
   "id": "fdbca29b",
   "metadata": {},
   "source": [
    "### 1. Берем предобученную модель."
   ]
  },
  {
   "cell_type": "markdown",
   "id": "4b606e57",
   "metadata": {},
   "source": [
    "https://github.com/RaRe-Technologies/gensim-data/issues/3"
   ]
  },
  {
   "cell_type": "code",
   "execution_count": 97,
   "id": "c2d32ef5",
   "metadata": {},
   "outputs": [],
   "source": [
    "from gensim.models import Word2Vec\n",
    "from gensim.models import FastText\n",
    "from gensim.models import KeyedVectors\n",
    "from gensim import models\n",
    "import gensim.downloader as api\n",
    "import zipfile\n",
    "import sys\n",
    "import requests, io"
   ]
  },
  {
   "cell_type": "code",
   "execution_count": 98,
   "id": "1dbc7240",
   "metadata": {},
   "outputs": [],
   "source": [
    "# # wv_from_text = KeyedVectors.load_word2vec_format(datapath('word2vec_pre_kv_c'), binary=False)\n",
    "# model_url = 'http://vectors.nlpl.eu/repository/20/170.zip'\n",
    "# r = requests.get(model_url, stream=True)\n",
    "# z = zipfile.ZipFile(io.BytesIO(r.content))\n"
   ]
  },
  {
   "cell_type": "code",
   "execution_count": 99,
   "id": "783cd622",
   "metadata": {},
   "outputs": [],
   "source": [
    "# z.extractall('./pretrained_word2vec')"
   ]
  },
  {
   "cell_type": "code",
   "execution_count": 100,
   "id": "2180366e",
   "metadata": {},
   "outputs": [],
   "source": [
    "# w2v_model = api.load(\"word2vec-ruscorpora-300\")"
   ]
  },
  {
   "cell_type": "markdown",
   "id": "b8c6467f",
   "metadata": {},
   "source": [
    "http://vectors.nlpl.eu/repository/"
   ]
  },
  {
   "cell_type": "code",
   "execution_count": 101,
   "id": "2c68b6e9",
   "metadata": {},
   "outputs": [],
   "source": [
    "# w2v_model = gensim.models.Word2Vec.load(\"http://vectors.nlpl.eu/repository/20/170.zip\")"
   ]
  },
  {
   "cell_type": "markdown",
   "id": "262c1d13",
   "metadata": {},
   "source": [
    "### прогнать модель на новом датасете"
   ]
  },
  {
   "cell_type": "code",
   "execution_count": 102,
   "id": "f3ae3c90",
   "metadata": {},
   "outputs": [],
   "source": [
    "path_match = './match.json'\n",
    "file_match = open(path_match)\n",
    "data_match = json.load(file_match)"
   ]
  },
  {
   "cell_type": "code",
   "execution_count": 103,
   "id": "7786ba8b",
   "metadata": {},
   "outputs": [],
   "source": [
    "match_df = pd.DataFrame(data_match)"
   ]
  },
  {
   "cell_type": "code",
   "execution_count": 104,
   "id": "b204da16",
   "metadata": {},
   "outputs": [
    {
     "data": {
      "text/html": [
       "<div>\n",
       "<style scoped>\n",
       "    .dataframe tbody tr th:only-of-type {\n",
       "        vertical-align: middle;\n",
       "    }\n",
       "\n",
       "    .dataframe tbody tr th {\n",
       "        vertical-align: top;\n",
       "    }\n",
       "\n",
       "    .dataframe thead th {\n",
       "        text-align: right;\n",
       "    }\n",
       "</style>\n",
       "<table border=\"1\" class=\"dataframe\">\n",
       "  <thead>\n",
       "    <tr style=\"text-align: right;\">\n",
       "      <th></th>\n",
       "      <th>id_rp</th>\n",
       "      <th>id_proj</th>\n",
       "      <th>name_rp</th>\n",
       "      <th>name_proj</th>\n",
       "      <th>text_rp</th>\n",
       "      <th>text_proj</th>\n",
       "      <th>need_match</th>\n",
       "    </tr>\n",
       "  </thead>\n",
       "  <tbody>\n",
       "    <tr>\n",
       "      <th>0</th>\n",
       "      <td>1000</td>\n",
       "      <td>15</td>\n",
       "      <td>АЛГОРИТМЫ БЕСПИЛОТНОГО ТРАНСПОРТА</td>\n",
       "      <td>Разработка системы движения роя дронов в прост...</td>\n",
       "      <td>Данный курс знакомит слушателей с основами упр...</td>\n",
       "      <td>Разработка системы движения роя дронов в прост...</td>\n",
       "      <td>True</td>\n",
       "    </tr>\n",
       "    <tr>\n",
       "      <th>1</th>\n",
       "      <td>1005</td>\n",
       "      <td>40</td>\n",
       "      <td>АНАЛИЗ ДАННЫХ В ИСКУССТВЕННОМ ИНТЕЛЛЕКТЕ</td>\n",
       "      <td>Роботизированная система машинного творчества ...</td>\n",
       "      <td>Освещаемые в курсе теоретические и прикладные ...</td>\n",
       "      <td>Роботизированная система машинного творчества ...</td>\n",
       "      <td>True</td>\n",
       "    </tr>\n",
       "    <tr>\n",
       "      <th>2</th>\n",
       "      <td>1009</td>\n",
       "      <td>4</td>\n",
       "      <td>РАЗРАБОТКА ПРИЛОЖЕНИЙ В РАСПРЕДЕЛЕННОЙ СРЕДЕ</td>\n",
       "      <td>Разработка модулей обработки данных для библио...</td>\n",
       "      <td>Дисциплина посвящена изучению основных принцип...</td>\n",
       "      <td>Разработка модулей обработки данных для библио...</td>\n",
       "      <td>True</td>\n",
       "    </tr>\n",
       "    <tr>\n",
       "      <th>3</th>\n",
       "      <td>1011</td>\n",
       "      <td>14</td>\n",
       "      <td>Тестирование и сопровождение программного обес...</td>\n",
       "      <td>Тестирование и документирование стенда виртуал...</td>\n",
       "      <td>Цели дисциплины охватывают ряд направлений, св...</td>\n",
       "      <td>Тестирование и документирование стенда виртуал...</td>\n",
       "      <td>True</td>\n",
       "    </tr>\n",
       "    <tr>\n",
       "      <th>4</th>\n",
       "      <td>1016</td>\n",
       "      <td>46</td>\n",
       "      <td>Интеллектуальные системы</td>\n",
       "      <td>Разработка интеллектуальных модулей обработки ...</td>\n",
       "      <td>Рассматриваются основные понятия теории интелл...</td>\n",
       "      <td>Разработка интеллектуальных модулей обработки ...</td>\n",
       "      <td>True</td>\n",
       "    </tr>\n",
       "    <tr>\n",
       "      <th>5</th>\n",
       "      <td>105</td>\n",
       "      <td>41</td>\n",
       "      <td>Системы управления манипуляторными роботами</td>\n",
       "      <td>Разработка подводного телеуправляемого робота ...</td>\n",
       "      <td>Дисциплина включает изложение основ теории ман...</td>\n",
       "      <td>Разработка подводного телеуправляемого робота ...</td>\n",
       "      <td>True</td>\n",
       "    </tr>\n",
       "    <tr>\n",
       "      <th>6</th>\n",
       "      <td>1040</td>\n",
       "      <td>26</td>\n",
       "      <td>Управление и информатика в технических системах</td>\n",
       "      <td>Программно-аппаратное конфигурирование сети ла...</td>\n",
       "      <td>В рамках данной дисциплины рассматриваются осн...</td>\n",
       "      <td>Программно-аппаратное конфигурирование сети ла...</td>\n",
       "      <td>True</td>\n",
       "    </tr>\n",
       "    <tr>\n",
       "      <th>7</th>\n",
       "      <td>1278</td>\n",
       "      <td>9</td>\n",
       "      <td>Тестирование программного обеспечения</td>\n",
       "      <td>Тестирование конфигураций на платформах: Super...</td>\n",
       "      <td>Дисциплина посвящена изучению теоретических ос...</td>\n",
       "      <td>Тестирование конфигураций на платформах: Super...</td>\n",
       "      <td>True</td>\n",
       "    </tr>\n",
       "    <tr>\n",
       "      <th>8</th>\n",
       "      <td>991</td>\n",
       "      <td>30</td>\n",
       "      <td>Машинное обучение</td>\n",
       "      <td>Разработка системы детектирования и идентифика...</td>\n",
       "      <td>Данный курс знакомит слушателей с основными ме...</td>\n",
       "      <td>Разработка системы детектирования и идентифика...</td>\n",
       "      <td>True</td>\n",
       "    </tr>\n",
       "    <tr>\n",
       "      <th>9</th>\n",
       "      <td>985</td>\n",
       "      <td>8</td>\n",
       "      <td>Основы компьютерного дизайна</td>\n",
       "      <td>Разработка ИС \"Расписание\" / \"Деканат\".</td>\n",
       "      <td>В курсе рассматриваются свойства зрительного в...</td>\n",
       "      <td>Разработка ИС \"Расписание\" / \"Деканат\". Информ...</td>\n",
       "      <td>True</td>\n",
       "    </tr>\n",
       "    <tr>\n",
       "      <th>10</th>\n",
       "      <td>998</td>\n",
       "      <td>45</td>\n",
       "      <td>Разработка в ядре Linux</td>\n",
       "      <td>Разработка САПР на основе платформы Beremiz дл...</td>\n",
       "      <td>дисциплина посвящена изучению проектирования к...</td>\n",
       "      <td>Разработка САПР на основе платформы Beremiz дл...</td>\n",
       "      <td>True</td>\n",
       "    </tr>\n",
       "  </tbody>\n",
       "</table>\n",
       "</div>"
      ],
      "text/plain": [
       "   id_rp id_proj                                            name_rp  \\\n",
       "0   1000      15                  АЛГОРИТМЫ БЕСПИЛОТНОГО ТРАНСПОРТА   \n",
       "1   1005      40           АНАЛИЗ ДАННЫХ В ИСКУССТВЕННОМ ИНТЕЛЛЕКТЕ   \n",
       "2   1009       4       РАЗРАБОТКА ПРИЛОЖЕНИЙ В РАСПРЕДЕЛЕННОЙ СРЕДЕ   \n",
       "3   1011      14  Тестирование и сопровождение программного обес...   \n",
       "4   1016      46                           Интеллектуальные системы   \n",
       "5    105      41        Системы управления манипуляторными роботами   \n",
       "6   1040      26    Управление и информатика в технических системах   \n",
       "7   1278       9              Тестирование программного обеспечения   \n",
       "8    991      30                                  Машинное обучение   \n",
       "9    985       8                       Основы компьютерного дизайна   \n",
       "10   998      45                            Разработка в ядре Linux   \n",
       "\n",
       "                                            name_proj  \\\n",
       "0   Разработка системы движения роя дронов в прост...   \n",
       "1   Роботизированная система машинного творчества ...   \n",
       "2   Разработка модулей обработки данных для библио...   \n",
       "3   Тестирование и документирование стенда виртуал...   \n",
       "4   Разработка интеллектуальных модулей обработки ...   \n",
       "5   Разработка подводного телеуправляемого робота ...   \n",
       "6   Программно-аппаратное конфигурирование сети ла...   \n",
       "7   Тестирование конфигураций на платформах: Super...   \n",
       "8   Разработка системы детектирования и идентифика...   \n",
       "9             Разработка ИС \"Расписание\" / \"Деканат\".   \n",
       "10  Разработка САПР на основе платформы Beremiz дл...   \n",
       "\n",
       "                                              text_rp  \\\n",
       "0   Данный курс знакомит слушателей с основами упр...   \n",
       "1   Освещаемые в курсе теоретические и прикладные ...   \n",
       "2   Дисциплина посвящена изучению основных принцип...   \n",
       "3   Цели дисциплины охватывают ряд направлений, св...   \n",
       "4   Рассматриваются основные понятия теории интелл...   \n",
       "5   Дисциплина включает изложение основ теории ман...   \n",
       "6   В рамках данной дисциплины рассматриваются осн...   \n",
       "7   Дисциплина посвящена изучению теоретических ос...   \n",
       "8   Данный курс знакомит слушателей с основными ме...   \n",
       "9   В курсе рассматриваются свойства зрительного в...   \n",
       "10  дисциплина посвящена изучению проектирования к...   \n",
       "\n",
       "                                            text_proj  need_match  \n",
       "0   Разработка системы движения роя дронов в прост...        True  \n",
       "1   Роботизированная система машинного творчества ...        True  \n",
       "2   Разработка модулей обработки данных для библио...        True  \n",
       "3   Тестирование и документирование стенда виртуал...        True  \n",
       "4   Разработка интеллектуальных модулей обработки ...        True  \n",
       "5   Разработка подводного телеуправляемого робота ...        True  \n",
       "6   Программно-аппаратное конфигурирование сети ла...        True  \n",
       "7   Тестирование конфигураций на платформах: Super...        True  \n",
       "8   Разработка системы детектирования и идентифика...        True  \n",
       "9   Разработка ИС \"Расписание\" / \"Деканат\". Информ...        True  \n",
       "10  Разработка САПР на основе платформы Beremiz дл...        True  "
      ]
     },
     "execution_count": 104,
     "metadata": {},
     "output_type": "execute_result"
    }
   ],
   "source": [
    "match_df"
   ]
  },
  {
   "cell_type": "code",
   "execution_count": 105,
   "id": "3278fdba",
   "metadata": {},
   "outputs": [],
   "source": [
    "match_df['prepr_text_proj'] = match_df.apply(lambda row: preprocess(row['text_proj'], punctuation_marks, stop_words, morph), axis=1)"
   ]
  },
  {
   "cell_type": "code",
   "execution_count": 106,
   "id": "aa3e6ca3",
   "metadata": {},
   "outputs": [],
   "source": [
    "match_df['prepr_text_rp'] = match_df.apply(lambda row: preprocess(row['text_rp'], punctuation_marks, stop_words, morph), axis=1)"
   ]
  },
  {
   "cell_type": "code",
   "execution_count": 125,
   "id": "9e1f40fa",
   "metadata": {},
   "outputs": [
    {
     "name": "stdout",
     "output_type": "stream",
     "text": [
      "4733\n"
     ]
    }
   ],
   "source": [
    "print(data_df_preprocessed['preprocessed_texts'].size)"
   ]
  },
  {
   "cell_type": "code",
   "execution_count": 162,
   "id": "cbb1db3d",
   "metadata": {},
   "outputs": [],
   "source": [
    "train_part = data_df_preprocessed['preprocessed_texts']\n",
    "# train_part = pd.concat([data_df_preprocessed['preprocessed_texts'][:200], data_df_preprocessed['preprocessed_texts'][500:1000]], axis=0)\n",
    "# train_part"
   ]
  },
  {
   "cell_type": "code",
   "execution_count": 163,
   "id": "2fd0125e",
   "metadata": {},
   "outputs": [],
   "source": [
    "model = gensim.models.Word2Vec(sentences=train_part, min_count=5, vector_size=50)"
   ]
  },
  {
   "cell_type": "code",
   "execution_count": 170,
   "id": "da2a0d95",
   "metadata": {},
   "outputs": [
    {
     "name": "stdout",
     "output_type": "stream",
     "text": [
      "['данный', 'курс', 'знакомить', 'слушатель', 'основа', 'управление', 'беспилотный', 'автомобиль', 'рассматриваться', 'основной', 'компонент', 'такой', 'сиcтема', 'модель', 'метод', 'восприятие', 'информация', 'помощь', 'сенсор', 'человеко-машинный', 'интерфейс', ';', 'метод', 'определение', 'собственный', 'положение', 'известный', 'неизвестный', 'карта', ';', 'метод', 'планирование', 'путь', 'число', 'граф', 'граф', ';', 'фреймворк', 'подходящий', 'разработка', 'собственный', 'решение', 'беспилотный', 'транспортный', 'средство', 'данный', 'курс', 'знакомить', 'уровень', 'автономность', 'беспилотный', 'средство', 'основа', 'машинный', 'обучение', 'число', 'помощь', 'нейросеть', 'операционный', 'система', 'robot', 'operating', 'system', 'являться', 'стандартный', 'решение', 'многий', 'робот', 'число', 'автомобиль', 'курс', 'позволять', 'освоить', 'основной', 'приём', 'программирование', 'ros', 'алгоритм', 'локализация', 'построение', 'карта', 'slam', 'алгоритм', 'машинный', 'зрение', 'сформировать', 'обучаться', 'знание', 'умение', 'навык', 'обоснованный', 'результативный', 'применение', 'существующий', 'метод', 'модель', 'также', 'алгоритм', 'управление', 'беспилотный', 'автомобиль', 'другой', 'автономный', 'интеллектуальный', 'система', 'обучить', 'применение', 'существующий', 'также', 'освоение', 'новый', 'метод', 'модель', 'беспилотный', 'транспорт', 'дать', 'знание', 'существующий', 'метод', 'алгоритм', 'беспилотный', 'транспорт', 'также', 'методология', 'построение', 'система', 'беспилотный', 'транспорт', 'дать', 'умение', 'разрабатывать', 'алгоритм', 'беспилотный', 'транспорт', 'применять', 'метод', 'компьютерный', 'зрение', 'машинный', 'обучение', 'решение', 'задача', 'беспилотный', 'транспорт', 'привить', 'навык', 'разработка', 'анализ', 'алгоритм', 'автономный', 'движение', 'наблюдение', 'окружающий', 'мир', 'фильтрация', 'данные', 'идз', 'заключаться', 'аналитический', 'поиск', 'необходимый', 'информация', 'решение', 'поставить', 'задача', 'решение', 'развернуть', 'описание', 'решение', 'источник', 'информация', 'являться', 'лекция', 'основный', 'дополнительный', 'литература', 'интернет-источник', 'задание', 'идз', 'выдаваться', 'начало', 'семестр', 'отчёт', 'идз', 'оформляться', 'соответствие', 'требование', 'отчёт', 'лабораторный', 'работа', 'привести', 'сайт', 'спбгэта', '``', 'лэти', \"''\", 'раздел', '``', 'шаблон', 'оформление', 'студенческий', 'работа', \"''\", 'объём', 'отчёт', 'менее', '5', 'страница', 'формат', 'а4', 'отчёт', 'представляться', 'электронный', 'вид', 'примерный', 'тема', 'идз', 'разработать', 'приложение', 'основать', 'применение', 'ros', 'обрабатывать', 'дать', 'лазерный', 'дальномер', 'разработать', 'модифицировать', 'алгоритм', 'slam', 'решение', 'задача', 'одновременный', 'локализация', 'построение', 'карта', 'разработать', 'модифицировать', 'алгоритм', 'семантический', 'сегментация', 'изображение', 'помощь', 'нейросеть', 'разработать', 'алгоритм', 'движение', 'беспилотный', 'автомобиль', 'экзаменационный', 'билет', '№', '1', 'дисциплина', 'алгоритм', 'беспилотный', 'транспорт', '1.', 'локализация', 'известный', 'карта', 'структура', 'данные', 'хранение', 'карта', 'память', '2.', 'скан', 'матчер', 'основа', 'стохастический', 'поиск', 'достоинство', 'недостаток', 'область', 'применение', 'утверждать', 'заведовать', 'кафедра', 'введение', 'общий', 'сведение', 'автономный', 'интеллектуальный', 'система', 'беспилотный', 'автомобиль', 'задача', 'решать', 'беспилотный', 'автомобиль', 'уровень', 'автоматизация', 'беспилотный', 'автомобиль', 'датчик', 'сенсор', 'стек', 'алгоритм', 'выполнять', 'беспилотный', 'автомобиль', 'введение', 'robot', 'operating', 'system', 'назначение', 'ros', 'место', 'ros', 'беспилотный', 'автомобиль', 'программный', 'единица', 'ros', 'метод', 'взаимодействие', 'программный', 'единица', 'разработка', 'собственный', 'приложение', 'использовать', 'ros', 'программирование', 'использование', 'ros', 'подготовка', 'cmake', 'файл', 'xml-файл', 'параметр', 'запуск', 'готовый', 'приложение', 'компиляция', 'сборка', 'приложение', 'ros', 'структура', 'рабочий', 'каталог', 'разработка', 'запуск', 'логгирование', 'собственный', 'приложение', 'использование', 'пакет', 'поставлять', 'ros', 'визуализация', 'граф', 'взаимодействие', 'программный', 'модуль', 'ros', 'назначение', 'применение', 'пакет', 'ros', 'упрощение', 'разработка', 'назначение', 'применение', 'пакет', 'tf', 'использование', 'сгенерировать', 'исходный', 'код', 'инструмент', 'визуализация', 'отладка', 'приложение', 'использовать', 'ros', 'пакет', 'rviz', 'семейство', 'пакет', 'rqt', 'пакет', 'rqt_graph', 'пакет', 'gazebo', 'настройка', 'файл', 'лог', 'отладка', 'средство', 'ros', 'многопоточность', 'ros', 'введение', 'машинный', 'обучение', 'обучение', 'учитель', 'задача', 'классификация', 'регрессия', 'обучение', 'учитель', 'кластеризация', 'нейронный', 'сеть', 'понятие', 'нейрон', 'перцептрон', 'простой', 'нейронный', 'сеть', 'слой', 'нейронный', 'сеть', 'применение', 'нейронный', 'сеть', 'нейронный', 'сеть', 'прямой', 'распределение', 'перцепторный', 'полносвязный', 'сеть', 'нейронный', 'сеть', 'хопфилд', 'свёрточный', 'нейронный', 'сеть', 'развёртывать', 'нейронный', 'сеть', 'классификация', 'кластеризация', 'изображение', 'помощь', 'нейронный', 'сеть', 'нейросеть', 'кохонить', 'функционирование', 'сеть', 'современный', 'модификация', 'свёрточный', 'нейросеть', 'задача', 'кластеризация', 'недостаток', 'ускорение', 'работа', 'синтетический', 'дать', 'обучение', 'задача', 'фильтрация', 'данные', 'постановка', 'задача', 'фильтрация', 'рекурсивный', 'фильтр', 'модель', 'комплексирование', 'априорный', 'апостериорный', 'оценка', 'расширить', 'фильтр', 'калман', 'матричный', 'линеаризация', 'фильтр', 'калман', 'старение', 'задача', 'одновременный', 'локализация', 'построение', 'карта', 'slam', 'постановка', 'задача', 'slam', 'решение', 'база', 'фильтр', 'калман', 'фильтр', 'частица', 'fastslam', 'gmappnig', 'scan', 'matching', 'графовыя', 'подход', 'метод', 'оценка', 'качество', 'slam', 'алгоритм', 'применение', 'slam', 'задача', 'беспилотный', 'автомобиль', 'метод', 'представление', 'хранение', 'карта', 'карта', 'ekf', 'slam', 'сетка', 'занятость', 'деталь', 'реализация', 'графовый', 'алгоритм', 'slam', 'определение', 'замыкание', 'цикл', 'граф', 'метод', 'визуализация', 'карта', 'ros', 'метод', 'оценка', 'качество', 'построить', 'карта', 'задача', 'построение', 'путь', 'задача', 'поиск', 'путь', 'граф', 'алгоритм', 'дейкстра', '*', 'метод', 'построение', 'путь', 'неизвестный', 'карта', 'локальный', 'планировщик', 'путь', 'pid-регулятор', 'синергия', 'глобальный', 'локальный', 'планировщик', 'duckietown', 'модель', 'город', 'беспилотный', 'автомобиль', 'назначение', 'duckietown', 'описание', 'составной', 'часть', 'робот', 'duckiebot', 'компонент', 'робот', 'автомат', 'состояние', 'ducketown', 'применение', 'duckietown', 'качество', 'модель', 'беспилотный', 'транспорт', 'автоматизация', 'движение', 'проложить', 'маршрут', 'симулятор', 'duckietown', 'датчик', 'duckiebot', 'применение', 'алгоритм', 'slam', 'duckietown', 'построение', 'маршрут', 'duckietown', 'симулятор', 'duckitown', 'запуск', 'компонент', 'беспилотный', 'автомобиль', 'симулятор', 'заключение', 'обсуждение', 'состояние', 'прикладной', 'технология', 'автопилотировать', 'транспортный', 'средство', 'близкий', 'год']\n",
      "->\n",
      "['разработка', 'система', 'движение', 'рой', 'дрон', 'пространство', 'объект', 'исследование', 'движение', 'рой', 'предмет', 'исследование', 'безопасность', 'движение', 'каждый', 'участник', 'рой', 'штатный', 'случай', 'цель', 'обеспечить', 'безопасность', 'каждый', 'участник', 'рой', 'дрон', 'время', 'выполнение', 'иной', 'задача', 'выполнение', 'который', 'предполагаться', 'привлечение', 'несколько', 'дрон', 'проблема', 'обеспечивать', 'каждый', 'дрон', 'самостоятельный', 'система', 'препятствие', 'формулировка', 'задача', 'необходимо', 'сформулировать', 'аппаратный', 'программный', 'конфигурация', 'рой', 'дрон', 'процесс', 'выполнение', 'задача', 'привлечение', 'рой', 'обеспечиваться', 'безопасность', 'каждый', 'участник', 'рой', 'индивидуально', 'групповой', 'формулирование', 'аппаратный', 'часть', 'подразумевать', 'ответ', 'вопрос', 'сколько', 'дрон', 'рой', 'какой', 'датчик', 'должный', 'достижение', 'тот', 'иной', 'показатель', 'эффективность', 'формирование', 'программный', 'конфигурация', 'подразумевать', 'реализация', 'алгоритм', 'действие', 'штатный', 'ситуация', 'обеспечение', 'безопасность', 'рой', 'обязательно', 'должный', 'знать', 'язык', 'программирование', 'с++', 'java', 'python', ';', 'уметь', 'работать', 'команда', 'желательно', 'должный', 'знать', 'математический', 'теория', 'граф', 'алгоритм', 'дейкстра', '*', ';', 'владеть', 'английский', 'язык', 'достаточный', 'чтение', 'стать', 'результат', 'получить', 'знание', 'математический', 'основа', 'движение', 'дрон', 'рой', 'алгоритм', 'машинный', 'обучение', ';', 'умение', 'проведение', 'научный', 'исследование', 'прикладной', 'создание', 'программный', 'фреймворк', ';', 'опыт', 'работа', 'предприятие', 'условие', 'проект', 'близкий', 'реальный', 'сформировать', 'список', 'метод', 'безопасный', 'роевой', 'движение', '1.сформировать', 'список', 'метод', 'безопасный', 'роевой', 'движение', 'создать', 'framework', 'позволять', 'решать', 'задача', 'идентификация', 'несколько', 'метод', 'framework', 'позволять', 'решать', 'задача', 'идентификация', 'несколько', 'метод', 'сформировать', 'критерий', 'сравнение', 'алгоритм', '1.сформировать', 'критерий', 'сравнение', 'алгоритм', 'сравнить', 'запрограммировать', 'алгоритм', 'выбрать', 'критерий', 'запрограммировать', 'алгоритм', 'выбрать', 'критерий']\n",
      "0.8103672862052917\n",
      "-----------------------------------\n",
      "['освещать', 'курс', 'теоретический', 'прикладной', 'вопрос', 'полезный', 'студент', 'специализироваться', 'область', 'управление', 'информационный', 'технология', 'технический', 'система', 'компьютерный', 'математический', 'моделирование', 'курс', 'даваться', 'основа', 'data', 'science', 'включать', 'вопрос', 'сбор', 'хранение', 'подготовка', 'данные', 'выявление', 'аномалия', 'сырой', 'данные', 'очистка', 'данные', 'шум', 'дополнение', 'данные', 'заполнение', 'удаление', 'пропустить', 'значение', 'классификация', 'кластеризация', 'поиск', 'ассоциативный', 'правило', 'интерполяция', 'экстраполяция', 'аппроксимация', 'корреляционный', 'регрессионный', 'анализ', 'искусственный', 'интеллект', 'машинный', 'обучение', 'нейронный', 'сеть', 'сверточный', 'нейронный', 'сеть', 'кроме', 'курс', 'рассматриваться', 'современный', 'вычислительный', 'база', 'контекст', 'решение', 'задача', 'data', 'science', 'cuda', 'gpu', 'fpga', 'soc', 'уделяться', 'внимание', 'решение', 'практический', 'задача', 'использование', 'современный', 'средство', 'matlab', 'python', 'r', 'gpu', 'цель', 'дисциплина', 'изучение', 'математический', 'модель', 'метод', 'алгоритм', 'анализ', 'данные', 'искусственный', 'интеллект', 'приобретение', 'навык', 'применение', 'профессиональный', 'деятельность', 'навык', 'выбирать', 'применять', 'метод', 'сбор', 'извлечение', 'знание', 'формирование', 'знание', 'умение', 'необходимый', 'решение', 'задача', 'область', 'анализ', 'данные', 'искусственный', 'интеллект', 'использование', 'современный', 'вычислительный', 'база', 'приобретение', 'теоретический', 'знание', 'область', 'анализ', 'данные', 'искусственный', 'интеллект', 'умение', 'использование', 'современный', 'вычислительный', 'база', 'решение', 'задача', 'область', 'анализ', 'данные', 'искусственный', 'интеллект', 'выбирать', 'разрабатывать', 'программный', 'компонент', 'система', 'искусственный', 'интеллект', 'ставить', 'задача', 'разработка', 'совершенствование', 'метод', 'алгоритм', 'решение', 'комплекс', 'задача', 'предметный', 'область', 'получение', 'практический', 'навык', 'использование', 'современный', 'вычислительный', 'база', 'решение', 'задача', 'область', 'искусственный', 'интеллект', 'контрольный', 'работа', 'проводиться', 'вид', 'тестирование', 'сигнал', 'определённый', 'фиксировать', 'задать', 'момент', 'время', 'являться', 'непрерывный', 'состояние', 'называться', '1.', 'дискретный', 'сигнал', '2.', 'аналоговый', 'сигнал', '3.', 'цифровой', 'сигнал', 'реакция', 'система', 'цифровой', 'единичный', 'импульс', 'нулевой', 'начальный', 'условие', 'называться', '1.', 'переходной', 'характеристика', '2.', 'импульсный', 'характеристика', '3.', 'амплитудно-частотный', 'характеристика', 'растекание', 'спектр', '–', 'это', '1.', 'появление', 'дополнительный', 'составлять', 'спектральный', 'состав', 'последовательность', 'вычисление', 'дпф', '2.', 'повышение', 'частота', 'следование', 'спектральный', 'линия', 'уменьшение', 'период', 'дискретизация', 'частота', 'счёт', 'дополнение', 'последовательность', 'нуль', '3.', 'расширение', 'спектр', 'счёт', 'умножение', 'сигнал', 'специальный', 'расширять', 'последовательность', 'фильтр', 'пропускать', 'спектральный', 'составлять', 'сигнал', 'задать', 'полоса', 'частота', 'подавлять', 'спектральный', 'составлять', 'сигнал', 'предел', 'дать', 'полоса', 'называться', '1.', 'фильтр', 'нижний', 'частота', '2.', 'полосно-пропускающий', 'полосовой', 'фильтр', '3.', 'режекторный', 'фильтр', 'указать', 'задача', 'решаться', 'использование', 'обратный', 'идентификация', 'адаптивный', 'фильтр', '1.', 'оценивание', 'импульсный', 'характеристика', 'неизвестный', 'система', '2.', 'очистка', 'сигнал', 'шум', '3.', 'компенсация', 'искажение', 'вносить', 'неизвестный', 'система', 'сигнал', 'определённый', 'фиксировать', 'задать', 'момент', 'время', 'являться', 'квантовать', 'состояние', 'называться', '1.', 'дискретный', 'сигнал', '2.', 'аналоговый', 'сигнал', '3.', 'цифровой', 'сигнал', 'реакция', 'система', 'цифровой', 'единичный', 'скачок', 'нулевой', 'начальный', 'условие', 'называться', '1.', 'переходной', 'характеристика', '2.', 'импульсный', 'характеристика', '3.', 'амплитудно-частотный', 'характеристика', 'фильтр', 'подавлять', 'спектральный', 'составлять', 'сигнал', 'задать', 'полоса', 'частота', 'пропускать', 'спектральный', 'составлять', 'сигнал', 'предел', 'дать', 'полоса', 'называться', '1.', 'фильтр', 'верхний', 'частота', '2.', 'полосно-пропускающий', 'полосовой', 'фильтр', '3.', 'режекторный', 'фильтр', 'изменение', 'частота', 'дискретизация', 'сигнал', 'число', 'называться', '1.', 'интерполяция', '2.', 'децимация', '3.', 'передискретизация', 'сигнал', 'непрерывный', 'время', 'состояние', 'называться', '1.', 'дискретный', 'сигнал', '2.', 'аналоговый', 'сигнал', '3.', 'цифровой', 'сигнал', 'asic', '–', 'это', '1.', 'класс', 'плис', '2.', 'плис', '3.', 'заказной', 'микросхема', 'основа', 'программировать', 'логика', 'открытый', 'стандарт', 'написание', 'программа', 'gpu', 'настоящий', 'время', 'являться', '1.', '2.', 'c++', '3.', 'java', 'именно', 'два', 'фирма', 'являться', 'мировой', 'лидер', 'производство', 'плис', '1.', 'intel', 'fpga', 'altera', 'atmel', '2.', 'intel', 'fpga', 'altera', 'xilinx', '3.', 'xilinx', 'atmel', 'именно', 'это', 'семейство', 'плис', 'фирма', 'intel', 'fpga', 'altera', 'относиться', 'soc', '1.', '2.', '3.', 'семейство', 'плис', 'фирма', 'intel', 'fpga', 'altera', 'относиться', 'следующий', '1.', '2.', '3.', 'такой', 'разрядность', 'иметь', 'dsp', 'блок', 'fpga', 'фирма', 'intel', 'fpga', 'altera', '1', '2', '3', 'помимо', 'фирма', 'nvidia', 'технология', 'распределённый', 'вычисление', 'графический', 'процессор', 'фирма', '1.', 'intel', '2.', 'amd', '3.', 'apple', 'барьер', 'группа', 'процесс', 'поток', 'означать', '1.', 'каждый', 'поток', 'процесс', 'должный', 'точка', 'достижение', 'барьер', 'весь', 'поток', 'процесс', 'группа', '2.', 'выполнение', 'программа', 'далёкий', 'невозможно', '3.', 'поток', 'барьер', 'объединяться', 'ide', 'среда', 'фирма', 'intel', 'fpga', 'altera', 'проектирование', 'плис', 'называться', '1.', '2.', '3.', 'утилита', 'среда', 'отладка', 'реальный', 'время', 'называться', '1.', '2.', '3.', 'билет', 'содержать', '2', 'теоретический', 'вопрос', 'список', 'каждый', 'группа', '\\xad', '1', 'вопрос', 'введение', 'искусственный', 'интеллект', 'машинный', 'обучение', 'общий', 'постановка', 'задача', 'обучение', 'прецедент', 'типология', 'обучение', 'задача', 'прецедент', 'бустинг', 'бэггинга', 'область', 'применение', 'ия', 'искусственный', 'интеллект', 'машинный', 'обучение', 'подготовить', 'дать', 'моделирование', '5', 'операция', 'data', 'preparation', 'почему', 'нужно', 'готовить', 'дать', 'моделирование', 'data', 'готовить', 'дать', 'метод', 'средство', 'data', 'preparation', 'отобрать', 'нужно', 'data', 'mining', 'сформировать', 'датасет', 'машинный', 'обучение', 'такой', 'датасет', 'data', 'mining', 'состоять', 'искать', 'датасет', 'какой', 'бывать', 'dataset', 'тип', 'выборка', 'сформировать', 'выборка', 'data', 'mining', 'нужный', 'очистка', 'данные', 'data', 'mining', '10', 'главный', 'проблема', 'подготовка', 'датасет', 'способ', 'решение', 'такой', 'очистка', 'данные', 'data', 'mining', 'больший', 'дать', 'data', 'дать', 'деталь', 'фаза', 'data', 'preparation', 'это', 'генерация', 'признак', 'data', 'mining', 'признак', 'data', 'mining', 'определение', 'вид', 'проходить', 'генерация', 'признак', '3', 'задача', 'этап', 'data', 'mining', 'способ', 'preparation', 'полёт', 'нормальный', '–', 'такой', 'нормализация', 'данные', 'нужный', 'сбор', 'хранение', 'подготовка', 'данные', 'дополнение', 'данные', 'заполнение', 'удаление', 'пропустить', 'значение', 'сырой', 'дать', 'выброс', 'причина', 'выброс', 'определение', 'выброс', 'выброс', 'i.', 'гистограмма', 'ящик', 'ус', 'критерий', 'шовена', 'критерий', 'критерий', 'пирс', 'критерий', 'диксон', 'правило', '3', 'сигма', 'критерий', 'выброс', 'ii', 'статистический', 'тест', 'модельный', 'тест', 'итерационный', 'метод', 'метрический', 'метод', 'метод', 'задача', 'метод', 'машинный', 'обучение', 'ансамбль', 'алгоритм', 'алгоритм', 'очистка', 'сигнал', 'шум', 'преобразование', 'фурье', 'фильтр', 'винера', 'алгоритм', 'mode', 'алгоритм', 'очистка', 'изображение', 'шум', 'типовой', 'шум', 'вид', 'шум', 'аналоговый', 'цифровой', 'метод', 'шумоподавление', 'пространственный', 'временной', 'качество', 'шумоподавление', 'метрика', 'качество', 'фильтр', 'медианный', 'фильтр', 'гауссовский', 'фильтр', 'фильтр', 'алгоритм', 'подготовка', 'данные', 'выявление', 'аномалия', 'сырой', 'данные', 'очистка', 'данные', 'шум', 'задача', 'классификация', 'тип', 'входной', 'данные', 'тип', 'класс', 'область', 'применение', 'формальный', 'постановка', 'задача', 'алгоритм', 'классификация', 'метод', 'близкий', 'сосед', 'байесовский', 'классификатор', 'дерево', 'решение', 'классификация', 'задача', 'кластеризация', 'тип', 'входной', 'данные', 'цель', 'кластеризация', 'функция', 'расстояние', 'формальный', 'постановка', 'задача', 'алгоритм', 'кластеризация', 'метод', 'метод', 'генетический', 'алгоритм', 'кластеризация', 'задача', 'поиск', 'ассоциативный', 'правило', 'формальный', 'постановка', 'задача', 'концепция', 'процесс', 'построение', 'ассоциативный', 'правило', 'алгоритм', 'поиск', 'ассоциативный', 'правило', 'поиск', 'ассоциативный', 'правило', 'аппроксимация', 'постановка', 'задача', 'метод', 'малый', 'квадрат', 'линейный', 'аппроксимация', 'логарифмический', 'аппроксимация', 'экспоненциальный', 'аппроксимация', 'степенной', 'аппроксимация', 'интерполяция', 'постановка', 'задача', 'локальный', 'глобальный', 'интерполяция', 'интерполяционный', 'многочлен', 'лагранж', 'интерполяционный', 'многочлен', 'ньютон', 'экстраполяция', 'временной', 'ряд', 'компонент', 'временной', 'ряд', 'объединение', 'компонент', 'временной', 'ряд', 'оценка', 'тренд', 'вид', 'функциональный', 'зависимость', 'выделение', 'тренд', 'метод', 'скользящий', 'среднее', 'метод', 'экспоненциальный', 'сглаживание', 'прогнозирование', 'двойной', 'экспоненциальный', 'сглаживание', 'метод', 'качество', 'прогнозирование', 'аппроксимация', 'интерполяция', 'экстраполяция', 'временной', 'ряд', 'тренд', 'шум', 'прогнозирование', 'аппроксимация', 'постановка', 'задача', 'метод', 'малый', 'квадрат', 'линейный', 'аппроксимация', 'логарифмический', 'аппроксимация', 'экспоненциальный', 'аппроксимация', 'степенной', 'аппроксимация', 'интерполяция', 'постановка', 'задача', 'локальный', 'глобальный', 'интерполяция', 'интерполяционный', 'многочлен', 'лагранж', 'интерполяционный', 'многочлен', 'ньютон', 'экстраполяция', 'временной', 'ряд', 'компонент', 'временной', 'ряд', 'объединение', 'компонент', 'временной', 'ряд', 'оценка', 'тренд', 'вид', 'функциональный', 'зависимость', 'выделение', 'тренд', 'метод', 'скользящий', 'среднее', 'метод', 'экспоненциальный', 'сглаживание', 'прогнозирование', 'двойной', 'экспоненциальный', 'сглаживание', 'метод', 'качество', 'прогнозирование', 'корреляционный', 'анализ', 'регрессия', 'регрессионный', 'анализ', 'линейный', 'регрессия', 'нелинейный', 'регрессия', 'анализ', 'такой', 'нейронный', 'сеть', 'нс', 'хронология', 'классификация', 'нс', 'этап', 'решение', 'задача', 'область', 'применение', 'нс', 'структура', 'нейрон', 'синапс', 'принцип', 'работа', 'нс', 'функция', 'активация', 'обучение', 'валидация', 'тестирование', 'итерация', 'эпоха', 'ошибка', 'нейрон', 'смещение', 'обучение', 'нс', 'градиентный', 'спуск', 'метод', 'обратный', 'распространение', 'гиперпараметр', 'переобучение', 'нейронный', 'сеть', 'сверточный', 'нейронный', 'сеть', 'снс', 'архитектура', 'снс', 'слой', 'свёртка', 'слой', 'активация', 'пулинга', 'слой', 'полносвязный', 'нс', 'обучение', 'снс', 'преимущество', 'снс', 'недостаток', 'снс', 'сверточный', 'нейронный', 'сеть', 'цифровой', 'процессор', 'обработка', 'сигнал', 'графический', 'процессор', 'gpu', 'программировать', 'логический', 'интегральный', 'схема', 'плис', 'технология', 'кристалл', 'soc', 'язык', 'математический', 'научный', 'расчёт', 'matlab', 'python', 'r']\n",
      "->\n",
      "['роботизированный', 'система', 'машинный', 'творчество', 'комплексный', 'проект', 'область', 'робототехника', 'искусственный', 'интеллект', 'исследование', 'область', 'компьютерный', 'творчество', 'computer', 'генерация', 'художественный', 'изображение', 'помощь', 'ввести', 'растровый', 'свободный', 'генерация', 'изображение', 'задать', 'художественный', 'стиль', 'переход', 'растровый', 'изображение', 'векторный', 'карта', 'исследование', 'область', 'машинный', 'зрение', 'разработка', 'система', 'обратный', 'связь', 'разработка', 'конструкция', 'художественный', 'робот', 'различный', 'архитектура', 'проведение', 'художественный', 'тест', 'тьюринг', 'формат', 'выставка', 'картина', 'базовый', 'знание', 'программирование', 'matlab', 'коммуникабельность', 'высокий', 'социализация', 'знать', 'основа', 'аналоговый', 'цифровой', 'схемотехник', 'метод', 'обработка', 'изображение', 'навык', 'работа', 'монтаж', 'навык', 'работа', 'генеративный', 'нейронный', 'сеть', 'знание', 'область', 'современный', 'робототехника', 'аддитивный', 'технология', 'знание', 'область', 'алгоритм', 'цифровой', 'обработка', 'изображение', 'опыт', 'проектирование', 'аддитивный', 'установка']\n",
      "0.7638896703720093\n",
      "-----------------------------------\n",
      "['дисциплина', 'посвятить', 'изучение', 'основный', 'принцип', 'распределённый', 'система', 'теоретический', 'часть', 'курс', 'рассматриваться', 'вопрос', 'взаимодействие', 'синхронизация', 'процесс', 'достижение', 'непротиворечивость', 'реплицировать', 'данные', 'обеспечение', 'отказоустойчивость', 'распределённый', 'система', 'процесс', 'освоение', 'дисциплина', 'формироваться', 'практический', 'навык', 'разработка', 'распределённый', 'приложение', 'объектно-ориентированный', 'язык', 'программирование', 'java', 'использование', 'различный', 'модель', 'взаимодействие', 'процессов.', 'цель', 'дисциплина', 'являться', 'изучение', 'принцип', 'распределённый', 'система', 'формирование', 'практический', 'навык', 'разработка', 'распределённый', 'приложение', 'использование', 'различный', 'модель', 'взаимодействие', 'процесс', 'получение', 'теоретический', 'знание', 'область', 'взаимодействие', 'синхронизация', 'процесс', 'достижение', 'непротиворечивость', 'реплицировать', 'данные', 'обеспечение', 'отказоустойчивость', 'распределённый', 'система', 'формирование', 'практический', 'навык', 'разработка', 'распределённый', 'приложение', 'объектно-ориентированный', 'язык', 'программирование', 'java', 'освоение', 'подход', 'построение', 'архитектура', 'распределённый', 'приложение', 'знание', 'принцип', 'построение', 'распределённый', 'система', ';', 'метод', 'инструментальный', 'средство', 'система', 'искусственный', 'интеллект', 'критерий', 'выбор', 'метод', 'комплексирование', ';', 'основный', 'критерий', 'эффективность', 'качество', 'функционирование', 'система', 'искусственный', 'интеллект', ';', 'метод', 'язык', 'программный', 'средство', 'разработка', 'программный', 'компонент', 'система', 'искусственный', 'интеллект', 'умение', 'разрабатывать', 'распределённый', 'приложение', ';', 'выбирать', 'применять', 'интегрировать', 'метод', 'инструментальный', 'средство', 'система', 'искусственный', 'интеллект', 'критерий', 'выбор', 'метод', 'комплексирование', ';', 'выбирать', 'адаптировать', 'разрабатывать', 'интегрировать', 'программный', 'компонент', 'система', 'искусственный', 'интеллект', 'учёт', 'основный', 'критерий', 'эффективность', 'качество', 'функционирование', 'навык', 'использование', 'интегрировать', 'среда', 'разработка', 'процесс', 'создание', 'распределённый', 'приложение', 'введение', 'предмет', 'дисциплина', 'задача', 'исторический', 'справка', 'развитие', 'распределённый', 'система', 'значение', 'развитие', 'направление', 'искусственный', 'интеллект', 'структура', 'содержание', 'дисциплина', 'характеристика', 'литературный', 'источник', 'модель', 'взаимодействие', 'процесс', 'распределённый', 'система', 'поток', 'процесс', 'модель', 'взаимодействие', 'процесс', 'удалённый', 'обращение', 'метод', 'система', 'очередь', 'сообщение', 'пример', 'использование', 'удалённый', 'обращение', 'метод', 'практика', 'тип', 'процесс', 'распределённый', 'система', 'внутренний', 'организация', 'процесс', 'многопоточный', 'технология', 'модель', 'клиент-сервер', 'организация', 'вариант', 'миграция', 'программа', 'процесс', 'машина', 'машина', 'способ', 'использование', 'имя', 'распределённый', 'система', 'имя', 'сущность', 'организация', 'доступ', 'сущность', 'пространство', 'имя', 'разрешение', 'имя', 'реализация', 'система', 'именование', 'сервер', 'имя', 'пример', 'существующий', 'реализация', 'пространство', 'имя', 'мобильный', 'сущность', 'подход', 'локализация', 'организация', 'имя', 'взаимодействие', 'сущность', 'именование', 'локализация', 'механизм', 'автоматический', 'удаление', 'сущность', 'синхронизация', 'процесс', 'распределённый', 'система', 'синхронизация', 'основа', 'реальный', 'время', 'синхронизация', 'один', 'относительный', 'параметр', 'упорядочивание', 'определение', 'распределённый', 'глобальный', 'состояние', 'запись', 'процесс', 'синхронизация', 'алгоритм', 'голосование', 'распределённый', 'взаимный', 'исключение', 'распределённый', 'транзакция', 'классификация', 'реализация', 'реплицировать', 'дать', 'распределённый', 'система', 'понятие', 'репликация', 'данные', 'реплицировать', 'объект', 'непротиворечивость', 'реплицировать', 'данные', 'способ', 'достижение', 'непротиворечивость', 'данные', 'распределённый', 'система', 'модель', 'непротиворечивость', 'данные', 'распределённый', 'система', 'разделять', 'память', 'реализация', 'модель', 'непротиворечивость', 'распространение', 'обновление', 'поддержание', 'непротиворечивость', 'реплика', 'заключение', 'основной', 'направление', 'дальнейший', 'развитие', 'практический', 'использование', 'распределённый', 'система', 'технология', 'искусственный', 'интеллект']\n",
      "->\n",
      "['разработка', 'модуль', 'обработка', 'данные', 'библиотека', 'алгоритм', 'федеративный', 'обучение', 'fl4j', 'разработка', 'фреймворк', 'алгоритм', 'федеративный', 'обучение', 'предназначить', 'выполнение', 'анализ', 'данные', 'машинный', 'обучение', 'распределённый', 'источник', 'данные', 'передача', 'центр', 'обработка', 'технология', 'предложить', '2017', 'год', 'google', 'inc', 'предназначить', 'обучение', 'больший', 'данные', 'условие', 'дать', 'мочь', 'передаваться', 'облако', 'причина', 'плохой', 'связь', 'данные', 'настоящий', 'время', 'технология', 'активно', 'развиваться', 'появляться', 'множество', 'библиотека', 'язык', 'python', 'fate', 'tensorflow', 'др.', 'разработать', 'спбгэта', '``', 'лэти', \"''\", 'библиотека', 'fl4j', 'federated', 'learning', 'for', 'java', 'написать', 'язык', 'java', 'позволять', 'реализовать', 'алгоритм', 'машинный', 'обучение', 'выполнение', 'федеративный', 'режим', 'подключать', 'другой', 'библиотека', 'например', 'библиотека', 'алгоритм', 'глубокий', 'обучение', 'данный', 'проект', 'требоваться', 'разработка', 'разработка', 'модуль', 'чтение', 'данные', 'разный', 'формат', ';', 'доработка', 'модуль', 'обработка', 'данные', 'нормализация', 'пропустить', 'значение', 'т.п', ';', 'модуль', 'преобразование', 'набор', 'данных.', 'обязательно', 'должный', 'знать', 'принцип', 'ооп', 'язык', 'программирование', 'java', 'уметь', 'программировать', 'java', 'желательно', 'должный', 'знать', 'работа', 'файл', 'бд', 'уметь', 'работать', 'файл', 'разный', 'формат', 'excel', 'json', 'др', 'опыт', 'использование', 'unit', 'тест', 'junit', 'результат', 'получить', 'знание', 'работа', 'файл', 'бд', 'метод', 'преобразование', 'обработка', 'данные', 'умение', 'обрабатывать', 'дать', 'машинный', 'обучение', 'опыт', 'программирование', 'язык', 'java', 'использование', 'unit', 'тест', 'junit', 'резюме', 'навык', 'требоваться', 'написать', 'кратко', 'уметь', 'хотеть', 'заниматься', 'работа', 'изображение', 'бд', 'иной', 'формат', 'данные', 'улучшение', 'производительность', 'доступ', 'данные', 'др']\n",
      "0.7116472721099854\n",
      "-----------------------------------\n",
      "['цель', 'дисциплина', 'охватывать', 'ряд', 'направление', 'связанный', 'планирование', 'тестирование', 'выявление', 'риск', 'продукт', 'проект', 'составление', 'критерий', 'вход', 'тестирование', 'выход', 'управление', 'инцидент', 'разработка', 'тест', 'выбор', 'метод', 'тестирование', 'осуществление', 'тестирование', 'составление', 'итоговый', 'отчётность', 'цель', 'учебный', 'дисциплина', 'заключаться', 'усовершенствование', 'техника', 'логический', 'тестирование', 'отладка', 'программа', 'также', 'применение', 'получить', 'навык', 'тестирование', 'отладка', 'программа', 'формирование', 'студент', 'профессиональный', 'компетенция', 'связанный', 'использование', 'теоретический', 'знание', 'практический', 'навык', 'область', 'обеспечение', 'качество', 'программный', 'обеспечение', 'задача', 'дисциплина', '1', 'изучение', 'основный', 'процесс', 'вид', 'тестирование', 'модель', 'разработка', 'процесс', 'сопровождение', 'получение', 'знание', 'метод', 'управление', 'процесс', 'сопровождение', 'метод', 'организация', 'работа', 'решение', 'задача', 'сопровождение', '2', 'формирование', 'умение', 'планировать', 'тестирование', 'выявлять', 'риск', 'продукт', 'проект', 'составлять', 'критерий', 'вход', 'тестирование', 'выход', 'управлять', 'инцидент', 'разрабатывать', 'тест', 'выбирать', 'метод', 'тестирование', 'осуществлять', 'тестирование', 'составлять', 'итоговый', 'отчётность', 'тестирование', 'формулировать', 'требование', 'уровень', 'сопровождение', 'использовать', 'международный', 'отечественный', 'стандарт', 'область', 'сопровождение', 'использовать', 'нормативный', 'правовой', 'документ', 'сопровождение', '3', 'освоение', 'навык', 'разработка', 'тест', 'эквивалентный', 'разбиение', 'анализ', 'граничный', 'значение', 'тестирование', 'таблица', 'решение', 'тестирование', 'таблица', 'переход', 'тестирование', 'сценарий', 'использование', 'интегрировать', 'среда', 'разработка', 'различный', 'инструмент', 'тестирование', 'планирование', 'тестирование', 'знание', 'основный', 'метод', 'средство', 'эффективный', 'анализ', 'функционирование', 'программный', 'обеспечение', ';', 'основный', 'вид', 'работа', 'этап', 'сопровождение', 'программный', 'обеспечение', ';', 'основный', 'принцип', 'контроль', 'конфигурация', 'поддержка', 'целостность', 'конфигурация', 'программный', 'обеспечение', ';', 'средство', 'защита', 'программный', 'обеспечение', 'компьютерный', 'система', 'умение', 'подбирать', 'настраивать', 'конфигурация', 'программный', 'обеспечение', 'компьютерный', 'система', ';', 'использовать', 'метод', 'защита', 'программный', 'обеспечение', 'компьютерный', 'система', ';', 'проводить', 'инсталляция', 'программный', 'обеспечение', 'компьютерный', 'система', ';', 'производить', 'настройка', 'отдельный', 'компонент', 'программный', 'обеспечение', 'компьютерный', 'система', ';', 'анализировать', 'риск', 'характеристика', 'качество', 'программный', 'обеспечение', 'навык', 'настройка', 'отдельный', 'компонент', 'программный', 'обеспечение', 'компьютерный', 'система', ';', 'выполнение', 'отдельный', 'вид', 'работа', 'этап', 'поддержка', 'программный', 'обеспечение', 'компьютерный', 'система', 'введение', 'место', 'тестирование', 'жизненный', 'цикл', 'разработка', 'программный', 'обеспечение', 'основной', 'понятие', 'дисциплина', 'роль', 'тестирование', 'разработка', 'программный', 'обеспечение', 'сопровождение', 'функционирование', 'программный', 'обеспечение', 'планирование', 'управление', 'тестирование', 'анализ', 'проектирование', 'тест', 'природа', 'сопровождение', 'потребность', 'сопровождение', 'приоритет', 'стоимость', 'сопровождение', 'категория', 'сопровождение', 'тестирование', 'модель', 'жц', 'уровень', 'тип', 'тестирование', 'альфа', 'тестирование', 'бета', 'тестирование', 'компонентный', 'тестирование', 'итерационный', 'тестирование', 'системный', 'тестирование', 'приёмочный', 'тестирование', 'тестирование', 'метод', 'чёрный', 'ящик', 'покрытие', 'код', 'функциональный', 'тестирование', 'тестирование', 'взаимодействие', 'нагрузочный', 'тестирование', 'тестирование', 'восстановление', 'тестирование', 'производительность', 'тестирование', 'переносимость', 'тестирование', 'надёжность', 'тестирование', 'безопасность', 'стресс-тестирование', 'структурный', 'тестирование', 'тестирование', 'удобство', 'использование', 'тестирование', 'метод', 'белый', 'ящик', 'анализ', 'влияние', 'тестирование', 'период', 'сопровождение', 'формальный', 'неформальный', 'рецензирование', 'критерий', 'вход', 'инспекция', 'метрика', 'равноправный', 'анализ', 'эксперт', 'секретарь', 'технический', 'анализ', 'сквозной', 'контроль', 'действие', 'шаг', 'формальный', 'рецензирование', 'роль', 'обязанность', 'тип', 'рецензирование', 'фактор', 'успешный', 'проведение', 'компилятор', 'коэффициент', 'сложность', 'поток', 'управление', 'поток', 'данные', 'статистический', 'анализ', 'ieee', ']', 'ieee', '2008', 'ieee', 'standard', 'for', 'software', 'and', 'метод', 'проектирование', 'тест', 'жизненный', 'цикл', 'дефект', 'тип', 'дефект', 'разный', 'фаза', 'тестирование', 'управление', 'дефект', 'система', 'тест-кейс', 'спецификация', 'тестовый', 'сценарий', 'проектирование', 'тест', 'расписание', 'выполнение', 'тест', 'спецификация', 'процедура', 'тестирование', 'автоматизированный', 'сценарий', 'тестирование', 'разработка', 'тест', 'метод', 'чёрный', 'ящик', 'разработка', 'тест', 'метод', 'белый', 'ящик', 'метод', 'создание', 'тест', 'основа', 'опыт', 'метод', 'разработка', 'тест', 'основа', 'спецификация', 'структурный', 'метод', 'разработка', 'тест', 'анализ', 'граничный', 'значение', 'тестирование', 'таблица', 'решение', 'эквивалентный', 'разбиение', 'тестирование', 'таблица', 'переход', 'тестирование', 'сценарий', 'использование', 'покрытие', 'код', 'покрытие', 'альтернатива', 'покрытие', 'оператор', 'тестирование', 'основа', 'структура', 'исследовательский', 'тестирование', 'атака', 'недочёт', 'выбор', 'метод', 'тестирование', 'управление', 'тестирование', 'тестировщик', 'руководитель', 'тестирование', 'менеджер', 'тестирование', 'организация', 'независимость', 'тестирование', 'подход', 'тестирование', 'стратегия', 'тестирование', 'планирование', 'тестирование', 'управление', 'конфигурация', 'управление', 'версия', 'риск', 'продукт', 'риск', 'проект', 'ориентировать', 'риск', 'тестирование', 'инструмент', 'покрытие', 'инструмент', 'отладка', 'инструмент', 'динамический', 'анализ', 'инструмент', 'управление', 'инцидент', 'инструмент', 'нагрузочный', 'тестирование', 'инструмент', 'моделирование', 'инструмент', 'мониторинг', 'инструмент', 'тестирование', 'производительность', 'эффект', 'зондирование', 'инструмент', 'управление', 'требование', 'инструмент', 'рецензирование', 'средство', 'защита', 'инструмент', 'статистический', 'анализ', 'инструмент', 'стрессовый', 'тестирование', 'тестовый', 'инструмент', 'подготовка', 'тестовый', 'данные', 'инструмент', 'проектирование', 'тест', 'тестовый', 'обвязка', 'инструмент', 'выполнение', 'тест', 'инструмент', 'управление', 'тестирование', 'инструмент', 'интегрировать', 'среда', 'модульный', 'тестирование', 'ключевой', 'вопрос', 'сопровождение', 'программный', 'обеспечение', 'технический', 'вопрос', 'управленческий', 'вопрос', 'оценка', 'стоимость', 'сопровождение', 'измерение', 'сопровождение', 'программный', 'обеспечение', 'процесс', 'сопровождение', 'работа', 'сопровождение', 'техника', 'сопровождение', 'реинжиниринг', 'обратный', 'инжиниринг', 'введение', 'itil', 'такой', 'itil', 'другой', 'существующий', 'методология', 'управление', 'ит-сервис', 'it', 'service', 'management', 'жизненный', 'цикл', 'сервис', 'ролевый', 'модель', 'понятие', 'роль', 'стратегия', 'сервис', 'проектирование', 'сервис', 'ценность', 'управление', 'услуга', 'понятие', 'определение', 'формирование', 'стратегия', 'оценка', 'риск', 'управление', 'финансы', 'управление', 'спрос', 'принцип', '4р', '5', 'составлять', 'сервисный', 'дизайн', 'управление', 'уровень', 'услуга', 'управление', 'каталог', 'услуга', 'управление', 'мощность', 'управление', 'доступность', 'управление', 'непрерывность', 'управление', 'информационный', 'безопасность', 'управление', 'поставщик', 'преобразование', 'сервис', 'эксплуатация', 'сервис', 'достижение', 'баланс', 'управление', 'инцидент', 'управление', 'событие', 'управление', 'запрос', 'управление', 'проблема', 'управление', 'доступ', 'функция', 'сервис', 'service', 'desk', 'service', 'desk', 'роль', 'service', 'desk', 'организационный', 'структура', 'service', 'desk', 'критерий', 'построение', 'service', 'desk', 'возможный', 'проблема', 'внедрение', 'service', 'desk', 'метрика', 'технический', 'управление', 'управление', 'операционный', 'деятельность', 'ит', 'управление', 'приложение', 'постоянный', 'улучшение', 'сервис', 'заключение', 'цель', 'роль', 'постоянный', 'улучшение', 'сервис', 'модель', 'pdca', 'метрика', '7-й', 'ступенчатый', 'процесс', 'улучшение', 'сервис', 'развитие', 'задача', 'тестирование', 'сопровождение']\n",
      "->\n",
      "['тестирование', 'документирование', 'стенд', 'виртуальный', 'рабочий', 'место', 'российский', 'виртуализация', 'тестирование', 'стенд', 'российский', 'виртуализация', 'разработка', 'технический', 'документация', 'результат', 'тестирование', 'обязательно', 'должный', 'знать', 'уметь', 'владеть', 'желательно', 'должный', 'знать', 'уметь', 'владеть', 'результат', 'получить', 'знание', 'современный', 'аппаратный', 'программный', 'средство', 'виртуализация', 'знание', 'гост', 'умение', 'использование', 'современный', 'программный', 'средство', 'виртуализация', 'опыт', 'тестирование', 'разработка', 'технический', 'документация']\n",
      "0.8298057913780212\n",
      "-----------------------------------\n",
      "['рассматриваться', 'основной', 'понятие', 'теория', 'интеллектуальный', 'система', ';', 'средство', 'язык', 'логический', 'программирование', 'разработка', 'интеллектуальный', 'система', 'рекурсивный', 'программа', 'решение', 'логический', 'задача', 'использование', 'структура', 'данные', '–', 'список', 'дерево', ';', 'интерактивный', 'визуальный', 'среда', 'логический', 'программирование', 'visual', 'prolog', ';', 'основа', 'построение', 'использование', 'экспертный', 'система', ';', 'метод', 'планирование', 'действие', 'интеллектуальный', 'система', ';', 'теоретический', 'практический', 'основа', 'организация', 'обучение', 'интеллектуальный', 'система', ';', 'метод', 'поиск', 'условие', 'противодействие', 'лабораторный', 'работа', 'ориентировать', 'изучение', 'язык', 'логический', 'программирование', 'среда', 'visual', 'prolog', 'программирование', 'использование', 'структура', 'данные', 'список', 'дерево', 'разработка', 'экспертный', 'система', 'язык', 'логический', 'программирование', 'исследование', 'модель', 'планирование', 'интеллектуальный', 'система', 'изучение', 'теоретический', 'основа', 'метод', 'средство', 'построение', 'интеллектуальный', 'система', 'основа', 'знание', 'мировой', 'тенденция', 'развитие', 'вычислительный', 'техника', 'информационный', 'технология', 'приобретение', 'навык', 'построение', 'интеллектуальный', 'система', 'формирование', 'представление', 'перспектива', 'развитие', 'интеллектуальный', 'система', 'инновационный', 'область', 'информационный', 'технология', 'парадигма', 'логический', 'программирование', 'применение', 'разработка', 'интеллектуальный', 'экспертный', 'система', 'понятие', 'интеллектуальный', 'система', 'система', 'основать', 'знание', 'особенность', 'знание', 'форма', 'представление', 'информация', 'метод', 'решение', 'задача', 'планирование', 'обучение', 'интеллектуальный', 'система', 'студент', 'должный', 'показать', 'умение', 'анализировать', 'профессиональный', 'информация', 'выделять', 'главное', 'структурировать', 'оформлять', 'программировать', 'рамка', 'декларативный', 'парадигма', 'способный', 'разрабатывать', 'алгоритм', 'программный', 'средство', 'решение', 'задача', 'область', 'создание', 'применение', 'искусственный', 'интеллект', 'освоение', 'способ', 'формализация', 'интеллектуальный', 'задача', 'помощь', 'язык', 'искусственный', 'интеллект', 'практический', 'навык', 'логический', 'продукционный', 'программирование', 'выбор', 'разработка', 'проведение', 'экспериментальный', 'проверка', 'работоспособность', 'программный', 'компонент', 'система', 'искусственный', 'интеллект', 'обеспечение', 'требовать', 'критерий', 'эффективность', 'качество', 'функционирование', 'контрольный', 'работа', '№', '1', 'тема', '1-8', '1.', 'состоять', 'основный', 'отличие', 'знание', 'данные', '1', 'структурность', 'данные', 'активность', 'знание', '2', 'структурность', 'активность', 'знание', '3', 'структурность', 'активность', 'знание', '4', 'активность', 'данные', 'структурность', 'знание', '2.', 'какой', 'тип', 'условно', 'разделить', 'знание', 'который', 'один', 'человеческий', 'поколение', 'передавать', 'другой', 'теория', 'интеллектуальный', 'система', '1', 'общедоступный', 'факт', 'теория', 'индивидуальный', 'эвристика', '2', 'актуальный', 'неактуальный', 'фоновый', '3', 'первичный', 'вторичный', '3.', 'такой', 'внутренний', 'интерпретируемость', 'знание', 'данные', '1', 'наличие', 'система', 'имя', 'информационный', 'единица', 'знание', 'данные', '2', 'возможность', 'интерпретация', 'знание', 'данные', 'изнутри', 'бд', 'бз', '3', 'сопоставление', 'знание', 'данные', 'функция', 'позволять', 'интерпретировать', '4.', 'такой', 'структурированность', 'знание', '1', 'наличие', 'знание', 'внутренний', 'структура', '2', 'свойство', 'знание', 'выражать', 'связь', 'тип', '«', 'род-вид', '»', '«', 'часть-целое', '»', '3', 'способность', 'знание', 'самоорганизация', 'уровень', 'структура', '5.', 'такой', 'парадигма', 'программирование', '1', 'подход', 'программирование', 'содержать', 'описание', 'инструментальный', 'средство', '2', 'правило', 'эффективный', 'программирование', 'отладка', 'программа', '3', 'набор', 'идея', 'рекомендация', 'определять', 'стиль', 'написание', 'программа', '6.', 'назвать', '2', 'способ', 'интерпретация', 'правило', 'пролог', '1', 'выполнение', 'действие', 'формулирование', 'условие', '2', 'логический', 'высказывание', 'вызов', 'процедура', '3', 'вычисление', 'функция', 'определение', 'отношение', 'термы', '7.', 'какой', 'выражение', 'допустимый', 'язык', 'пролог', 'увеличение', 'значение', 'переменный', 'константа', '5', '1', 'y=x+5', '2', 'x=x+5', '3', 'x+5', '4', '+5х', '8.', 'почему', 'правило', 'modus', 'ponens', 'рассматривать', 'частный', 'случай', 'правило', 'резолюция', 'экземпляр', 'резолюция', '1', 'замена', 'формула', 'a', 'ð', 'b', 'a', 'ù', 'øb', 'правило', 'modus', 'ponens', 'оно', 'становиться', 'экземпляр', 'резолюция', '2', 'замена', 'формула', 'a', 'ð', 'b', 'øa', 'ù', 'b', 'правило', 'modus', 'ponens', 'оно', 'становиться', 'экземпляр', 'резолюция', '3', 'замена', 'формула', 'a', 'ð', 'b', 'a', 'ú', 'øb', 'правило', 'modus', 'ponens', 'оно', 'становиться', 'экземпляр', 'резолюция', '4', 'замена', 'формула', 'a', 'ð', 'b', 'øa', 'ú', 'b', 'правило', 'modus', 'ponens', 'оно', 'становиться', 'экземпляр', 'резолюция', '9.', 'какой', 'определение', 'операция', 'редукция', 'являться', 'правильный', '1', 'операция', 'связать', 'замена', 'цель', 'g', 'заголовок', 'пример', 'правило', 'программа', 'p', 'тело', 'который', 'совпадать', 'дать', 'цель', '2', 'операция', 'связать', 'замена', 'цель', 'g', 'тело', 'пример', 'правило', 'программа', 'p', 'заголовок', 'который', 'совпадать', 'дать', 'цель', '3', 'операция', 'связать', 'замена', 'цель', 'g', 'тело', 'правило', 'программа', 'p', 'заголовок', 'который', 'совпадать', 'дать', 'цель', '4', 'операция', 'связать', 'замена', 'цель', 'g', 'тело', 'пример', 'правило', 'программа', 'p', 'тело', 'который', 'совпадать', 'дать', 'цель', '10.', 'цель', 'g', 'следовать', 'программа', 'p', '1', 'p', 'найтись', 'правило', 'основный', 'пример', 'a', 'b1', 'b2', 'bn', 'n', '>', '0', 'такой', 'b1', 'b2', 'bn', 'являться', 'логический', 'следствие', 'p', 'a', 'являться', 'пример', 'g.', '2', 'g', 'вывести', 'p', 'помощь', 'конечный', 'число', 'применение', 'обобщённый', 'правило', 'modus', 'ponens', '3', 'g', 'вывести', 'p', 'помощь', 'конечный', 'число', 'применение', 'правило', 'де-морган', '11.', 'называться', 'стандартный', 'стратегия', 'выбор', 'цель', 'процесс', 'редукция', '1', 'правило', 'выбор', 'согласно', 'который', 'качество', 'очередной', 'цель', 'браться', 'самый', 'правый', 'цель', 'резольвента', '2', 'правило', 'выбор', 'согласно', 'который', 'качество', 'очередной', 'цель', 'браться', 'произвольный', 'цель', 'резольвента', '3', 'правило', 'выбор', 'согласно', 'который', 'качество', 'очередной', 'цель', 'браться', 'самый', 'левый', 'цель', 'резольвента', '12.', 'называться', 'стандартный', 'стратегия', 'поиск', 'процесс', 'редукция', '1', 'поиск', 'программа', 'p', 'правило', 'ci', 'функтор', 'заголовок', 'который', 'совпадать', 'функтор', 'цель', 'gi', 'порядок', 'обратный', 'написание', 'правило', 'программа', '2', 'поиск', 'программа', 'p', 'правило', 'ci', 'функтор', 'заголовок', 'который', 'совпадать', 'функтор', 'цель', 'gi', 'порядок', 'написание', 'правило', 'программа', '3', 'поиск', 'программа', 'p', 'правило', 'ci', 'функтор', 'заголовок', 'который', 'совпадать', 'функтор', 'цель', 'gi', 'произвольный', 'порядок', '13.', 'позволять', 'остановить', 'рекурсивный', 'процесс', '1', 'указание', 'копия', 'задача', 'допускать', 'дальнейший', 'выделение', 'подзадача', '2', 'граничный', 'условие', '3', 'указание', 'копия', 'задача', 'допускать', 'дальнейший', 'выделение', 'подзадача', '4', 'граничный', 'условие', 'копия', 'подзадача', '14.', 'работать', 'управление', 'механизм', 'возврат', 'пролог', 'использование', 'специальный', 'цель', 'обозначать', 'символ', '“', '”', '1', 'доказательство', 'цель', 'заканчиваться', 'неуспешно', 'отключаться', 'механизм', 'возврат', 'цель', 'расположить', 'текст', 'правило', 'цель-отсечение', 'включая', 'головной', 'цель', 'правило', 'доказываться', 'повторно', '2', 'доказательство', 'цель', 'заканчиваться', 'успешно', 'отключаться', 'механизм', 'возврат', 'цель', 'расположить', 'текст', 'правило', 'цель-отсечение', 'включая', 'головной', 'цель', 'правило', 'доказываться', 'повторно', '3', 'доказательство', 'цель', 'заканчиваться', 'успешно', 'отключаться', 'механизм', 'возврат', 'цель', 'расположить', 'текст', 'правило', 'цель-отсечение', 'включая', 'головной', 'цель', 'правило', 'доказываться', 'повторно', '4', 'доказательство', 'цель', 'заканчиваться', 'успешно', 'отключаться', 'механизм', 'возврат', 'цель', 'расположить', 'текст', 'правило', 'цель-отсечение', 'доказываться', 'повторно', '15.', 'выбрать', 'правильный', 'реализация', 'отношение', 'отрицание', 'not', 'произвольный', 'цель', 'язык', 'пролог', '1', 'not', 'x', '–', 'fail', 'x.', 'not', 'x', '2', 'not', 'x', '–', 'х', 'fail', 'not', 'x', '3', 'not', 'x', '–', 'x', 'fail', 'not', 'x', '4', 'not', 'x', '–', 'x', 'fail', 'not', 'x', '16.', 'почему', 'рекурсия', 'использовать', 'работа', 'бинарный', 'дерево', 'пролог', 'являться', 'хвостовой', '1', 'рекурсивный', 'вызов', 'находиться', 'головной', 'часть', 'правило', 'вывод', '2', 'рекурсивный', 'вызов', 'являться', 'последний', 'цель', 'хвостовой', 'часть', 'правило', 'вывод', '3', 'приходиться', 'обрабатывать', 'левый', 'правый', 'поддерево', 'давать', 'два', 'рекурсивный', 'цель', 'один', 'предложение', '17.', 'какой', 'случай', 'применяться', 'прямой', 'стратегия', 'логический', 'вывод', 'реализация', 'язык', 'пролог', 'экспертный', 'система', 'министерство', 'наука', 'высокий', 'образование', 'российский', 'федерация', 'фгаоу', '«', 'санкт-петербургский', 'государственный', 'электротехнический', 'университет', '«', 'лэти', '»', 'имя', 'в.и', 'ульянов', 'ленин', '»', '____________________________________________________________', 'экзаменационный', 'билет', '№', '1', 'дисциплина', 'интеллектуальный', 'система', 'кафедра', 'вычислительный', 'техника', '1.', 'интеллектуальный', 'система', '–', 'система', 'основать', 'знание', '2.', 'приложение', 'пролог', '–', 'экспертный', 'система', 'архитектура', 'экспертный', 'система', '3.', 'задача', 'утверждать', 'заведовать', 'кафедра', 'м.с', 'куприянов', 'введение', 'интеллектуальный', 'система', '–', 'основной', 'понятие', 'предмет', 'дисциплина', 'её', 'объём', 'содержание', 'обзор', 'литература', 'курс', 'интеллектуальный', 'система', '–', 'система', 'основать', 'знание', 'место', 'интеллектуальный', 'система', 'множество', 'компьютерный', 'система', 'особенность', 'знание', 'форма', 'представление', 'информация', 'тип', 'знание', 'проблема', 'представление', 'знание', 'язык', 'логический', 'программирование', 'средство', 'разработка', 'интеллектуальный', 'система', 'логический', 'модель', 'логический', 'программирование', 'разработка', 'интеллектуальный', 'экспертный', 'система', 'язык', 'логический', 'программирование', 'язык', 'логический', 'программирование', 'пролог', 'интерактивный', 'визуальный', 'среда', 'программирование', 'visual', 'prolog', 'рекурсивный', 'программа', 'решение', 'логический', 'задача', 'использование', 'список', 'решение', 'логический', 'задача', 'использование', 'структура', 'данные', 'тип', '«', 'дерево', '»', 'приложение', 'язык', 'пролог', 'экспертный', 'система', 'решение', 'задача', 'планирование', 'действие', 'интеллектуальный', 'система', 'задача', 'планирование', 'язык', 'описание', 'состояние', 'действие', 'планирование', 'основа', 'поиск', 'пространство', 'состояние', 'планирование', 'помощь', 'пропозициональный', 'логика', 'планирование', 'действие', 'реальный', 'мир', 'решение', 'задача', 'обучение', 'интеллектуальный', 'система', 'форма', 'обучение', 'обучение', 'основа', 'наблюдение', 'индуктивный', 'обучение', 'построение', 'дерево', 'решение', 'обучение', 'использование', 'знание', 'логический', 'формулировка', 'задача', 'обучение', 'статистический', 'метод', 'обучение', 'обучение', 'полный', 'данные', 'метод', 'максимальный', 'правдоподобие', 'пассивный', 'активный', 'обучение', 'подкрепление', 'поиск', 'условие', 'противодействие', 'заключение', 'альфа-бета-отсечение', 'архитектура', 'доска', 'объявление', 'перспектива', 'развитие', 'интеллектуальный', 'система', 'инновационный', 'область', 'информационный', 'технология']\n",
      "->\n",
      "['разработка', 'интеллектуальный', 'модуль', 'обработка', 'данные', 'fpga', 'цель', 'проект', '–', 'разработка', 'интеллектуальный', 'технология', 'обработка', 'данные', 'встроить', 'система', 'достижение', 'цель', 'исследование', 'необходимо', 'решить', 'следующий', 'задача', '1.', 'разработка', 'новый', 'модель', 'метод', 'снижение', 'размерность', 'данные', 'коррекция', 'система', 'переобучение', '2.', 'разработка', 'интеллектуальный', 'метод', 'алгоритм', 'обработка', 'данные', 'режим', 'реальный', 'время', '3.', 'аппаратный', 'реализация', 'встроить', 'система', 'партнёр', 'обязательно', 'должный', 'знать', 'основа', 'программирование', 'уметь', 'работать', '``', 'железо', \"''\", 'владеть', 'один', 'язык', 'высокий', 'уровень', 'желательно', 'должный', 'знать', 'основа', 'проектирование', 'fpga', 'уметь', 'моделировать', 'matlab', 'python', ';', 'владеть', 'язык', 'vhdl', 'результат', 'получить', 'знание', 'область', 'архитектура', 'встроить', 'система', ';', 'умение', 'проектирование', 'fpga', ';', 'опыт', 'проектирование', 'реализация', 'аппаратно-ориентировать', 'интеллектуальный', 'модуль', 'обработка', 'данные']\n",
      "0.7725514769554138\n",
      "-----------------------------------\n",
      "['дисциплина', 'включать', 'изложение', 'основа', 'теория', 'манипуляционный', 'робот', 'метод', 'управление', 'они', 'рассматриваться', 'основной', 'сведение', 'динамика', 'манипуляционный', 'механизм', 'математический', 'модель', 'движение', 'методика', 'анализ', 'подробно', 'рассматриваться', 'способ', 'алгоритм', 'кинематический', 'управление', 'манипулятор', 'дисциплина', 'поддерживаться', 'больший', 'число', 'практический', 'лабораторный', 'занятие', 'также', 'самостоятельный', 'работа', 'студент', 'основный', 'раздел', 'программы.', 'изучение', 'основа', 'теория', 'манипуляционный', 'робот', 'метод', 'управление', 'они', 'овладение', 'знание', 'основный', 'кинематический', 'соотношение', ';', 'умение', 'формулировать', 'прямой', 'обратный', 'задача', 'позиционный', 'задача', 'прямой', 'обратный', 'задача', 'скорость', 'звено', 'манипулятор', ';', 'навык', 'построение', 'алгоритм', 'управление', 'манипулятор', 'формирование', 'общий', 'представление', 'динамика', 'манипуляционный', 'механизм', 'математический', 'модель', 'движение', 'методика', 'анализ', 'овладение', 'знание', 'показатель', 'динамический', 'свойство', 'манипулятор', ';', 'умение', 'составлять', 'алгоритм', 'вычисление', 'сила', 'момент', 'реакция', 'звено', 'манипулятор', ';', 'навык', 'составление', 'дифференциальный', 'уравнение', 'движение', 'манипулятор', 'относительно', 'обобщённый', 'координата', 'освоение', 'навык', 'практический', 'метод', 'исследование', 'расчёт', 'исполнительный', 'система', 'манипуляционный', 'робот', 'овладение', 'знание', 'средство', 'автоматизированный', 'синтез', 'мехатронный', 'система', ';', 'умение', 'разрабатывать', 'система', 'управление', 'мехатронный', 'роботизированный', 'технологический', 'комплекс', ';', 'навык', 'моделирование', 'мехатронный', 'роботизированный', 'технологический', 'комплекс', 'примерный', 'вопрос', 'коллоквиум', '1.', 'записать', 'уравнение', 'статический', 'равновесие', 'трехзвенный', 'манипулятор', 'содержать', 'поступательный', 'кинематический', 'пара', '2.', 'записать', 'уравнение', 'статический', 'равновесие', 'трехзвенный', 'манипулятор', 'содержать', 'поступательный', 'пара', 'вращение', '3.', 'записать', 'уравнение', 'статический', 'равновесие', 'манипулятор', 'тип', 'который', 'первый', 'пара', 'вращательный', 'последующий', '–', 'поступательный', '4.', 'написать', 'соотношение', 'определять', 'сила', 'реакция', 'момент', 'реакция', 'опора', 'манипулятор', 'иметь', 'вращательный', 'пара', '5.', 'объяснить', 'почему', 'вычисление', 'сила', 'момент', 'действовать', 'звено', 'манипулятор', 'целесообразно', 'применять', 'метод', 'обратный', 'рекурсия', '6.', 'составить', 'алгоритм', 'вычисление', 'сила', 'момент', 'реакция', 'звено', 'манипулятор', 'иметь', 'плоский', 'трехзвенный', 'конструкция', 'вращательный', 'пара', 'задать', 'значение', 'обобщённый', 'координата', '7.', 'составить', 'алгоритм', 'вычисление', 'эллипс', 'развивать', 'сила', 'плоский', 'манипулятор', '8.', 'пояснить', 'решение', 'какой', 'практический', 'задача', 'использовать', 'эллипсоид', 'развивать', 'манипулятор', 'сила', '9.', 'характеризовать', 'главный', 'ось', 'эллипсоид', 'сила', 'величина', 'направление', '10.', 'сформулировать', 'первый', 'второй', 'задача', 'динамика', 'применительно', 'манипуляционный', 'введение', 'предмет', 'дисциплина', 'задача', 'структура', 'содержание', 'дисциплина', 'связь', 'другой', 'дисциплина', 'учебный', 'план', 'тема', '1.', 'основной', 'кинематический', 'соотношение', 'манипулятор', 'механический', 'система', 'преобразование', 'координата', 'однородный', 'координата', 'преобразование', 'определение', 'положение', 'ориентация', 'звено', 'манипулятор', 'специальный', 'система', 'координата', 'тема', '2.', 'положение', 'манипулятор', 'рабочий', 'пространство', 'прямой', 'обратный', 'позиционный', 'задача', 'геометрия', 'рабочий', 'пространство', 'манипулятор', 'тема', '3.', 'скорость', 'ускорение', 'манипулятор', 'вращение', 'твёрдый', 'тело', 'скорость', 'ускорение', 'манипулятор', 'прямой', 'обратный', 'задача', 'скорость', 'кинематический', 'свойство', 'манипулятор', 'тема', '4.', 'кинематический', 'управление', 'манипулятор', 'планирование', 'траектория', 'пространство', 'обобщённый', 'координата', 'управление', 'манипулятор', 'пространство', 'координата', 'схват', 'тема', '5.', 'уравнение', 'кинетостатика', 'манипулятор', 'статика', 'манипуляционный', 'механизм', 'анализ', 'рабочий', 'сила', 'момент', 'показатель', 'динамический', 'свойство', 'манипулятор', 'тема', '6.', 'система', 'управление', 'исполнительный', 'уровень', 'математический', 'модель', 'исполнительный', 'система', 'исследование', 'линеаризовать', 'модель', 'автоматизированный', 'синтез', 'исполнительный', 'система', 'тема', '7.', 'метод', 'динамический', 'управление', 'манипулятор', 'метод', 'основать', 'решение', 'обратный', 'задача', 'динамика', 'декомпозиция', 'управление', 'силовой', 'обратный', 'связь', 'динамический', 'планирование', 'тема', '8.', 'логический', 'управление', 'сложный', 'робототехнический', 'система', 'понятие', 'сложный', 'система', 'построение', 'модель', 'подсистема', 'сетевой', 'автомат', 'сеть', 'автомат', 'метод', 'управление', 'сложный', 'робототехнический', 'система', 'заключение', 'перспектива', 'развитие', 'мехатронный', 'робототехнический', 'система']\n",
      "->\n",
      "['разработка', 'подводный', 'робот', 'шасси', 'разработка', 'программный', 'аппаратный', 'обеспечение', 'подводный', 'роботизированный', 'система', 'основа', 'платформа', 'манипулятор', 'создание', 'шасси', 'разработка', 'сенсорный', 'система', 'робот', 'разработка', 'подсистема', 'управление', 'шасси', 'манипулятор', 'полевой', 'испытание', 'робот', 'водоём', 'основа', 'arduino', 'ide', 'коммуникабельность', 'владение', 'английский', 'язык', 'уровень', 'basic', 'общий', 'технический', 'грамотность', 'знание', 'цифровой', 'аналоговый', 'схемотехник', 'выносливость', 'знание', 'область', 'дизайн', 'подводный', 'роботизированный', 'система', 'практический', 'навык', 'проектирование', 'комплексный', 'объект', 'робототехника', 'опыт', 'разработка', 'программно-аппаратный', 'комплекс', 'общий', 'назначение', 'опыт', 'полевой', 'водоём', 'наш', 'родина', 'погружение', 'робот']\n",
      "0.6200385093688965\n",
      "-----------------------------------\n"
     ]
    },
    {
     "name": "stdout",
     "output_type": "stream",
     "text": [
      "['рамка', 'дать', 'дисциплина', 'рассматриваться', 'основной', 'положение', 'общий', 'теория', 'система', 'технология', 'метод', 'проектирование', 'программный', 'система', 'изучаться', 'особенность', 'современный', 'метод', 'средство', 'проектирование', 'информационный', 'система', 'основать', 'использование', 'история', 'тенденция', 'развитие', 'технология', 'программирование', 'проблема', 'разработка', 'сложный', 'программный', 'система', 'основной', 'понятие', 'общий', 'теория', 'система', 'жизненный', 'цикл', 'этап', 'разработка', 'программный', 'обеспечение', 'оценка', 'качество', 'процесс', 'создание', 'программный', 'обеспечение', 'приём', 'обеспечение', 'технологичность', 'программный', 'продукт', 'определение', 'требование', 'программный', 'обеспечение', 'исходный', 'данные', 'проектирование', 'проектирование', 'программный', 'обеспечение', 'тестирование', 'верификация', 'отладка', 'программный', 'система', 'составление', 'программный', 'документация']\n",
      "->\n",
      "['программно-аппаратный', 'конфигурирование', 'сеть', 'лаборатория', 'проект', 'https', 'цель', 'данный', 'проект', 'состоять', 'построение', 'отладка', 'программно-аппаратный', 'система', 'наблюдение', 'отладка', 'решение', 'полигон', 'автономный', 'транспорт', 'лаборатория', 'мобильный', 'интеллектуальный', 'система', 'задача', 'настройка', 'система', 'управление', 'конфигурация', 'машина', 'лаборатория', 'интеллектуальный', 'мобильный', 'система', 'разработка', 'решение', 'захват', 'видео', 'камера', 'наблюдение', 'полигон', 'трансляция', 'конференция', 'zoom', 'тестирование', 'онлайн-курс', 'формат', 'работа', 'смешанный', '+', 'очный', 'очно', 'аудитория', 'прототипирование', 'отсутствие', 'необходимость', 'работа', 'оборудование', 'возможно', 'выполнять', '2-3', 'курс', 'навык', 'работа', 'ос', 'linux', 'знание', 'язык', 'си', 'основа', 'отладка', 'программа', 'умение', 'самостоятельно', 'находить', 'информация', 'учиться', 'новый', 'умение', 'следовать', 'инструкция', 'умение', 'пользоваться', 'знание', 'английский', 'язык', 'уровень', 'чтение', 'технический', 'документация', 'понимание', 'базовый', 'принцип', 'организация', 'лвс', 'плюс', 'любой', 'опыт', 'работа', 'библиотека', 'автоматизация', 'настройка', 'любой', 'опыт', 'наладка', 'система', 'результат', 'получить', 'знание', 'устройство', 'система', 'машинный', 'зрение', 'система', 'автоматизированный', 'постановка', 'эксперимент', 'задача', 'автономный', 'транспорт', 'умение', 'настройка', 'отладка', 'реальный', 'роботехнический', 'система', 'опыт', 'участие', 'передовой', 'исследовательский', 'тестовый', 'задание', 'проект', 'составить', 'docker-compose', 'файл', 'позволять', 'запустить', '2', 'объединить', 'один', 'локальный', 'сеть', 'изолировать', 'сеть', 'запустить', 'один', 'контейнер', 'должный', 'передавать', 'строка', '“', 'docker', 'test', '#', 'k', '”', 'tcp', 'запустить', 'второй', 'контейнер', 'должный', 'печатать', 'получить', 'дать', 'лог', 'доступный', 'команда', 'docker', 'log', '#', 'k', 'порядковый', 'номер', 'сообщение', '0', '1', '2', '…', 'строка', 'передавать', 'секунда', 'способ', 'реализация', 'программа', 'клиент', 'сервер', 'любой', 'стандартный', 'утилит', '/', 'самостоятельно', 'написать', 'программа', '/', '…', 'качество', 'решение', 'прислать', 'ссылка', 'репозиторий', 'docker-compose', 'файл', 'инструкция', 'запуск']\n",
      "0.7200408577919006\n",
      "-----------------------------------\n",
      "['дисциплина', 'посвятить', 'изучение', 'теоретический', 'основа', 'метод', 'тестирование', 'программный', 'обеспечение', 'рассматриваться', 'основной', 'понятие', 'процесс', 'тестирование', 'уровень', 'тестирование', 'вид', 'метод', 'тестирование', 'определяться', 'критерий', 'завершение', 'процесс', 'тестирование', 'особый', 'внимание', 'уделяться', 'вопрос', 'документирование', 'процесс', 'тестирование', 'рассматриваться', 'инструментальный', 'средство', 'тестирование', 'изучение', 'основный', 'понятие', 'связанный', 'функциональный', 'нефункциональный', 'тестирование', 'программный', 'обеспечение', 'получение', 'базовый', 'знание', 'дисциплина', ';', '–', 'возможность', 'использование', 'решение', 'практический', 'задача', 'метод', 'тестирование', '«', 'чёрный', 'ящик', '»', 'знание', 'граница', 'применение', 'формирование', 'умение', 'применять', 'базовый', 'метод', 'нефункциональный', 'тестирование', 'изучение', 'основный', 'понятие', 'связанный', 'функциональный', 'нефункциональный', 'тестирование', 'программный', 'обеспечение', 'получение', 'базовый', 'знание', 'дисциплина', ';', '–', 'возможность', 'использование', 'решение', 'практический', 'задача', 'метод', 'тестирование', '«', 'чёрный', 'ящик', '»', 'знание', 'граница', 'применение', 'формирование', 'умение', 'применять', 'базовый', 'метод', 'нефункциональный', 'тестирование', 'освоение', 'навык', 'применение', 'методика', 'тестирование', '«', 'чёрный', 'ящик', '»', 'написание', 'тест', 'тестовый', 'сценарий', 'составление', 'отчёт', 'ошибка', 'применение', 'средство', 'автоматизация', 'тестирование', 'перечень', 'примерный', 'вопрос', 'коллоквиум', '1.', 'каков', 'наиболее', 'распространить', 'техника', 'тестирование', '«', 'чёрный', 'ящик', '»', 'класс', 'эквивалентность', 'граничный', 'значение', 'диаграмма', 'переход', 'состояние', ';', 'краткий', 'описание', 'каждый', 'техника', '2.', 'назвать', 'несколько', 'вид', 'тестирование', 'нагрузка', 'тестирование', 'производительность', 'стрессовый', 'тестирование', 'тестирование', 'выносливость', 'тестирование', 'восстановление', 'т.д', 'краткий', 'описание', 'каждый', 'вид', '3.', 'любой', 'процесс', 'применимый', 'автоматизация', 'смысл', 'короткий', 'релизном', 'цикл', '4.', 'какой', 'артефакт', 'тестирование', 'мочь', 'назвать', 'тест-кейс', 'тест-план', 'отчёт', 'ошибка', 'тест-скрипт', 'отчёт', 'выполнение', 'тест', 'введение', 'краткий', 'характеристика', 'дисциплина', 'цель', 'задача', 'объём', 'содержание', 'порядок', 'изучение', 'материал', 'связь', 'другой', 'дисциплина', 'учебный', 'план', 'место', 'подготовка', 'специалист', 'указать', 'направление', 'специальность', 'форма', 'контроль', 'самостоятельный', 'работа', 'характеристика', 'учебный', 'литература', 'тема', '1.', 'основной', 'понятие', 'тестирование', 'термин', 'описывать', 'нарушение', 'функционирование', 'программный', 'система', 'ключевой', 'вопрос', 'тестирование', 'программный', 'обеспечение', 'критерий', 'отбора/адекватность', 'тест', 'критерий', 'завершение', 'тестирование', 'цель', 'тестирование', 'эффективность', 'тестирование', 'связь', 'тестирование', 'другой', 'вид', 'деятельность', 'разработка', 'программный', 'обеспечение', 'документирование', 'тестирование', 'тема', '2.', 'функциональный', 'тестирование', 'функциональный', 'тестирование', 'метод', '«', 'чёрный', 'ящик', '»', 'метод', 'эквивалентный', 'разбиение', 'анализ', 'граничный', 'значение', 'метод', 'диаграмма', 'переход', 'состояний.теоретический', 'практический', 'ограничение', 'тестирование', 'тема', '3.', 'тестирование', 'нагрузка', 'тестирование', 'производительность', 'нагрузочный', 'тестирование', 'стресс-тестирование', 'тестирование', 'стабильность', 'практический', 'проблема', 'нагрузочный', 'тестирование', 'тема', '4.', 'тестирование', 'безопасность', 'теоретический', 'основа', 'тестирование', 'безопасность', 'риск', 'распространить', 'уязвимость', 'метод', 'обнаружение', 'тема', '5.', 'тестирование', 'удобство', 'использование', 'определение', 'экспертный', 'оценка', 'удобство', 'использование', 'программный', 'система', 'метод', 'тестирование', 'используемость', 'программный', 'система', 'применять', 'группа', 'тестирование', 'проект', '–', 'общий', 'частный', 'типовой', 'методика', 'тестирование', 'основа', 'пользовательский', 'вариант', 'использование', 'метод', 'тестирование', 'используемость', 'программный', 'система', 'привлечение', 'сторонний', 'пользователь', 'метод', 'теневой', 'наблюдение', 'метод', 'вопрос', 'ответ', 'метод', 'активный', 'вмешательство', 'тема', '6.', 'уровень', 'тестирование', 'место', 'тестирование', 'процесс', 'разработка', 'модульный', 'интеграционный', 'тестирование', 'отличительный', 'особенность', 'модульный', 'тест', 'метрика', 'покрытия/глубин', 'тестирование', 'введение', 'искусственный', 'дефект', 'тема', '7.', 'инструментальный', 'средство', 'тестирование', 'сущность', 'преимущество', 'автоматизация', 'тестирование', 'зависимость', 'успех', 'автоматизация', 'степень', 'зрелость', 'процесс', 'тестирование', 'проблема', 'разработка', 'поддержка', 'набор', 'автоматизированный', 'функциональный', 'тест', 'методика', 'разработка', 'формирование', 'результат', 'тестовый', 'прогон', 'анализ', 'результат', 'автоматизированный', 'генерация', 'входной', 'тестовый', 'данные', 'тема', '8.', 'организация', 'процесс', 'тестирование', 'процесс', 'тестирование', 'деятельность', 'обеспечение', 'качество', 'программный', 'продукт', 'состав', 'команда', 'тестирование', 'внутренний', 'независимый', 'команда', 'тестирование', 'управление', 'процесс', 'тестирование', 'критерий', 'отбор', 'тест', 'разработка', 'тестовый', 'окружение', 'выполнение', 'тест', 'анализ', 'результат', 'тестирование', 'отслеживание', 'дефект', 'заключение', 'основной', 'тенденция', 'развитие', 'совершенствование', 'метод', 'тестирование']\n",
      "->\n",
      "['тестирование', 'конфигурация', 'платформа', 'c', 'модуль', 'доверенный', 'загрузка', 'соболь', ';', '+', 'amd', 'разный', 'режим', 'необходимо', 'разработать', 'стандарт', 'сборка', 'исследовать', 'компьютерный', 'оборудование', ';', 'тестирование', 'различный', 'конфигурация', 'компьютерный', 'оборудование', ';', 'определение', 'рекомендовать', 'назначение', 'например', 'режим', 'вывод', 'видео', 'конфигурация', 'оборудование', 'работать', 'разрешение', 'режим', 'сопроцессор', 'поддерживать', 'функция', 'важный', 'разработчик', 'astra', 'linux', 'др', 'документирование', 'обязательно', 'должный', 'знать', 'уметь', 'владеть', 'желательно', 'должный', 'знать', 'уметь', 'владеть', 'результат', 'получить', 'знание', 'технический', 'характеристика', 'современный', 'сервер', 'арма', 'знание', 'гост', 'др', 'умение', 'тестирование', 'современный', 'компьютерный', 'оборудование', 'опыт', 'сборка', 'тестирование', 'различный', 'конфигурация', 'сервер', 'арма', 'разработка', 'технический', 'документация']\n",
      "0.7907671332359314\n",
      "-----------------------------------\n",
      "['данный', 'курс', 'знакомить', 'слушатель', 'основный', 'метод', 'анализ', 'данные', 'рассматриваться', 'основной', 'этап', 'интеллектуальный', 'анализ', 'включая', 'подготовка', 'исходный', 'данные', 'особенность', 'выбор', 'параметр', 'алгоритм', 'оценка', 'представление', 'результат', 'анализ', 'изучаться', 'основной', 'задача', 'интеллектуальный', 'анализ', 'данные', 'классификация', 'кластеризация', 'поиск', 'ассоциативный', 'правило', 'практика', 'разбираться', 'основной', 'алгоритм', 'решение', 'этот', 'задача', 'особенность', 'применение', 'больший', 'данные', 'данный', 'курс', 'позволять', 'детально', 'изучить', 'понятие', 'задача', 'метод', 'интеллектуальный', 'анализ', 'данные', 'предназначить', 'создание', 'математический', 'модель', 'адекватный', 'окружающий', 'мир', 'решение', 'прикладной', 'задач.', 'цель', 'освоение', 'дисциплина', '«', 'машинный', 'обучение', '»', 'являться', 'приобретение', 'студент', 'теоретический', 'знание', 'формирование', 'практический', 'навык', 'основа', 'машинный', 'обучение', 'овладение', 'студент', 'инструментарий', 'модель', 'метод', 'машинный', 'обучение', 'решение', 'практический', 'задача', 'анализ', 'данные', 'задача', 'изучение', 'дисциплина', 'являться', 'изучение', 'содержательный', 'математический', 'постановка', 'основный', 'задача', 'машинный', 'обучение', 'получение', 'знание', 'метод', 'машинный', 'обучение', 'предобработка', 'исходный', 'данные', 'основный', 'на-', 'формирование', 'знание', 'основный', 'понятие', 'этап', 'анализ', 'интерпретация', 'данные', ';', 'умение', 'выбор', 'наиболее', 'подходящий', 'способ', 'решение', 'задача', 'обоснование', 'эффективность', 'формирование', 'навык', 'представление', 'результат', 'работа', 'алгоритм', 'машинный', 'обучение', ';', 'освоение', 'практический', 'навык', 'сбор', 'данные', 'метод', 'анализ', 'обобщение', 'выбор', 'средство', 'метод', 'обработка', 'данные', 'решение', 'практический', 'задач;', 'представление', 'результат', 'анализ', 'форма', 'поддерживать', 'принятие', 'решение', 'соответствие', 'поставить', 'задача', 'студент', 'получить', 'знание', 'ключевой', 'понятие', 'цель', 'задача', 'использование', 'машинный', 'обучение', 'решение', 'различный', 'практический', 'задача', ';', 'изучить', 'методологический', 'основа', 'применение', 'алгоритм', 'машинный', 'обучение', 'дисциплина', 'формировать', 'умение', 'выбор', 'метод', 'машинный', 'обучение', 'соответствующий', 'научно-практический', 'задача', 'обоснование', 'умение', 'объяснение', 'визуализация', 'результат', 'работа', 'алгоритм', 'машинный', 'обучение', 'также', 'оценка', 'качество', 'модель', 'анализ', 'дисциплина', 'формировать', 'практический', 'навык', 'применение', 'программный', 'инструмент', 'библиотека', 'предобработка', 'исходный', 'данные', 'построение', 'модель', 'анализ', 'оценка', 'качество', 'модель', 'визуализация', 'получить', 'результат', 'министерство', 'наука', 'высокий', 'образование', 'российский', 'федерация', 'фгаоу', '«', 'санкт-петербургский', 'государственный', 'электротехнический', 'университет', '«', 'лэти', '»', 'имя', 'в.и', 'ульянов', 'ленин', '»', '____________________________________________________________', 'билет', '№', '1', 'дисциплина', 'машинный', 'обучение', 'фкть', '1.', 'кластеризация', 'dbscan', '2.', 'метрика', 'качество', 'классификация', 'roc', 'кривая', 'утверждать', 'заведовать', 'кафедра', 'в.в', 'цехановский', 'введение', 'машинный', 'обучение', 'предмет', 'задача', 'машинный', 'обучение', 'анализ', 'данные', 'основной', 'принцип', 'задача', 'подход', 'использование', 'различный', 'область', 'наука', 'индустрия', 'основной', 'этап', 'эволюция', 'алгоритм', 'машинный', 'обучение', 'задача', 'классификация', 'линейный', 'классификатор', 'линейный', 'классификатор', 'общий', 'вид', 'метрический', 'классификатор', 'алгоритм', 'k', 'близкий', 'сосед', 'метод', 'опорный', 'вектор', 'линейный', 'персептрон', 'задача', 'классификация', 'дерево', 'решение', 'дерево', 'решение', 'правило', 'анализ', 'качество', 'точность', 'полнота', 'анализ', 'помощь', 'roc', 'кривая', 'алгоритм', 'построение', 'дерево', 'решение', 'критерий', 'информационный', 'выигрыш', 'критерий', 'джиня', 'лес', 'решающий', 'дерево', 'задача', 'классификация', 'регрессионный', 'анализ', 'линейный', 'регрессия', 'полиномиальный', 'регрессия', 'смещение', 'дисперсия', 'ансамблевый', 'метод', 'голосование', 'бустинг', 'адаптивный', 'бустинг', 'градиентный', 'бустинг', 'задача', 'кластеризация', 'формальный', 'постановка', 'задача', 'кластеризация', 'алгоритм', 'кластеризация', 'фиксировать', 'количество', 'кластер', 'алгоритм', 'кластеризация', 'плотность', 'иерархический', 'кластеризация']\n",
      "->\n",
      "['разработка', 'система', 'детектирование', 'идентификация', 'объект', 'кадр', 'объект', 'исследование', 'кадр', 'видео', 'предмет', 'исследование', 'детекция', 'классификация', 'идентификация', 'объект', 'интерес', 'цель', 'определить', 'какой', 'заранее', 'задать', 'класс', 'принадлежать', 'объект', 'проблема', 'протяжённость', 'объект', 'различный', 'число', 'помещаться', 'один', 'изображение', 'формулировка', 'задача', 'необходимо', 'разработать', 'система', 'идентификация', 'объект', 'найти', 'система', 'вскрытие', 'определять', 'тип', 'характеристика', 'найти', 'объект', 'выделить', 'объект', 'обязательно', 'должный', 'знать', 'язык', 'программирование', 'с++', 'java', 'python', ';', 'уметь', 'работать', 'команда', 'желательно', 'должный', 'знать', 'математический', 'основа', 'детекции', 'объект', 'понятие', 'свёртка', 'машинный', 'обучение', ';', 'владеть', 'английский', 'язык', 'достаточный', 'чтение', 'стать', 'результат', 'получить', 'знание', 'математический', 'основа', 'компьютерный', 'зрение', 'алгоритм', 'машинный', 'обучение', ';', 'умение', 'проведение', 'научный', 'исследование', 'прикладной', 'создание', 'программный', 'фреймворк', ';', 'опыт', 'работа', 'предприятие', 'условие', 'проект', 'близкий', 'реальный', 'сформировать', 'список', 'алгоритм', 'идентификация', 'необходимо', 'сформировать', 'список', 'алгоритм', 'идентификация', 'создать', 'framework', 'позволять', 'решать', 'задача', 'идентификация', 'несколько', 'метод', 'необходимо', 'создать', 'framework', 'позволять', 'решать', 'задача', 'идентификация', 'несколько', 'метод', 'сформировать', 'критерий', 'сравнение', 'алгоритм', 'необходимо', 'сформировать', 'критерий', 'сравнение', 'алгоритм', 'сравнить', 'запрограммировать', 'алгоритм', 'выбрать', 'критерий', 'необходимо', 'сравнить', 'запрограммировать', 'алгоритм', 'выбрать', 'критерий']\n",
      "0.8666015863418579\n",
      "-----------------------------------\n",
      "['курс', 'рассматриваться', 'свойство', 'зрительный', 'восприятие', 'человек', 'основа', 'работа', 'цвет', 'цветовой', 'модель', 'вид', 'контраст', 'психология', 'восприятие', 'цвет', 'шрифт', 'основа', 'построение', 'композиция', 'методика', 'подбор', 'шрифт', 'рассматриваться', 'основной', 'требование', 'композиция', 'наружный', 'реклама', 'основа', 'web-дизайн', 'также', 'курс', 'содержать', 'руководство', 'построение', 'эффективный', 'взаимодействие', 'пользователь', 'основной', 'принцип', 'построение', 'эргономичный', 'пользовательский', 'интерфейс', 'цель', 'дисциплина', 'изучение', 'теоретический', 'основа', 'компьютерный', 'дизайн', 'формирование', 'умение', 'навык', 'область', 'разработка', 'эргономичный', 'графический', 'пользовательский', 'интерфейс', 'различный', 'система', 'формирование', 'знание', 'умение', 'навык', 'область', 'разработка', 'эргономичный', 'графический', 'пользовательский', 'интерфейс', 'различный', 'система', 'результат', 'изучение', 'дисциплина', 'студент', 'получать', 'знание', 'закон', 'зрительный', 'восприятие', 'человек', 'основный', 'цветовой', 'модель', 'метод', 'представление', 'информация', 'основа', 'построение', 'композиция', 'подбор', 'цветовой', 'гамма', 'принцип', 'создание', 'подбор', 'шрифт', 'классификация', 'вид', 'реклама', 'основный', 'правило', 'построение', 'эргономичный', 'пользовательский', 'интерфейс', 'также', 'термин', 'определение', 'использовать', 'дизайн', 'вид', 'метод', 'формирование', 'умение', 'работа', 'различный', 'графический', 'пакет', 'выполнение', 'любой', 'дизайнерский', 'работа', 'формирование', 'навык', 'создание', 'эргономичный', 'графический', 'пользовательский', 'интерфейс', 'различный', 'систем.', 'министерство', 'наука', 'высокий', 'образование', 'российский', 'федерация', 'фгаоу', '«', 'санкт-петербургский', 'государственный', 'электротехнический', 'университет', '«', 'лэти', '»', 'имя', 'в.и', 'ульянов', 'ленин', '»', '____________________________________________________________', 'экзаменационный', 'билет', '№', '1', 'дисциплина', '``', 'основа', 'компьютерный', 'дизайн', \"''\", 'фкть', '1.', 'фактор', 'который', 'следовать', 'учитывать', 'выбор', 'шрифт', '2.', 'совет', 'создание', 'эргономичный', 'дизайн', 'утверждать', 'заведовать', 'кафедра', 'в.в', 'цехановский.', 'введение', 'цель', 'задача', 'курс', 'основный', 'литература', 'основной', 'этап', 'работа', 'дизайнер', '«', 'поиск', 'идея', '»', 'основной', 'этап', 'работа', 'дизайнер', 'основной', 'метод', 'поиск', '«', 'новый', '»', 'идея', 'свойство', 'зрительный', 'восприятие', 'человек', 'свойство', 'зрительный', 'восприятие', 'человек', 'перспектива', 'тень', 'перспектива', 'тень', 'цвет', 'теория', 'цвет', 'основной', 'ошибка', 'подбор', 'цветовой', 'гамма', 'отклонение', 'различение', 'цвет', 'контраст', 'основной', 'вид', 'контраст', 'композиция', 'понятие', 'композиция', 'вид', 'характеристика', 'композиция', 'некоторый', 'композиционный', 'приём', 'композиция', 'шрифт', 'совет', 'выбор', 'шрифт', 'дизайн', 'наружный', 'реклама', 'классификация', 'реклама', 'метод', 'правило', 'создание', 'эффективный', 'реклама', 'наружный', 'реклама', 'рекомендация', 'создание', 'фирменный', 'стиль', 'основа', 'web-дизайн', 'основной', 'понятие', 'общий', 'структура', 'главный', 'страница', 'основной', 'правило', 'создание', 'дизайн', 'веб-страница', '10', 'главный', 'ошибка', 'веб-дизайн', 'usability', 'принцип', 'проектирование', 'эргономичный', 'пользовательский', 'интерфейс', '58', 'признак', 'хороший', 'пользовательский', 'интерфейс', 'эвристика', 'я.', 'нильсена', 'гештальт', 'принцип', 'дизайн', 'заключение', 'перспектива', 'развитие', 'применение', 'компьютерный', 'дизайн', 'работа', 'эргономист']\n",
      "->\n",
      "['разработка', 'иса', '``', 'расписание', \"''\", '/', '``', 'деканат', \"''\", 'информационный', 'система', 'иса', '``', 'расписание', \"''\", 'обеспечивать', 'процесс', 'формирование', 'предоставление', 'расписание', 'вуз', 'рамка', 'она', 'выполняться', 'согласование', 'пожелание', 'преподаватель', 'кафедра', 'возможность', 'аудиторный', 'фонд', 'лэти', 'система', 'реализовать', 'javascript', 'использование', 'фреймворк', 'svelte', 'необходимо', 'перевести', 'система', 'typescript', 'фреймворк', 'vue', '2.0', 'материальный', 'дизайн', 'bootstrap', 'шаблон', 'приложение', 'дать', 'иса', '``', 'деканат', \"''\", 'предназначить', 'автоматизация', 'процесс', 'деканат', 'настоящий', 'время', 'осуществляться', 'информационный', 'обследование', 'процесс', 'деканат', 'разработка', 'середина', 'март', 'технология', 'typescript', 'фреймворк', 'vue', '2.0', 'материальный', 'дизайн', 'bootstrap', 'обязательно', 'должный', 'знать', 'html', 'css', 'javascript', 'typescript', 'уметь', 'выполнять', 'проектирование', 'интерфейс', 'пользователь', 'запрос', 'web-сервер', ';', 'разработка', 'статический', 'web-приложение', ';', 'реализация', 'динамический', 'web-приложение', ';', 'подключение', 'web-приложение', 'web-сервер', ';', 'разработка', 'модульный', 'интеграционный', 'тест', ';', 'описание', 'свой', 'решение', 'вид', 'справка', 'пользователь', ';', 'владеть', 'основный', 'навык', 'анализ', 'требование', 'пользователь', 'разработка', 'web-приложение', 'работа', 'команда', ';', 'технология', 'совместный', 'работа', 'git', 'желательно', 'должный', 'знать', 'фреймворк', 'vue', '2.0', 'nestjs', 'bootstrap', ';', 'уметь', 'проектировать', 'web-приложение', ';', 'разрабатывать', 'дизайн', 'web-приложение', ';', 'разрабатывать', 'новый', ';', 'разрабатывать', 'серверный', 'часть', 'web-приложение', ';', 'проектировать', 'бд', ';', 'выполнять', 'нагрузочный', 'тестирование', ';', 'проверять', 'web-приложение', 'взлом', 'готовить', 'рекомендация', 'защита', 'взлом', ';', 'работать', 'качество', 'технический', 'поддержка', 'пользователь', ';', 'описывать', 'разработать', 'решение', 'вид', 'публикация', ';', 'обладать', 'навык', 'совместный', 'разработка', 'результат', 'получить', 'большинство', 'знание', 'перечисленный', '``', 'желательно', 'должный', \"''\", 'отбор', 'студент', 'проект', 'задание', 'возможный', 'следующий', 'вариант', 'брать', 'работа', 'отдел', 'лэти', 'это', 'основный', 'цель', 'участие', 'данный', 'проект', 'просить', 'сразу', 'давать', 'дополнительный', 'задание', 'случай', 'высокий', 'конкуренция', 'либо', 'рекомендовать', 'другой', 'проект', 'лэти', 'другой', 'организация', 'интеграция', 'создать', 'решение', 'объединение', 'получить', 'тестовый', 'задание', 'один', 'система', 'выполнение', 'первый', 'этап', 'проект', 'проектирование', 'интерфейс', 'пользователь', 'проектирование', 'набор', 'запрос', 'сервер', 'разработка', 'статический', 'web-приложение', 'разработка', 'динамический', 'web-приложение', 'проектирование', 'структура', 'бд', 'разработка', 'web-сервер', 'подключение', 'web-сервер', 'тестирование', 'проверка', 'взлом', 'опытный', 'эксплуатация', '2.', 'формирование', 'расписание', 'центр', '2.1.', 'клиентский', 'часть', 'иса', '``', 'расписание', \"''\", 'лэти', 'реализовать', 'помощь', 'фреймворк', 'svelte', 'необходимо', 'задать', 'п.1', 'компонент', 'переписать', 'typescript+vue2+bootstrap', 'подготовить', 'тест', 'технический', 'документация', 'обращать', 'внимание', 'разный', 'компонент', 'выдать', 'разный', 'студент', 'поэтому', 'работать', 'просить', 'именно', 'тот', 'компонент', 'который', 'указать', 'п.1', 'дальнейший', 'компонент', 'быть', 'объединить', 'один', 'web-приложение', '2.2.', 'результат', 'просить', 'вид', 'pull', 'request', 'pr', 'отправить', 'git', 'написать', 'код', 'быть', 'выдать', 'рекомендации/замечания/предложение', 'который', 'необходимо', 'учесть', '2.3.', 'сожаление', 'данный', 'задание', 'проверять', 'знание', 'умение', 'навык', 'весь', 'цикл', 'разработка', 'программный', 'обеспечение', 'позволять', '``', 'окунуться', \"''\", 'реальный', 'разработка', 'проверить', 'готовность', 'решать', 'реальный', 'задача', '2.4.', 'рекомендовать', 'срок', 'выполнение', 'отправка', 'первый', 'pr', '2-3', 'неделя', 'максимальный', '5', 'неделя', 'предполагаться', 'рекомендациями/замечаниями/предложение', 'pr', 'справиться', '2-3', 'неделя', '3.', 'формирование', 'расписание', 'кафедра', 'фвиснуть', '2.1.', 'клиентский', 'часть', 'иса', '``', 'расписание', \"''\", 'лэти', 'реализовать', 'помощь', 'фреймворк', 'svelte', 'необходимо', 'задать', 'п.1', 'компонент', 'переписать', 'typescript+vue2+bootstrap', 'подготовить', 'тест', 'технический', 'документация', 'обращать', 'внимание', 'разный', 'компонент', 'выдать', 'разный', 'студент', 'поэтому', 'работать', 'просить', 'именно', 'тот', 'компонент', 'который', 'указать', 'п.1', 'дальнейший', 'компонент', 'быть', 'объединить', 'один', 'web-приложение', '2.2.', 'результат', 'просить', 'вид', 'pull', 'request', 'pr', 'отправить', 'git', 'написать', 'код', 'быть', 'выдать', 'рекомендации/замечания/предложение', 'который', 'необходимо', 'учесть', '2.3.', 'сожаление', 'данный', 'задание', 'проверять', 'знание', 'умение', 'навык', 'весь', 'цикл', 'разработка', 'программный', 'обеспечение', 'позволять', '``', 'окунуться', \"''\", 'реальный', 'разработка', 'проверить', 'готовность', 'решать', 'реальный', 'задача', '2.4.', 'рекомендовать', 'срок', 'выполнение', 'отправка', 'первый', 'pr', '2-3', 'неделя', 'максимальный', '5', 'неделя', 'предполагаться', 'рекомендациями/замечаниями/предложение', 'pr', 'справиться', '2-3', 'неделя', '4.', 'подтверждение', 'перечень', 'дисциплина', '2.1.', 'клиентский', 'часть', 'иса', '``', 'расписание', \"''\", 'лэти', 'реализовать', 'помощь', 'фреймворк', 'svelte', 'необходимо', 'задать', 'п.1', 'компонент', 'переписать', 'typescript+vue2+bootstrap', 'подготовить', 'тест', 'технический', 'документация', 'обращать', 'внимание', 'разный', 'компонент', 'выдать', 'разный', 'студент', 'поэтому', 'работать', 'просить', 'именно', 'тот', 'компонент', 'который', 'указать', 'п.1', 'дальнейший', 'компонент', 'быть', 'объединить', 'один', 'web-приложение', '2.2.', 'результат', 'просить', 'вид', 'pull', 'request', 'pr', 'отправить', 'git', 'написать', 'код', 'быть', 'выдать', 'рекомендации/замечания/предложение', 'который', 'необходимо', 'учесть', '2.3.', 'сожаление', 'данный', 'задание', 'проверять', 'знание', 'умение', 'навык', 'весь', 'цикл', 'разработка', 'программный', 'обеспечение', 'позволять', '``', 'окунуться', \"''\", 'реальный', 'разработка', 'проверить', 'готовность', 'решать', 'реальный', 'задача', '2.4.', 'рекомендовать', 'срок', 'выполнение', 'отправка', 'первый', 'pr', '2-3', 'неделя', 'максимальный', '5', 'неделя', 'предполагаться', 'рекомендациями/замечаниями/предложение', 'pr', 'справиться', '2-3', 'неделя', '6.', 'составление', 'пожелание', 'экзаменационный', 'сессия']\n",
      "0.6468179821968079\n",
      "-----------------------------------\n",
      "['дисциплина', 'посвятить', 'изучение', 'проектирование', 'компонент', 'выбор', 'подходящий', 'шаблон', 'решение', 'задача', 'иметься', 'реализация', 'сопровождение', 'программа', 'различный', 'язык', 'программирование', 'соответствующий', 'дисциплина', 'дисциплина', 'предусматривать', 'умение', 'использовать', 'основной', 'инструмент', 'разработка', 'программирование', 'ядро', 'основной', 'компонент', 'архитектура', 'ядро', 'linux', 'интерфейс', 'взаимодействие', 'основной', 'метод', 'приём', 'отладка', 'результат', 'освоение', 'данный', 'курс', 'являться', 'применение', 'современный', 'компилятор', 'проектирование', 'типовой', 'решение', 'учёт', 'специфика', 'программирование', 'ядро', 'использование', 'возможность', 'существующий', 'программный', 'архитектура', 'ядро', 'linux']\n",
      "->\n",
      "['разработка', 'сапр', 'основа', 'платформа', 'отечественный', 'плк', 'процессорный', 'ядро', 'mips', 'цель', 'адаптация', 'доработка', 'открытый', 'программный', 'обеспечение', 'среда', 'разработка', 'обеспечение', 'функционирование', 'отечественный', 'программировать', 'логический', 'контроллер', 'ядро', 'mips', 'задача', 'эффективность', 'оптимизировать', 'ключ', 'компилятор', 'архитектура', 'mips', 'архитектурный', 'особенность', 'среда', 'разработка', 'протокол', 'мэк', 'среда', 'разработка', 'разработка', 'тест', 'верификация', 'предложить', 'решение', 'проект', 'выполняться', 'интерес', 'обязательно', 'должный', 'знать', 'основа', 'программирование', ';', 'уметь', 'читать', 'технический', 'документация', ';', 'владеть', 'язык', 'c', 'python', 'желательно', 'должный', 'знать', 'основа', 'промышленный', 'автоматика', ';', 'уметь', 'работать', 'плк', ';', 'владеть', 'язык', 'стандарт', 'результат', 'получить', 'знание', 'область', 'промышленный', 'автоматика', ';', 'умение', 'область', 'разработка', 'плк', 'язык', 'стандарт', ';', 'опыт', 'работа', 'ide', 'среда', 'промышленный', 'автоматика']\n",
      "0.8829005360603333\n",
      "-----------------------------------\n"
     ]
    }
   ],
   "source": [
    "import numpy as np\n",
    "# rpd -> projects\n",
    "sentences_similarity_match = np.zeros(match_df['text_rp'].size)\n",
    "\n",
    "for i in range(match_df['text_rp'].size):\n",
    "#     rp_sentence_words = [w for w in match_df['text_rp'][i].split() if w in model.wv.index_to_key]\n",
    "#     proj_sentence_words = [w for w in match_df['text_proj'][i].split() if w in model.wv.index_to_key]\n",
    "    rp_sentence_words = [w for w in match_df['prepr_text_rp'][i] if w in model.wv.index_to_key]\n",
    "    proj_sentence_words = [ w for w in match_df['prepr_text_proj'][i] if w in model.wv.index_to_key]\n",
    "    \n",
    "    sim = model.wv.n_similarity(rp_sentence_words, proj_sentence_words)\n",
    "    print(rp_sentence_words, end='\\n->\\n')\n",
    "    print(proj_sentence_words, end=f'\\n{sim}\\n-----------------------------------\\n')\n",
    "    sentences_similarity_match[i] = sim\n",
    "\n",
    "    \n"
   ]
  },
  {
   "cell_type": "code",
   "execution_count": 206,
   "id": "dc4529fc",
   "metadata": {
    "scrolled": false
   },
   "outputs": [
    {
     "data": {
      "text/plain": [
       "array([0.81036729, 0.76388967, 0.71164727, 0.82980579, 0.77255148,\n",
       "       0.62003851, 0.72004086, 0.79076713, 0.86660159, 0.64681798,\n",
       "       0.88290054])"
      ]
     },
     "execution_count": 206,
     "metadata": {},
     "output_type": "execute_result"
    }
   ],
   "source": [
    "sentences_similarity_match"
   ]
  },
  {
   "cell_type": "code",
   "execution_count": 207,
   "id": "2692f7a3",
   "metadata": {},
   "outputs": [],
   "source": [
    "path_unmatch = './unmatch.json'\n",
    "file_unmatch = open(path_unmatch)\n",
    "data_unmatch = json.load(file_unmatch)"
   ]
  },
  {
   "cell_type": "code",
   "execution_count": 208,
   "id": "ff3268c8",
   "metadata": {},
   "outputs": [],
   "source": [
    "unmatch_df = pd.DataFrame(data_unmatch)"
   ]
  },
  {
   "cell_type": "code",
   "execution_count": 209,
   "id": "a9be6d09",
   "metadata": {},
   "outputs": [],
   "source": [
    "unmatch_df['prepr_text_proj'] = unmatch_df.apply(lambda row: preprocess(row['text_proj'], punctuation_marks, stop_words, morph), axis=1)\n",
    "unmatch_df['prepr_text_rp'] = unmatch_df.apply(lambda row: preprocess(row['text_rp'], punctuation_marks, stop_words, morph), axis=1)"
   ]
  },
  {
   "cell_type": "code",
   "execution_count": 210,
   "id": "014034ca",
   "metadata": {},
   "outputs": [
    {
     "data": {
      "text/plain": [
       "array([0.39592803, 0.46157533, 0.34518367, 0.54723549, 0.19471337,\n",
       "       0.50917399, 0.4277783 , 0.7631042 , 0.75102216, 0.57896596])"
      ]
     },
     "execution_count": 210,
     "metadata": {},
     "output_type": "execute_result"
    }
   ],
   "source": [
    "import numpy as np\n",
    "# rpd -> projects\n",
    "sentences_similarity_unmatch = np.zeros(unmatch_df['text_rp'].size)\n",
    "\n",
    "for i in range(unmatch_df['text_rp'].size):\n",
    "#     rp_sentence_words = [w for w in match_df['text_rp'][i].split() if w in model.wv.index_to_key]\n",
    "#     proj_sentence_words = [w for w in match_df['text_proj'][i].split() if w in model.wv.index_to_key]\n",
    "    rp_sentence_words = [w for w in unmatch_df['prepr_text_rp'][i] if w in model.wv.index_to_key]\n",
    "    proj_sentence_words = [ w for w in unmatch_df['prepr_text_proj'][i] if w in model.wv.index_to_key]\n",
    "    \n",
    "    sim = model.wv.n_similarity(rp_sentence_words, proj_sentence_words)\n",
    "#     print(rp_sentence_words, end='\\n->\\n')\n",
    "#     print(proj_sentence_words, end=f'\\n{sim}\\n-----------------------------------\\n')\n",
    "    sentences_similarity_unmatch[i] = sim\n",
    "    \n",
    "sentences_similarity_unmatch"
   ]
  },
  {
   "cell_type": "markdown",
   "id": "be8c6c1e",
   "metadata": {},
   "source": [
    "### Считаем, что число match = 0.75"
   ]
  },
  {
   "cell_type": "markdown",
   "id": "25006cab",
   "metadata": {},
   "source": [
    "1) Когда обучили на всем датасете, получаем следующее:\n",
    "\n",
    "### F1 Score\n"
   ]
  },
  {
   "cell_type": "code",
   "execution_count": 224,
   "id": "0c4d7b42",
   "metadata": {},
   "outputs": [],
   "source": [
    "def calc_f1_score(sim_match, sim_unmatch, match_threshold):\n",
    "    (TP, FP, FN, TN) = (0, 0, 0, 0)\n",
    "    for i in range(sim_match.size):\n",
    "        # у всех модели из данного списка должен быть sim_match[i] >= match_threshold\n",
    "        if sim_match[i] >= match_threshold: \n",
    "            TP += 1\n",
    "        else:\n",
    "            FN += 1\n",
    "        \n",
    "    for i in range(sim_unmatch.size):\n",
    "        if sim_match[i] >= match_threshold: \n",
    "            FP += 1\n",
    "        else:\n",
    "            TN += 1\n",
    "    \n",
    "#     print(TP, FP, FN)\n",
    "    return round(float(2*TP / (2*TP + FP + FN)), 3)"
   ]
  },
  {
   "cell_type": "code",
   "execution_count": 225,
   "id": "2fe803b0",
   "metadata": {},
   "outputs": [
    {
     "data": {
      "text/plain": [
       "0.643"
      ]
     },
     "execution_count": 225,
     "metadata": {},
     "output_type": "execute_result"
    }
   ],
   "source": [
    "calc_f1_score(sentences_similarity_match, sentences_similarity_unmatch, 0.70)"
   ]
  }
 ],
 "metadata": {
  "kernelspec": {
   "display_name": "Python 3 (ipykernel)",
   "language": "python",
   "name": "python3"
  },
  "language_info": {
   "codemirror_mode": {
    "name": "ipython",
    "version": 3
   },
   "file_extension": ".py",
   "mimetype": "text/x-python",
   "name": "python",
   "nbconvert_exporter": "python",
   "pygments_lexer": "ipython3",
   "version": "3.9.15"
  }
 },
 "nbformat": 4,
 "nbformat_minor": 5
}
