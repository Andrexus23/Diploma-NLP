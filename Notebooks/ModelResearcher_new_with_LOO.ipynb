{
 "cells": [
  {
   "cell_type": "code",
   "execution_count": 1,
   "id": "3a3f7325",
   "metadata": {
    "scrolled": true
   },
   "outputs": [
    {
     "name": "stderr",
     "output_type": "stream",
     "text": [
      "[nltk_data] Downloading package punkt to\n",
      "[nltk_data]     C:\\Users\\Andrey\\AppData\\Roaming\\nltk_data...\n",
      "[nltk_data]   Package punkt is already up-to-date!\n",
      "[nltk_data] Downloading package stopwords to\n",
      "[nltk_data]     C:\\Users\\Andrey\\AppData\\Roaming\\nltk_data...\n",
      "[nltk_data]   Package stopwords is already up-to-date!\n"
     ]
    },
    {
     "data": {
      "text/plain": [
       "True"
      ]
     },
     "execution_count": 1,
     "metadata": {},
     "output_type": "execute_result"
    }
   ],
   "source": [
    "import json\n",
    "import pandas as pd\n",
    "import pymorphy2\n",
    "import nltk\n",
    "from nltk.tokenize import word_tokenize\n",
    "from nltk.corpus import stopwords\n",
    "import gensim\n",
    "import gensim.models as models\n",
    "from gensim.models import Word2Vec\n",
    "from gensim.models import FastText\n",
    "from gensim.models import KeyedVectors\n",
    "import gensim.downloader as api\n",
    "from sklearn.utils import shuffle\n",
    "import zipfile\n",
    "import sys\n",
    "import requests, io\n",
    "import re \n",
    "import random\n",
    "import numpy as np\n",
    "import matplotlib.pyplot as plt\n",
    "\n",
    "nltk.download('punkt')\n",
    "nltk.download('stopwords')"
   ]
  },
  {
   "cell_type": "code",
   "execution_count": 2,
   "id": "1907bb47",
   "metadata": {},
   "outputs": [],
   "source": [
    "def preprocess(text:str, stop_words, punctuation_marks, morph):\n",
    "    tokens = word_tokenize(text.lower())\n",
    "    preprocessed_text = []\n",
    "    for token in tokens:\n",
    "        if token not in punctuation_marks:\n",
    "            lemma = morph.parse(token)[0].normal_form\n",
    "            if re.match(r'(\\d.|\\d)', lemma) is None:\n",
    "                if lemma not in stop_words:\n",
    "                    preprocessed_text.append(lemma)\n",
    "    return preprocessed_text\n",
    "\n",
    "def read_json(path: str):\n",
    "    file = open(path)\n",
    "    data = json.load(file)\n",
    "    return pd.DataFrame(data)\n",
    "\n",
    "def get_states(sim, df, match_threshold):\n",
    "    (TP, FP, FN, TN) = (0, 0, 0, 0)\n",
    "    for i in range(sim.size):\n",
    "        if df['need_match'][i]:\n",
    "            if sim[i] >= match_threshold: \n",
    "                TP += 1\n",
    "            else:\n",
    "                FN += 1\n",
    "        else:\n",
    "            if sim[i] >= match_threshold: \n",
    "                FP += 1\n",
    "            else:\n",
    "                TN += 1\n",
    "    \n",
    "    return (TP, FP, FN, TN)\n",
    "        \n",
    "\n",
    "def calc_f1_score(sim, df, match_threshold):\n",
    "    (TP, FP, FN, TN) = get_states(sim, df, match_threshold)\n",
    "#     print(TP, FP, FN, TN)\n",
    "    return round(float(2*TP / (2*TP + FP + FN)), 3)\n",
    "\n",
    "def calc_accuracy(sim, df, match_threshold):\n",
    "    (TP, FP, FN, TN) = get_states(sim, df, match_threshold)\n",
    "    return round(float((TP + TN) / (TP + TN + FP + FN)), 3)\n",
    "\n",
    "\n",
    "punctuation_marks = ['!', ',', '(', ')', ';', ':', '-', '?', '.', '..', '...', \"\\\"\", \"/\", \"\\`\\`\", \"»\", \"«\" ]\n",
    "stop_words = stopwords.words(\"russian\")\n",
    "morph = pymorphy2.MorphAnalyzer()"
   ]
  },
  {
   "cell_type": "code",
   "execution_count": 3,
   "id": "396a0dae",
   "metadata": {},
   "outputs": [],
   "source": [
    "class ModelResearcher:\n",
    "    def __init__(self):\n",
    "        self.model = None\n",
    "    \n",
    "    def preprocess_and_save(self, data_df: pd.DataFrame, path, text_field='text') -> pd.DataFrame:\n",
    "        # for preprocessing dataset. Use it only in critical cases cause it's too slow on big datasets\n",
    "        data_df['preprocessed_' + text_field] = data_df.apply(lambda row: preprocess(row[text_field], punctuation_marks, stop_words, morph), axis=1)\n",
    "        data_df_preprocessed = data_df.copy()\n",
    "        data_df_preprocessed = data_df_preprocessed.drop(columns=[text_field], axis=1)\n",
    "        data_df_preprocessed.reset_index(drop=True, inplace=True)\n",
    "        if path is not None:\n",
    "            data_df_preprocessed.to_json(path)\n",
    "        return data_df_preprocessed\n",
    "    \n",
    "    def preprocess_and_save_pairs(self, data_df: pd.DataFrame, path, text_field_1, text_field_2) -> pd.DataFrame:\n",
    "        data_df['preprocessed_' + text_field_1] = data_df.apply(lambda row: preprocess(row[text_field_1], punctuation_marks, stop_words, morph), axis=1)\n",
    "        data_df['preprocessed_' + text_field_2] = data_df.apply(lambda row: preprocess(row[text_field_2], punctuation_marks, stop_words, morph), axis=1)\n",
    "        data_df_preprocessed = data_df.copy()\n",
    "        data_df_preprocessed = data_df_preprocessed.drop(columns=[text_field_1, text_field_2], axis=1)\n",
    "        data_df_preprocessed.reset_index(drop=True, inplace=True)\n",
    "        if path is not None:\n",
    "            data_df_preprocessed.to_json(path)\n",
    "        return data_df_preprocessed\n",
    "    \n",
    "    def train(self, data_df: pd.DataFrame, model=\"w2v\"):            \n",
    "        if model == \"w2v\":\n",
    "            train_part = data_df['preprocessed_texts']\n",
    "            self.model = gensim.models.Word2Vec(sentences=train_part, min_count=5, vector_size=50, epochs=10)\n",
    "            self.model.save('w2v')\n",
    "        elif model == \"fast_text\":\n",
    "            train_part = data_df['preprocessed_texts'].tolist()\n",
    "            self.model = gensim.models.FastText(vector_size=50, min_count=5)\n",
    "            self.model.build_vocab(corpus_iterable=train_part)\n",
    "            self.model.train(corpus_iterable=train_part, total_examples=len(train_part), epochs=5)\n",
    "            self.model.save('fastText')\n",
    "        return\n",
    "\n",
    "                    \n",
    "    \n",
    "    def predict_sentences_similarity(self, sentences_1: pd.Series, sentences_2: pd.Series):\n",
    "        if sentences_1.size != sentences_2.size:\n",
    "            return None\n",
    "        else:\n",
    "            if self.model is not None:\n",
    "                sentences_sim = np.zeros(sentences_1.size)\n",
    "                sz = sentences_1.size\n",
    "                for i in range(sz): \n",
    "                    sentences_1_words = [w for w in sentences_1[i] if w in self.model.wv.index_to_key]\n",
    "                    sentences_2_words = [w for w in sentences_2[i] if w in self.model.wv.index_to_key]\n",
    "                    sim = self.model.wv.n_similarity(sentences_1_words, sentences_2_words)\n",
    "                    sentences_sim[i] = sim\n",
    "                \n",
    "                return sentences_sim\n",
    "            else:\n",
    "                return None\n",
    "        \n",
    "    def get_train_test_dfs_for_f1(self, df_match, df_unmatch): \n",
    "        df_match = shuffle(df_match)\n",
    "        df_unmatch = shuffle(df_unmatch)\n",
    "        \n",
    "        df_train_f1 = pd.concat([pd.DataFrame(df_match[0:len(df_match) // 2]), pd.DataFrame(df_unmatch[0:len(df_unmatch) // 2])], axis=0)\n",
    "        df_test_f1 = pd.concat([pd.DataFrame(df_match[len(df_match) // 2 : ]), pd.DataFrame(df_unmatch[len(df_unmatch) // 2 : ])], axis=0)\n",
    "        return (df_train_f1, df_test_f1)\n",
    "    \n",
    "    \n",
    "    def get_optimal_threshold(self, sentences_1: pd.Series, sentences_2: pd.Series, df, step=0.02):\n",
    "        if sentences_1.size != sentences_2.size or self.model is None:\n",
    "            return None\n",
    "        else:\n",
    "            threshold = 0\n",
    "            thresholds = []\n",
    "            max_ = 0\n",
    "            h = step\n",
    "            steps = np.linspace(0, 1, num=int(1/h))\n",
    "            steps = np.round(steps, 2)\n",
    "            h_max = 0\n",
    "            sim =  self.predict_sentences_similarity( sentences_1, sentences_2)\n",
    "            for i in steps:\n",
    "                threshold = calc_f1_score(sim, df, h)\n",
    "                print(h, threshold)\n",
    "                thresholds.append(threshold)\n",
    "                if threshold > max_:\n",
    "                    max_ = threshold\n",
    "                    h_max = h\n",
    "                h += step\n",
    "            plt.plot(steps, thresholds)\n",
    "            plt.figure(figsize=(10,3))\n",
    "            plt.show()\n",
    "            \n",
    "            return h_max"
   ]
  },
  {
   "cell_type": "markdown",
   "id": "c604a377",
   "metadata": {},
   "source": [
    "## Обучим word2vec"
   ]
  },
  {
   "cell_type": "code",
   "execution_count": 4,
   "id": "d53ac827",
   "metadata": {},
   "outputs": [
    {
     "name": "stderr",
     "output_type": "stream",
     "text": [
      "WARNING:root:random_state not set so using default value\n",
      "WARNING:root:failed to load state from ./w2v.state: [Errno 2] No such file or directory: './w2v.state'\n"
     ]
    },
    {
     "data": {
      "text/plain": [
       "<gensim.models.word2vec.Word2Vec at 0x2a8d4b7d640>"
      ]
     },
     "execution_count": 4,
     "metadata": {},
     "output_type": "execute_result"
    }
   ],
   "source": [
    "data_df = read_json('./preprocessed_documents.json')\n",
    "modelResearcher_w2v = ModelResearcher()\n",
    "# modelResearcher_w2v.train(data_df, model=\"w2v\")\n",
    "modelResearcher_w2v.model = models.ldamodel.LdaModel.load('./w2v')\n",
    "modelResearcher_w2v.model"
   ]
  },
  {
   "cell_type": "code",
   "execution_count": 73,
   "id": "5bc60c26",
   "metadata": {},
   "outputs": [
    {
     "data": {
      "text/plain": [
       "0       [дисциплина, посвятить, изучение, вопрос, связ...\n",
       "1       [рамка, дисциплина, рассматриваться, метод, ср...\n",
       "2       [дисциплина, изучаться, математический, метод,...\n",
       "3       [дисциплина, теория, оптимальный, управление, ...\n",
       "4       [дисциплина, включать, изложение, основа, теор...\n",
       "                              ...                        \n",
       "4728    [it-рекрутер_hr-менеджер, основной, задача, •,...\n",
       "4729    [анализ, фактор, влиять, посещаемость, музей, ...\n",
       "4730    [senior, middle, java, находиться, поиск, seni...\n",
       "4731    [python, разработчик, находиться, поиск, pytho...\n",
       "4732    [чёрт-стажёр, страх, ужас, нужный, чёрт, демон...\n",
       "Name: preprocessed_texts, Length: 4733, dtype: object"
      ]
     },
     "execution_count": 73,
     "metadata": {},
     "output_type": "execute_result"
    }
   ],
   "source": [
    "data_df['preprocessed_texts']"
   ]
  },
  {
   "cell_type": "code",
   "execution_count": 5,
   "id": "2a59bc0b",
   "metadata": {},
   "outputs": [],
   "source": [
    "# match_unmatch_df = read_json('./dataset.json')"
   ]
  },
  {
   "cell_type": "code",
   "execution_count": 6,
   "id": "c62ed17f",
   "metadata": {},
   "outputs": [],
   "source": [
    "df_match = read_json('./data/match.json')[:-2]\n",
    "df_unmatch = read_json('./data/unmatch.json')"
   ]
  },
  {
   "cell_type": "code",
   "execution_count": 19,
   "id": "2d167ac4",
   "metadata": {},
   "outputs": [
    {
     "data": {
      "text/plain": [
       "{'id_rp': '1009',\n",
       " 'id_proj': '4',\n",
       " 'name_rp': 'РАЗРАБОТКА ПРИЛОЖЕНИЙ В РАСПРЕДЕЛЕННОЙ СРЕДЕ',\n",
       " 'name_proj': 'Разработка модулей обработки данных для библиотеки алгоритмов федеративного обучения FL4J ',\n",
       " 'text_rp': 'Дисциплина посвящена изучению основных принципов распределённых систем. В теоретической части курса рассматриваются вопросы о взаимодействии и синхронизации процессов, достижении непротиворечивости реплицируемых данных, обеспечении отказоустойчивости в распределенных системах. В процессе освоения дисциплины формируются практические навыки разработки распределенных приложений на объектно-ориентированном языке программирования Java с использованием различных моделей взаимодействия процессов. . Целью дисциплины является изучение принципов распределённых систем и формирование практических навыков разработки распределенных приложений с использованием различных моделей взаимодействия процессов. Получение теоретических знаний в области взаимодействия и синхронизации процессов, достижения непротиворечивости реплицируемых данных, обеспечения отказоустойчивости в распределенных системах. Формирование практических навыков разработки распределенных приложений на объектно-ориентированном языке программирования Java. Освоение подходов к построению архитектуры распределенного приложения. Знания принципов построения распределенных систем; методов и инструментальных средств систем искусственного интеллекта, критериев их выбора и методов комплексирования; основных критериев эффективности и качества функционирования системы искусственного интеллекта; методов, языков и программных средств разработки программных компонентов систем искусственного интеллекта. Умения разрабатывать распределенные приложения; выбирать, применять и интегрировать методы и инструментальные средства систем искусственного интеллекта, критерии их выбора и методы комплексирования; выбирать, адаптировать, разрабатывать и интегрировать программные компоненты систем искусственного интеллекта с учетом основных критериев эффективности и качества функционирования. Навыки использования интегрированной среды разработки в процессе создания распределенных приложений.. Введение. Предмет дисциплины и ее задачи. Историческая справка о развитии распределенных систем. Значение развития этого направления для искусственного интеллекта. Структура содержания дисциплины. Характеристика литературных источников. Модели взаимодействия процессов в распределенных системах. Потоки и процессы. Модели взаимодействия процессов - удаленное обращение к методам, системы очередей сообщений. Примеры использования удаленного обращения к методам на практике. Типы процессов в распределенных системах. Внутренняя организация процессов. Многопоточные технологии. Модель клиент-сервер и ее организация. Варианты миграции программ и процессов с машины на машину. Способы использования имен в распределенных системах. Имя и сущность. Организация доступа к сущности. Пространства имен. Разрешение имени. Реализация системы именования. Серверы имен. Примеры существующих реализаций пространств имен. Мобильные сущности. Подходы к их локализации. Организация имен. Взаимодействие сущностей именования и локализации. Механизмы автоматического удаления сущностей. Синхронизация процессов в распределенных системах. Синхронизация на основе реального времени. Синхронизация с одним относительным параметром упорядочивания. Определение распределенного глобального состояния и его запись в процессе синхронизации. Алгоритмы голосования. Распределенные взаимные исключения. Распределенные транзакции, их классификация и реализация. Реплицируемые данные в распределенных системах. Понятие репликации данных. Реплицируемые объекты. Непротиворечивость реплицируемых данных. Способы достижения непротиворечивости данных в распределенных системах. Модели непротиворечивости данных в распределенных системах с разделяемой памятью. Реализации моделей непротиворечивости - распространение обновлений и поддержание непротиворечивости реплик. Заключение. Основные направления дальнейшего развития и практического использования распределенных систем и технологий в искусственном интеллекте. ',\n",
       " 'text_proj': 'Разработка модулей обработки данных для библиотеки алгоритмов федеративного обучения FL4J.   Разработка фреймворка для алгоритмов федеративного обучения предназначенных для выполнения анализа данных (машинного обучения) на распределенных источниках данных без их передачи в центр обработки.  Технология предложена  в 2017 году Google Inc и предназначена для обучения на Больших данных в условиях когда данные не могут передаваться в облако по причине плохой связи или приватности данных. В настоящее время технология активно развивается и появляется множество библиотек на языке Python (FATE, PaddleFL, TensorFlow Federate и др.).     Разработанная в СПбГЭТУ \"ЛЭТИ\" библиотека FL4J (Federated Learning for Java) написана на языке Java. Она позволяет как реализовать алгоритмы машинного обучения для выполнения в федеративном режиме, так и подключать другие библиотеки, например, библиотеку DL4J для алгоритмов глубокого обучения.  В данном проекте требуется разработка: разработка модулей для чтения данных разных форматов; доработка модулей обработки данных (нормализации, пропущенных значений и т.п.); модулей преобразования наборов данных.  . Обязательно должен: знать: принципы ООП, язык программирования Java уметь: программировать на Java. Желательно должен: знать: работу с файлами и БД уметь: работать с файлами разных форматов Excel, Json и др. опыт: использования Unit тестов (JUnit). В результате получит: знания: работу с файлами и БД, методы преобразования и обработки данных умения: обрабатывать данные для машинного обучения опыт: программирование на языке Java, использования Unit тестов (JUnit). Резюме о навыках. Требуется написать кратко что Вы умеете и чем хотели бы заниматься (работа с изображениями, БД, иные форматы данных, улучшение производительности доступа к данным и др).',\n",
       " 'need_match': True}"
      ]
     },
     "execution_count": 19,
     "metadata": {},
     "output_type": "execute_result"
    }
   ],
   "source": [
    "import json \n",
    "df_match.iloc[2].to_dict()"
   ]
  },
  {
   "cell_type": "code",
   "execution_count": 18,
   "id": "38c6db32",
   "metadata": {},
   "outputs": [
    {
     "data": {
      "text/plain": [
       "35"
      ]
     },
     "execution_count": 18,
     "metadata": {},
     "output_type": "execute_result"
    }
   ],
   "source": [
    "len(df_match)"
   ]
  },
  {
   "cell_type": "code",
   "execution_count": 77,
   "id": "ef58f1f6",
   "metadata": {},
   "outputs": [],
   "source": [
    "df_train_f1, df_test_f1 = modelResearcher_w2v.get_train_test_dfs_for_f1(df_match, df_unmatch)"
   ]
  },
  {
   "cell_type": "code",
   "execution_count": 78,
   "id": "93a42165",
   "metadata": {
    "scrolled": true
   },
   "outputs": [],
   "source": [
    "# print('df_train: {} of {}'.format(df_train_f1['id_rp'].size, match_unmatch_df ['id_rp'].size))\n",
    "# print('df_test: {} of {}'.format(df_test_f1['id_rp'].size,match_unmatch_df['id_rp'].size))"
   ]
  },
  {
   "cell_type": "code",
   "execution_count": 79,
   "id": "6cef32f8",
   "metadata": {},
   "outputs": [],
   "source": [
    "df_train_f1 = modelResearcher_w2v.preprocess_and_save_pairs(df_train_f1, None, 'text_rp', 'text_proj')\n",
    "df_test_f1 = modelResearcher_w2v.preprocess_and_save_pairs(df_test_f1, None, 'text_rp', 'text_proj')"
   ]
  },
  {
   "cell_type": "code",
   "execution_count": 80,
   "id": "bd7ae0e8",
   "metadata": {
    "scrolled": true
   },
   "outputs": [
    {
     "name": "stdout",
     "output_type": "stream",
     "text": [
      "[0.43783876 0.78563374 0.61523765 0.85213083 0.46187714 0.76616025\n",
      " 0.57451683 0.84332138 0.80015588 0.57313359 0.73210019 0.8607533\n",
      " 0.70850456 0.90276861 0.8862173  0.87649679 0.88589334 0.37826762\n",
      " 0.46044144 0.4197768  0.61669093 0.74201459 0.33040631 0.80667573\n",
      " 0.23390482 0.5330922  0.50997144 0.00562475 0.47497338 0.57371163\n",
      " 0.70036554 0.6825856  0.51717567 0.62059015]\n"
     ]
    }
   ],
   "source": [
    "result_w2v_train = modelResearcher_w2v.predict_sentences_similarity(df_train_f1['preprocessed_text_rp'], df_train_f1['preprocessed_text_proj'])\n",
    "print(result_w2v_train)"
   ]
  },
  {
   "cell_type": "code",
   "execution_count": 81,
   "id": "87001d6f",
   "metadata": {
    "scrolled": true
   },
   "outputs": [
    {
     "name": "stdout",
     "output_type": "stream",
     "text": [
      "0.02 0.68\n",
      "0.04 0.68\n",
      "0.06 0.68\n",
      "0.08 0.68\n",
      "0.1 0.68\n",
      "0.12000000000000001 0.68\n",
      "0.14 0.68\n",
      "0.16 0.68\n",
      "0.18 0.68\n",
      "0.19999999999999998 0.68\n",
      "0.21999999999999997 0.68\n",
      "0.23999999999999996 0.694\n",
      "0.25999999999999995 0.694\n",
      "0.27999999999999997 0.694\n",
      "0.3 0.694\n",
      "0.32 0.694\n",
      "0.34 0.708\n",
      "0.36000000000000004 0.708\n",
      "0.38000000000000006 0.723\n",
      "0.4000000000000001 0.723\n",
      "0.4200000000000001 0.739\n",
      "0.4400000000000001 0.711\n",
      "0.46000000000000013 0.711\n",
      "0.48000000000000015 0.714\n",
      "0.5000000000000001 0.714\n",
      "0.5200000000000001 0.75\n",
      "0.5400000000000001 0.769\n",
      "0.5600000000000002 0.769\n",
      "0.5800000000000002 0.722\n",
      "0.6000000000000002 0.722\n",
      "0.6200000000000002 0.706\n",
      "0.6400000000000002 0.727\n",
      "0.6600000000000003 0.727\n",
      "0.6800000000000003 0.727\n",
      "0.7000000000000003 0.75\n",
      "0.7200000000000003 0.733\n",
      "0.7400000000000003 0.69\n",
      "0.7600000000000003 0.714\n",
      "0.7800000000000004 0.667\n",
      "0.8000000000000004 0.615\n",
      "0.8200000000000004 0.583\n",
      "0.8400000000000004 0.583\n",
      "0.8600000000000004 0.455\n",
      "0.8800000000000004 0.3\n",
      "0.9000000000000005 0.111\n",
      "0.9200000000000005 0.0\n",
      "0.9400000000000005 0.0\n",
      "0.9600000000000005 0.0\n",
      "0.9800000000000005 0.0\n",
      "1.0000000000000004 0.0\n"
     ]
    },
    {
     "data": {
      "image/png": "[encoded data removed]",
      "text/plain": [
       "<Figure size 640x480 with 1 Axes>"
      ]
     },
     "metadata": {},
     "output_type": "display_data"
    },
    {
     "data": {
      "text/plain": [
       "<Figure size 1000x300 with 0 Axes>"
      ]
     },
     "metadata": {},
     "output_type": "display_data"
    }
   ],
   "source": [
    "result_w2v_train_opt = modelResearcher_w2v.get_optimal_threshold(df_train_f1['preprocessed_text_rp'], df_train_f1['preprocessed_text_proj'], df_train_f1, 0.02)"
   ]
  },
  {
   "cell_type": "code",
   "execution_count": 82,
   "id": "a9d6cfd4",
   "metadata": {
    "scrolled": true
   },
   "outputs": [
    {
     "name": "stdout",
     "output_type": "stream",
     "text": [
      "0.5400000000000001\n"
     ]
    }
   ],
   "source": [
    "print(result_w2v_train_opt)"
   ]
  },
  {
   "cell_type": "code",
   "execution_count": 83,
   "id": "2d3f8f97",
   "metadata": {},
   "outputs": [
    {
     "name": "stdout",
     "output_type": "stream",
     "text": [
      "F1-score train w2v: 0.769\n",
      "accuracy train w2v: 0.735\n"
     ]
    }
   ],
   "source": [
    "f1_w2v_train = calc_f1_score(result_w2v_train, df_train_f1, result_w2v_train_opt)\n",
    "acc_w2v_train = calc_accuracy(result_w2v_train, df_train_f1, result_w2v_train_opt)\n",
    "print('F1-score train w2v: {}'.format(f1_w2v_train ))\n",
    "print('accuracy train w2v: {}'.format(acc_w2v_train))\n",
    "df_train_f1.drop('score', inplace=True, axis=1, errors='ignore')\n",
    "df_train_f1.insert(loc=4, column='score', value=result_w2v_train) \n",
    "# df_train_f1"
   ]
  },
  {
   "cell_type": "code",
   "execution_count": 84,
   "id": "6a2b9a22",
   "metadata": {},
   "outputs": [
    {
     "name": "stdout",
     "output_type": "stream",
     "text": [
      "F1-score test w2v: 0.75\n",
      "accuracy test w2v: 0.667\n"
     ]
    }
   ],
   "source": [
    "result_w2v_test = modelResearcher_w2v.predict_sentences_similarity(df_test_f1['preprocessed_text_rp'], df_test_f1['preprocessed_text_proj'])\n",
    "f1_w2v_test = calc_f1_score(result_w2v_test, df_test_f1, result_w2v_train_opt)\n",
    "acc_w2v_test = calc_accuracy(result_w2v_test, df_test_f1, result_w2v_train_opt)\n",
    "print('F1-score test w2v: {}'.format(f1_w2v_test))\n",
    "print('accuracy test w2v: {}'.format(acc_w2v_test))"
   ]
  },
  {
   "cell_type": "code",
   "execution_count": 85,
   "id": "07654414",
   "metadata": {},
   "outputs": [
    {
     "data": {
      "text/html": [
       "<div>\n",
       "<style scoped>\n",
       "    .dataframe tbody tr th:only-of-type {\n",
       "        vertical-align: middle;\n",
       "    }\n",
       "\n",
       "    .dataframe tbody tr th {\n",
       "        vertical-align: top;\n",
       "    }\n",
       "\n",
       "    .dataframe thead th {\n",
       "        text-align: right;\n",
       "    }\n",
       "</style>\n",
       "<table border=\"1\" class=\"dataframe\">\n",
       "  <thead>\n",
       "    <tr style=\"text-align: right;\">\n",
       "      <th></th>\n",
       "      <th>id_rp</th>\n",
       "      <th>id_proj</th>\n",
       "      <th>name_rp</th>\n",
       "      <th>name_proj</th>\n",
       "      <th>score</th>\n",
       "      <th>need_match</th>\n",
       "      <th>preprocessed_text_rp</th>\n",
       "      <th>preprocessed_text_proj</th>\n",
       "    </tr>\n",
       "  </thead>\n",
       "  <tbody>\n",
       "    <tr>\n",
       "      <th>8</th>\n",
       "      <td>1000</td>\n",
       "      <td>15</td>\n",
       "      <td>АЛГОРИТМЫ БЕСПИЛОТНОГО ТРАНСПОРТА</td>\n",
       "      <td>Разработка системы движения роя дронов в прост...</td>\n",
       "      <td>0.801327</td>\n",
       "      <td>True</td>\n",
       "      <td>[данный, курс, знакомить, слушатель, основа, у...</td>\n",
       "      <td>[разработка, система, движение, рой, дрон, про...</td>\n",
       "    </tr>\n",
       "    <tr>\n",
       "      <th>9</th>\n",
       "      <td>1916</td>\n",
       "      <td>41</td>\n",
       "      <td>Разработка программного обеспечения для  робот...</td>\n",
       "      <td>Разработка подводного телеуправляемого робота ...</td>\n",
       "      <td>0.797273</td>\n",
       "      <td>True</td>\n",
       "      <td>[цель, изучение, курс, состоять, формирование,...</td>\n",
       "      <td>[разработка, подводный, телеуправляемый, робот...</td>\n",
       "    </tr>\n",
       "    <tr>\n",
       "      <th>10</th>\n",
       "      <td>1009</td>\n",
       "      <td>4</td>\n",
       "      <td>РАЗРАБОТКА ПРИЛОЖЕНИЙ В РАСПРЕДЕЛЕННОЙ СРЕДЕ</td>\n",
       "      <td>Разработка модулей обработки данных для библио...</td>\n",
       "      <td>0.718113</td>\n",
       "      <td>True</td>\n",
       "      <td>[дисциплина, посвятить, изучение, основный, пр...</td>\n",
       "      <td>[разработка, модуль, обработка, данные, библио...</td>\n",
       "    </tr>\n",
       "    <tr>\n",
       "      <th>11</th>\n",
       "      <td>8010</td>\n",
       "      <td>8011</td>\n",
       "      <td>Интеллектуальные технологии управления рисками</td>\n",
       "      <td>руководитель отдела международной лингвистики ...</td>\n",
       "      <td>0.835715</td>\n",
       "      <td>True</td>\n",
       "      <td>[дисциплина, предназначить, подготовка, специа...</td>\n",
       "      <td>[торгово-промышленный, группа, тайпит, приглаш...</td>\n",
       "    </tr>\n",
       "    <tr>\n",
       "      <th>12</th>\n",
       "      <td>8008</td>\n",
       "      <td>8009</td>\n",
       "      <td>Семантические технологии и многоагентные системы</td>\n",
       "      <td>Проект открытой семантической технологии компо...</td>\n",
       "      <td>0.917686</td>\n",
       "      <td>True</td>\n",
       "      <td>[дисциплина, включать, изучение, основный, мод...</td>\n",
       "      <td>[работа, рассматриваться, открытый, проект, на...</td>\n",
       "    </tr>\n",
       "    <tr>\n",
       "      <th>13</th>\n",
       "      <td>1040</td>\n",
       "      <td>26</td>\n",
       "      <td>Управление и информатика в технических системах</td>\n",
       "      <td>Программно-аппаратное конфигурирование сети ла...</td>\n",
       "      <td>0.735219</td>\n",
       "      <td>True</td>\n",
       "      <td>[рамка, дать, дисциплина, рассматриваться, осн...</td>\n",
       "      <td>[программно-аппаратный, конфигурирование, сеть...</td>\n",
       "    </tr>\n",
       "    <tr>\n",
       "      <th>14</th>\n",
       "      <td>5089</td>\n",
       "      <td>31</td>\n",
       "      <td>Глубокое обучение</td>\n",
       "      <td>Определение состояния автомобиля используя видео</td>\n",
       "      <td>0.829041</td>\n",
       "      <td>True</td>\n",
       "      <td>[глубокий, обучение, являться, передовой, обла...</td>\n",
       "      <td>[определение, состояние, автомобиль, использов...</td>\n",
       "    </tr>\n",
       "    <tr>\n",
       "      <th>15</th>\n",
       "      <td>4530</td>\n",
       "      <td>4999</td>\n",
       "      <td>Информационные технологии проектирования радио...</td>\n",
       "      <td>Инженер</td>\n",
       "      <td>0.733255</td>\n",
       "      <td>True</td>\n",
       "      <td>[цель, изучение, дисциплина, являться, приобре...</td>\n",
       "      <td>[обязанность, участие, приёмо-сдаточный, испыт...</td>\n",
       "    </tr>\n",
       "    <tr>\n",
       "      <th>16</th>\n",
       "      <td>985</td>\n",
       "      <td>8</td>\n",
       "      <td>Основы компьютерного дизайна</td>\n",
       "      <td>Разработка ИС \"Расписание\" / \"Деканат\".</td>\n",
       "      <td>0.603140</td>\n",
       "      <td>True</td>\n",
       "      <td>[курс, рассматриваться, свойство, зрительный, ...</td>\n",
       "      <td>[разработка, иса, ``, расписание, '', ``, дека...</td>\n",
       "    </tr>\n",
       "    <tr>\n",
       "      <th>17</th>\n",
       "      <td>8006</td>\n",
       "      <td>8007</td>\n",
       "      <td>Беспроводные сети</td>\n",
       "      <td>Инженер беспроводных сетей</td>\n",
       "      <td>0.781181</td>\n",
       "      <td>True</td>\n",
       "      <td>[курс, изучаться, общий, вопрос, история, перс...</td>\n",
       "      <td>[cti, communication, technology, innovations, ...</td>\n",
       "    </tr>\n",
       "    <tr>\n",
       "      <th>18</th>\n",
       "      <td>4833</td>\n",
       "      <td>25</td>\n",
       "      <td>Социология</td>\n",
       "      <td>Android-приложение предобработки данных 3d-рек...</td>\n",
       "      <td>0.315217</td>\n",
       "      <td>False</td>\n",
       "      <td>[курс, нацелить, формирование, студент, знание...</td>\n",
       "      <td>[android-приложение, предобработка, данные, ви...</td>\n",
       "    </tr>\n",
       "    <tr>\n",
       "      <th>19</th>\n",
       "      <td>6093</td>\n",
       "      <td>56</td>\n",
       "      <td>Математический анализ</td>\n",
       "      <td>Практика в проектах по автономному транспорту ...</td>\n",
       "      <td>0.610394</td>\n",
       "      <td>False</td>\n",
       "      <td>[математический, анализ, ключевой, раздел, выс...</td>\n",
       "      <td>[практика, проект, автономный, транспорт, ао, ...</td>\n",
       "    </tr>\n",
       "    <tr>\n",
       "      <th>20</th>\n",
       "      <td>4401</td>\n",
       "      <td>48</td>\n",
       "      <td>Проектирование встроенных приложений</td>\n",
       "      <td>Разработка рекомендательной машины</td>\n",
       "      <td>0.775248</td>\n",
       "      <td>False</td>\n",
       "      <td>[настоящий, время, больший, доля, аппаратура, ...</td>\n",
       "      <td>[разработка, рекомендательный, машина, рекомен...</td>\n",
       "    </tr>\n",
       "    <tr>\n",
       "      <th>21</th>\n",
       "      <td>9003</td>\n",
       "      <td>9004</td>\n",
       "      <td>Возобновляемые источники энергии</td>\n",
       "      <td>Младший программист-разработчик 1С</td>\n",
       "      <td>0.340697</td>\n",
       "      <td>False</td>\n",
       "      <td>[возобновлять, источник, энергия, использовать...</td>\n",
       "      <td>[обязанность, разработка, доп, функциональност...</td>\n",
       "    </tr>\n",
       "    <tr>\n",
       "      <th>22</th>\n",
       "      <td>683</td>\n",
       "      <td>38</td>\n",
       "      <td>Методы осуществления компьютерных атак и вирус...</td>\n",
       "      <td>Разработка системы звукоподводной связи на осн...</td>\n",
       "      <td>0.870066</td>\n",
       "      <td>False</td>\n",
       "      <td>[дисциплина, обеспечивать, получение, знание, ...</td>\n",
       "      <td>[разработка, система, звукоподводный, связь, о...</td>\n",
       "    </tr>\n",
       "    <tr>\n",
       "      <th>23</th>\n",
       "      <td>5663</td>\n",
       "      <td>47</td>\n",
       "      <td>Тестирование и сопровождение программного обес...</td>\n",
       "      <td>Анализ и обучение рекомендательных моделей для...</td>\n",
       "      <td>0.714765</td>\n",
       "      <td>False</td>\n",
       "      <td>[цель, дисциплина, охватывать, ряд, направлени...</td>\n",
       "      <td>[анализ, обучение, рекомендательный, модель, ф...</td>\n",
       "    </tr>\n",
       "    <tr>\n",
       "      <th>24</th>\n",
       "      <td>9001</td>\n",
       "      <td>9002</td>\n",
       "      <td>Солнечная гетероструктурная фотоэнергетика</td>\n",
       "      <td>Инженер мониторинга.</td>\n",
       "      <td>0.376774</td>\n",
       "      <td>False</td>\n",
       "      <td>[результат, изучение, дисциплина, быть, рассмо...</td>\n",
       "      <td>[инженер, мониторинг, предстоять, •, мониторин...</td>\n",
       "    </tr>\n",
       "    <tr>\n",
       "      <th>25</th>\n",
       "      <td>2163</td>\n",
       "      <td>31</td>\n",
       "      <td>Аудиотехника</td>\n",
       "      <td>Определение состояния автомобиля используя видео</td>\n",
       "      <td>0.622188</td>\n",
       "      <td>False</td>\n",
       "      <td>[дисциплина, аудиотехника, изучать, особенност...</td>\n",
       "      <td>[определение, состояние, автомобиль, использов...</td>\n",
       "    </tr>\n",
       "    <tr>\n",
       "      <th>26</th>\n",
       "      <td>9009</td>\n",
       "      <td>9010</td>\n",
       "      <td>Методы искусственного интеллекта</td>\n",
       "      <td>QA Engineer/Тестировщик</td>\n",
       "      <td>0.726137</td>\n",
       "      <td>False</td>\n",
       "      <td>[рабочий, программа, представить, тема, освеща...</td>\n",
       "      <td>[наш, стек, php, golang, postgresql, redis, ka...</td>\n",
       "    </tr>\n",
       "    <tr>\n",
       "      <th>27</th>\n",
       "      <td>2646</td>\n",
       "      <td>44</td>\n",
       "      <td>Диэлектрические материалы и приборы</td>\n",
       "      <td>Разработка системы проверки доставки писем на ...</td>\n",
       "      <td>0.191493</td>\n",
       "      <td>False</td>\n",
       "      <td>[рассматриваться, современный, представление, ...</td>\n",
       "      <td>[разработка, система, проверка, доставка, пись...</td>\n",
       "    </tr>\n",
       "    <tr>\n",
       "      <th>28</th>\n",
       "      <td>2648</td>\n",
       "      <td>46</td>\n",
       "      <td>Конфликтология</td>\n",
       "      <td>Разработка интеллектуальных модулей обработки ...</td>\n",
       "      <td>0.448133</td>\n",
       "      <td>False</td>\n",
       "      <td>[дисциплина, конфликтология, знакомить, основн...</td>\n",
       "      <td>[разработка, интеллектуальный, модуль, обработ...</td>\n",
       "    </tr>\n",
       "    <tr>\n",
       "      <th>29</th>\n",
       "      <td>1557</td>\n",
       "      <td>30</td>\n",
       "      <td>Бережливые технологии в менеджменте качества</td>\n",
       "      <td>Разработка системы детектирования и идентифика...</td>\n",
       "      <td>0.737545</td>\n",
       "      <td>False</td>\n",
       "      <td>[цель, освоение, дисциплина, бережливый, техно...</td>\n",
       "      <td>[разработка, система, детектирование, идентифи...</td>\n",
       "    </tr>\n",
       "    <tr>\n",
       "      <th>30</th>\n",
       "      <td>2645</td>\n",
       "      <td>11</td>\n",
       "      <td>Компоненты электронной техники</td>\n",
       "      <td>Анализ динамики COVID-19 в России</td>\n",
       "      <td>0.325603</td>\n",
       "      <td>False</td>\n",
       "      <td>[рассмотреть, основной, свойство, характеристи...</td>\n",
       "      <td>[web-приложение, отображение, динамика, различ...</td>\n",
       "    </tr>\n",
       "    <tr>\n",
       "      <th>31</th>\n",
       "      <td>6075</td>\n",
       "      <td>41</td>\n",
       "      <td>Методы оптимизации</td>\n",
       "      <td>Разработка подводного телеуправляемого робота ...</td>\n",
       "      <td>0.664200</td>\n",
       "      <td>False</td>\n",
       "      <td>[рассматриваться, классификация, задача, метод...</td>\n",
       "      <td>[разработка, подводный, телеуправляемый, робот...</td>\n",
       "    </tr>\n",
       "    <tr>\n",
       "      <th>32</th>\n",
       "      <td>9019</td>\n",
       "      <td>9020</td>\n",
       "      <td>Психология</td>\n",
       "      <td>Ведущий юрист</td>\n",
       "      <td>0.634542</td>\n",
       "      <td>False</td>\n",
       "      <td>[задача, курс, входить, освоение, закон, функц...</td>\n",
       "      <td>[обязанность, организация, работа, юридический...</td>\n",
       "    </tr>\n",
       "    <tr>\n",
       "      <th>33</th>\n",
       "      <td>4355</td>\n",
       "      <td>34</td>\n",
       "      <td>Базы данных</td>\n",
       "      <td>Разработка модулей «Кафедра» и «Деканат-2» для...</td>\n",
       "      <td>0.674056</td>\n",
       "      <td>False</td>\n",
       "      <td>[дисциплина, посвятить, знакомство, основный, ...</td>\n",
       "      <td>[разработка, модуль, кафедра, деканат-2, новый...</td>\n",
       "    </tr>\n",
       "    <tr>\n",
       "      <th>34</th>\n",
       "      <td>9017</td>\n",
       "      <td>9018</td>\n",
       "      <td>Твердотельная электроника</td>\n",
       "      <td>Бизнес-аналитик</td>\n",
       "      <td>0.668845</td>\n",
       "      <td>False</td>\n",
       "      <td>[твердотельный, электроника, основный, цель, и...</td>\n",
       "      <td>[аанализ, бизнес-процесс, оптимизация, использ...</td>\n",
       "    </tr>\n",
       "    <tr>\n",
       "      <th>35</th>\n",
       "      <td>5059</td>\n",
       "      <td>20</td>\n",
       "      <td>Статистика случайных процессов</td>\n",
       "      <td>Построение аналитического решения, включая кор...</td>\n",
       "      <td>0.705532</td>\n",
       "      <td>False</td>\n",
       "      <td>[изучаться, теоретический, основа, случайный, ...</td>\n",
       "      <td>[построение, аналитический, решение, включая, ...</td>\n",
       "    </tr>\n",
       "  </tbody>\n",
       "</table>\n",
       "</div>"
      ],
      "text/plain": [
       "   id_rp id_proj                                            name_rp  \\\n",
       "8   1000      15                  АЛГОРИТМЫ БЕСПИЛОТНОГО ТРАНСПОРТА   \n",
       "9   1916      41  Разработка программного обеспечения для  робот...   \n",
       "10  1009       4       РАЗРАБОТКА ПРИЛОЖЕНИЙ В РАСПРЕДЕЛЕННОЙ СРЕДЕ   \n",
       "11  8010    8011     Интеллектуальные технологии управления рисками   \n",
       "12  8008    8009   Семантические технологии и многоагентные системы   \n",
       "13  1040      26    Управление и информатика в технических системах   \n",
       "14  5089      31                                  Глубокое обучение   \n",
       "15  4530    4999  Информационные технологии проектирования радио...   \n",
       "16   985       8                       Основы компьютерного дизайна   \n",
       "17  8006    8007                                  Беспроводные сети   \n",
       "18  4833      25                                         Социология   \n",
       "19  6093      56                              Математический анализ   \n",
       "20  4401      48               Проектирование встроенных приложений   \n",
       "21  9003    9004                   Возобновляемые источники энергии   \n",
       "22   683      38  Методы осуществления компьютерных атак и вирус...   \n",
       "23  5663      47  Тестирование и сопровождение программного обес...   \n",
       "24  9001    9002         Солнечная гетероструктурная фотоэнергетика   \n",
       "25  2163      31                                       Аудиотехника   \n",
       "26  9009    9010                   Методы искусственного интеллекта   \n",
       "27  2646      44                Диэлектрические материалы и приборы   \n",
       "28  2648      46                                     Конфликтология   \n",
       "29  1557      30       Бережливые технологии в менеджменте качества   \n",
       "30  2645      11                     Компоненты электронной техники   \n",
       "31  6075      41                                 Методы оптимизации   \n",
       "32  9019    9020                                         Психология   \n",
       "33  4355      34                                        Базы данных   \n",
       "34  9017    9018                          Твердотельная электроника   \n",
       "35  5059      20                     Статистика случайных процессов   \n",
       "\n",
       "                                            name_proj     score  need_match  \\\n",
       "8   Разработка системы движения роя дронов в прост...  0.801327        True   \n",
       "9   Разработка подводного телеуправляемого робота ...  0.797273        True   \n",
       "10  Разработка модулей обработки данных для библио...  0.718113        True   \n",
       "11  руководитель отдела международной лингвистики ...  0.835715        True   \n",
       "12  Проект открытой семантической технологии компо...  0.917686        True   \n",
       "13  Программно-аппаратное конфигурирование сети ла...  0.735219        True   \n",
       "14   Определение состояния автомобиля используя видео  0.829041        True   \n",
       "15                                            Инженер  0.733255        True   \n",
       "16            Разработка ИС \"Расписание\" / \"Деканат\".  0.603140        True   \n",
       "17                         Инженер беспроводных сетей  0.781181        True   \n",
       "18  Android-приложение предобработки данных 3d-рек...  0.315217       False   \n",
       "19  Практика в проектах по автономному транспорту ...  0.610394       False   \n",
       "20                Разработка рекомендательной машины   0.775248       False   \n",
       "21                 Младший программист-разработчик 1С  0.340697       False   \n",
       "22  Разработка системы звукоподводной связи на осн...  0.870066       False   \n",
       "23  Анализ и обучение рекомендательных моделей для...  0.714765       False   \n",
       "24                               Инженер мониторинга.  0.376774       False   \n",
       "25   Определение состояния автомобиля используя видео  0.622188       False   \n",
       "26                            QA Engineer/Тестировщик  0.726137       False   \n",
       "27  Разработка системы проверки доставки писем на ...  0.191493       False   \n",
       "28  Разработка интеллектуальных модулей обработки ...  0.448133       False   \n",
       "29  Разработка системы детектирования и идентифика...  0.737545       False   \n",
       "30                  Анализ динамики COVID-19 в России  0.325603       False   \n",
       "31  Разработка подводного телеуправляемого робота ...  0.664200       False   \n",
       "32                                      Ведущий юрист  0.634542       False   \n",
       "33  Разработка модулей «Кафедра» и «Деканат-2» для...  0.674056       False   \n",
       "34                                    Бизнес-аналитик  0.668845       False   \n",
       "35  Построение аналитического решения, включая кор...  0.705532       False   \n",
       "\n",
       "                                 preprocessed_text_rp  \\\n",
       "8   [данный, курс, знакомить, слушатель, основа, у...   \n",
       "9   [цель, изучение, курс, состоять, формирование,...   \n",
       "10  [дисциплина, посвятить, изучение, основный, пр...   \n",
       "11  [дисциплина, предназначить, подготовка, специа...   \n",
       "12  [дисциплина, включать, изучение, основный, мод...   \n",
       "13  [рамка, дать, дисциплина, рассматриваться, осн...   \n",
       "14  [глубокий, обучение, являться, передовой, обла...   \n",
       "15  [цель, изучение, дисциплина, являться, приобре...   \n",
       "16  [курс, рассматриваться, свойство, зрительный, ...   \n",
       "17  [курс, изучаться, общий, вопрос, история, перс...   \n",
       "18  [курс, нацелить, формирование, студент, знание...   \n",
       "19  [математический, анализ, ключевой, раздел, выс...   \n",
       "20  [настоящий, время, больший, доля, аппаратура, ...   \n",
       "21  [возобновлять, источник, энергия, использовать...   \n",
       "22  [дисциплина, обеспечивать, получение, знание, ...   \n",
       "23  [цель, дисциплина, охватывать, ряд, направлени...   \n",
       "24  [результат, изучение, дисциплина, быть, рассмо...   \n",
       "25  [дисциплина, аудиотехника, изучать, особенност...   \n",
       "26  [рабочий, программа, представить, тема, освеща...   \n",
       "27  [рассматриваться, современный, представление, ...   \n",
       "28  [дисциплина, конфликтология, знакомить, основн...   \n",
       "29  [цель, освоение, дисциплина, бережливый, техно...   \n",
       "30  [рассмотреть, основной, свойство, характеристи...   \n",
       "31  [рассматриваться, классификация, задача, метод...   \n",
       "32  [задача, курс, входить, освоение, закон, функц...   \n",
       "33  [дисциплина, посвятить, знакомство, основный, ...   \n",
       "34  [твердотельный, электроника, основный, цель, и...   \n",
       "35  [изучаться, теоретический, основа, случайный, ...   \n",
       "\n",
       "                               preprocessed_text_proj  \n",
       "8   [разработка, система, движение, рой, дрон, про...  \n",
       "9   [разработка, подводный, телеуправляемый, робот...  \n",
       "10  [разработка, модуль, обработка, данные, библио...  \n",
       "11  [торгово-промышленный, группа, тайпит, приглаш...  \n",
       "12  [работа, рассматриваться, открытый, проект, на...  \n",
       "13  [программно-аппаратный, конфигурирование, сеть...  \n",
       "14  [определение, состояние, автомобиль, использов...  \n",
       "15  [обязанность, участие, приёмо-сдаточный, испыт...  \n",
       "16  [разработка, иса, ``, расписание, '', ``, дека...  \n",
       "17  [cti, communication, technology, innovations, ...  \n",
       "18  [android-приложение, предобработка, данные, ви...  \n",
       "19  [практика, проект, автономный, транспорт, ао, ...  \n",
       "20  [разработка, рекомендательный, машина, рекомен...  \n",
       "21  [обязанность, разработка, доп, функциональност...  \n",
       "22  [разработка, система, звукоподводный, связь, о...  \n",
       "23  [анализ, обучение, рекомендательный, модель, ф...  \n",
       "24  [инженер, мониторинг, предстоять, •, мониторин...  \n",
       "25  [определение, состояние, автомобиль, использов...  \n",
       "26  [наш, стек, php, golang, postgresql, redis, ka...  \n",
       "27  [разработка, система, проверка, доставка, пись...  \n",
       "28  [разработка, интеллектуальный, модуль, обработ...  \n",
       "29  [разработка, система, детектирование, идентифи...  \n",
       "30  [web-приложение, отображение, динамика, различ...  \n",
       "31  [разработка, подводный, телеуправляемый, робот...  \n",
       "32  [обязанность, организация, работа, юридический...  \n",
       "33  [разработка, модуль, кафедра, деканат-2, новый...  \n",
       "34  [аанализ, бизнес-процесс, оптимизация, использ...  \n",
       "35  [построение, аналитический, решение, включая, ...  "
      ]
     },
     "execution_count": 85,
     "metadata": {},
     "output_type": "execute_result"
    }
   ],
   "source": [
    "df_test_f1.drop('score', inplace=True, axis=1, errors='ignore')\n",
    "df_test_f1.insert(loc=4, column='score', value=result_w2v_test) \n",
    "df_test_f1[8:]"
   ]
  },
  {
   "attachments": {},
   "cell_type": "markdown",
   "id": "c6e2fd9e",
   "metadata": {},
   "source": [
    "## Leave One Out"
   ]
  },
  {
   "cell_type": "code",
   "execution_count": 86,
   "id": "77f19f13",
   "metadata": {},
   "outputs": [],
   "source": [
    "def get_states(sim, df, match_threshold):\n",
    "    (TP, FP, FN, TN) = (0, 0, 0, 0)\n",
    "    for i in range(len(sim)):\n",
    "        if df['need_match'][i:i+1].item():\n",
    "            if sim[i] >= match_threshold: \n",
    "                TP += 1\n",
    "            else:\n",
    "                FN += 1\n",
    "        else:\n",
    "            if sim[i] >= match_threshold: \n",
    "                FP += 1\n",
    "            else:\n",
    "                TN += 1\n",
    "    \n",
    "    return (TP, FP, FN, TN)\n",
    "        \n",
    "\n",
    "def calc_f1_score(sim, df, match_threshold):\n",
    "    (TP, FP, FN, TN) = get_states(sim, df, match_threshold)\n",
    "#     print(TP, FP, FN, TN)\n",
    "    return round(float(2*TP / (2*TP + FP + FN)), 3)\n",
    "    \n",
    "def max_f1_score(sim, df):\n",
    "    threshold = 0\n",
    "    thresholds = []\n",
    "    max_ = 0\n",
    "    step_max_ = 0\n",
    "    step = 0.02\n",
    "    h = step\n",
    "    steps = np.linspace(0, 1, num=int(1/h))\n",
    "    steps = np.round(steps, 2)\n",
    "\n",
    "    for i in steps:\n",
    "        threshold = calc_f1_score(sim, df, h)\n",
    "        thresholds.append(threshold)\n",
    "        if threshold > max_:\n",
    "            max_ = threshold\n",
    "            step_max_ = h\n",
    "        h += step\n",
    "    \n",
    "    return (steps, thresholds, max_, step_max_)"
   ]
  },
  {
   "cell_type": "code",
   "execution_count": 87,
   "id": "c046de8f",
   "metadata": {},
   "outputs": [],
   "source": [
    "df_train_f1 = read_json('./data/all_examples.json')\n",
    "df_train_f1 = modelResearcher_w2v.preprocess_and_save_pairs(df_train_f1, None, 'text_rp', 'text_proj')"
   ]
  },
  {
   "cell_type": "code",
   "execution_count": 89,
   "id": "6fe0a412",
   "metadata": {},
   "outputs": [
    {
     "name": "stdout",
     "output_type": "stream",
     "text": [
      "0.8 0.7000000000000003\n",
      "0.8 0.7000000000000003\n",
      "0.817 0.7200000000000003\n",
      "0.8 0.7000000000000003\n",
      "0.8 0.7000000000000003\n",
      "0.817 0.7200000000000003\n",
      "0.8 0.7000000000000003\n",
      "0.8 0.7000000000000003\n",
      "0.8 0.7000000000000003\n",
      "0.817 0.7200000000000003\n",
      "0.8 0.7000000000000003\n",
      "0.8 0.7000000000000003\n",
      "0.8 0.7000000000000003\n",
      "0.8 0.7000000000000003\n",
      "0.817 0.7200000000000003\n",
      "0.8 0.7000000000000003\n",
      "0.8 0.7000000000000003\n",
      "0.8 0.7000000000000003\n",
      "0.817 0.7200000000000003\n",
      "0.8 0.7000000000000003\n",
      "0.8 0.7000000000000003\n",
      "0.8 0.7000000000000003\n",
      "0.8 0.7000000000000003\n",
      "0.8 0.7000000000000003\n",
      "0.8 0.7000000000000003\n",
      "0.817 0.7200000000000003\n",
      "0.8 0.7000000000000003\n",
      "0.817 0.7200000000000003\n",
      "0.817 0.7200000000000003\n",
      "0.8 0.7000000000000003\n",
      "0.8 0.7000000000000003\n",
      "0.8 0.7000000000000003\n",
      "0.8 0.7000000000000003\n",
      "0.8 0.7000000000000003\n",
      "0.8 0.7000000000000003\n",
      "0.8 0.7000000000000003\n",
      "0.8 0.7000000000000003\n",
      "0.806 0.7200000000000003\n",
      "0.806 0.7200000000000003\n",
      "0.806 0.7200000000000003\n",
      "0.806 0.7200000000000003\n",
      "0.806 0.7200000000000003\n",
      "0.806 0.7200000000000003\n",
      "0.806 0.7200000000000003\n",
      "0.817 0.7200000000000003\n",
      "0.817 0.7200000000000003\n",
      "0.806 0.7200000000000003\n",
      "0.806 0.7200000000000003\n",
      "0.816 0.7000000000000003\n",
      "0.806 0.7200000000000003\n",
      "0.806 0.7200000000000003\n",
      "0.817 0.7200000000000003\n",
      "0.806 0.7200000000000003\n",
      "0.817 0.7200000000000003\n",
      "0.806 0.7200000000000003\n",
      "0.816 0.7000000000000003\n",
      "0.806 0.7200000000000003\n",
      "0.806 0.7200000000000003\n",
      "0.816 0.7000000000000003\n",
      "0.806 0.7200000000000003\n",
      "0.806 0.7200000000000003\n",
      "0.806 0.7200000000000003\n",
      "0.806 0.7200000000000003\n",
      "0.817 0.7200000000000003\n",
      "0.817 0.7200000000000003\n",
      "0.806 0.7200000000000003\n",
      "0.806 0.7200000000000003\n",
      "0.806 0.7200000000000003\n",
      "0.806 0.7200000000000003\n",
      "0.806 0.7200000000000003\n",
      "0.806 0.7200000000000003\n",
      "0.806 0.7200000000000003\n"
     ]
    }
   ],
   "source": [
    "N = len(df_train_f1)\n",
    "\n",
    "\n",
    "sim = modelResearcher_w2v.predict_sentences_similarity(df_train_f1['preprocessed_text_rp'], df_train_f1['preprocessed_text_proj'])\n",
    "sim = list(sim)\n",
    "predictions = []\n",
    "for i in range(N):\n",
    "    current_df = df_train_f1.drop(i).reset_index().drop(labels='index', axis=1)\n",
    "    current_sim = sim[:i] + sim[i+1:]\n",
    "    steps, thresholds, max_, cutoff = max_f1_score(current_sim, current_df)\n",
    "    print(max_, cutoff)\n",
    "    if sim[i] >= cutoff:\n",
    "      predictions.append(True)\n",
    "    else:\n",
    "      predictions.append(False)"
   ]
  },
  {
   "cell_type": "code",
   "execution_count": 90,
   "id": "8367b21a",
   "metadata": {},
   "outputs": [],
   "source": [
    "def get_states_leave_one_out(predictions, df):\n",
    "    (TP, FP, FN, TN) = (0, 0, 0, 0)\n",
    "    for i in range(len(sim)):\n",
    "        if df['need_match'][i:i+1].item():\n",
    "            if predictions[i]: \n",
    "                TP += 1\n",
    "            else:\n",
    "                FN += 1\n",
    "        else:\n",
    "            if predictions[i]: \n",
    "                FP += 1\n",
    "            else:\n",
    "                TN += 1\n",
    "    \n",
    "    return (TP, FP, FN, TN)\n",
    "        \n",
    "\n",
    "def calc_f1_score_loo(calc_states):\n",
    "    (TP, FP, FN, TN) = calc_states()\n",
    "#     print(TP, FP, FN, TN)\n",
    "    return round(float(2*TP / (2*TP + FP + FN)), 3)"
   ]
  },
  {
   "cell_type": "code",
   "execution_count": 92,
   "id": "868575fc",
   "metadata": {},
   "outputs": [
    {
     "data": {
      "text/plain": [
       "0.773"
      ]
     },
     "execution_count": 92,
     "metadata": {},
     "output_type": "execute_result"
    }
   ],
   "source": [
    "calc_f1_score_loo(lambda: get_states_leave_one_out(predictions, df_train_f1))"
   ]
  },
  {
   "cell_type": "markdown",
   "id": "c729b685",
   "metadata": {},
   "source": [
    "## FastText"
   ]
  },
  {
   "cell_type": "code",
   "execution_count": null,
   "id": "b2a6ccdf",
   "metadata": {
    "scrolled": false
   },
   "outputs": [],
   "source": [
    "# modelResearcher_ft = ModelResearcher()\n",
    "data_df = read_json('./preprocessed_documents.json')\n",
    "# modelResearcher_ft.train(data_df, model=\"fast_text\")\n"
   ]
  },
  {
   "cell_type": "code",
   "execution_count": null,
   "id": "eb59288f",
   "metadata": {},
   "outputs": [
    {
     "name": "stderr",
     "output_type": "stream",
     "text": [
      "WARNING:root:random_state not set so using default value\n",
      "WARNING:root:failed to load state from ft.state: [Errno 2] No such file or directory: 'ft.state'\n"
     ]
    }
   ],
   "source": [
    "modelResearcher_ft = ModelResearcher()\n",
    "modelResearcher_ft.model = models.ldamodel.LdaModel.load('ft')"
   ]
  },
  {
   "cell_type": "code",
   "execution_count": null,
   "id": "2e9d475e",
   "metadata": {},
   "outputs": [
    {
     "name": "stdout",
     "output_type": "stream",
     "text": [
      "0.02 0.667\n",
      "0.04 0.667\n",
      "0.06 0.667\n",
      "0.08 0.667\n",
      "0.1 0.667\n",
      "0.12000000000000001 0.667\n",
      "0.14 0.667\n",
      "0.16 0.667\n",
      "0.18 0.667\n",
      "0.19999999999999998 0.667\n",
      "0.21999999999999997 0.667\n",
      "0.23999999999999996 0.667\n",
      "0.25999999999999995 0.667\n",
      "0.27999999999999997 0.667\n",
      "0.3 0.667\n",
      "0.32 0.667\n",
      "0.34 0.667\n",
      "0.36000000000000004 0.667\n",
      "0.38000000000000006 0.667\n",
      "0.4000000000000001 0.667\n",
      "0.4200000000000001 0.667\n",
      "0.4400000000000001 0.667\n",
      "0.46000000000000013 0.667\n",
      "0.48000000000000015 0.667\n",
      "0.5000000000000001 0.667\n",
      "0.5200000000000001 0.667\n",
      "0.5400000000000001 0.688\n",
      "0.5600000000000002 0.688\n",
      "0.5800000000000002 0.688\n",
      "0.6000000000000002 0.688\n",
      "0.6200000000000002 0.688\n",
      "0.6400000000000002 0.688\n",
      "0.6600000000000003 0.71\n",
      "0.6800000000000003 0.733\n",
      "0.7000000000000003 0.733\n",
      "0.7200000000000003 0.786\n",
      "0.7400000000000003 0.769\n",
      "0.7600000000000003 0.769\n",
      "0.7800000000000004 0.72\n",
      "0.8000000000000004 0.75\n",
      "0.8200000000000004 0.9\n",
      "0.8400000000000004 0.778\n",
      "0.8600000000000004 0.625\n",
      "0.8800000000000004 0.429\n",
      "0.9000000000000005 0.308\n",
      "0.9200000000000005 0.308\n",
      "0.9400000000000005 0.0\n",
      "0.9600000000000005 0.0\n",
      "0.9800000000000005 0.0\n",
      "1.0000000000000004 0.0\n"
     ]
    },
    {
     "data": {
      "image/png": "[encoded data removed]",
      "text/plain": [
       "<Figure size 640x480 with 1 Axes>"
      ]
     },
     "metadata": {},
     "output_type": "display_data"
    },
    {
     "data": {
      "text/plain": [
       "<Figure size 1000x300 with 0 Axes>"
      ]
     },
     "metadata": {},
     "output_type": "display_data"
    }
   ],
   "source": [
    "result_ft_train_opt = modelResearcher_ft.get_optimal_threshold(df_train_f1['preprocessed_text_rp'], df_train_f1['preprocessed_text_proj'], df_train_f1, 0.02)"
   ]
  },
  {
   "cell_type": "code",
   "execution_count": null,
   "id": "80e00bbd",
   "metadata": {},
   "outputs": [
    {
     "name": "stdout",
     "output_type": "stream",
     "text": [
      "0.8200000000000004\n"
     ]
    }
   ],
   "source": [
    "print(result_ft_train_opt)"
   ]
  },
  {
   "cell_type": "code",
   "execution_count": null,
   "id": "5e248e99",
   "metadata": {},
   "outputs": [
    {
     "name": "stdout",
     "output_type": "stream",
     "text": [
      "F1-score train ft: 0.9\n",
      "accuracy train ft: 0.909\n"
     ]
    }
   ],
   "source": [
    "result_ft_train = modelResearcher_ft.predict_sentences_similarity(df_train_f1['preprocessed_text_rp'], df_train_f1['preprocessed_text_proj'])\n",
    "f1_ft_train = calc_f1_score(result_ft_train, df_train_f1, result_ft_train_opt)\n",
    "acc_ft_train = calc_accuracy(result_ft_train, df_train_f1, result_ft_train_opt)\n",
    "print('F1-score train ft: {}'.format(f1_ft_train ))\n",
    "print('accuracy train ft: {}'.format(acc_ft_train ))\n",
    "df_train_f1.drop('score', inplace=True, axis=1, errors='ignore')\n",
    "df_train_f1.insert(loc=4, column='score', value=result_ft_train) "
   ]
  },
  {
   "cell_type": "code",
   "execution_count": null,
   "id": "04d3df73",
   "metadata": {},
   "outputs": [
    {
     "name": "stdout",
     "output_type": "stream",
     "text": [
      "F1-score test ft: 0.727\n",
      "accuracy test ft: 0.727\n"
     ]
    }
   ],
   "source": [
    "result_ft_test = modelResearcher_ft.predict_sentences_similarity(df_test_f1['preprocessed_text_rp'], df_test_f1['preprocessed_text_proj'])\n",
    "f1_ft_test = calc_f1_score(result_ft_test, df_test_f1, result_ft_train_opt)\n",
    "acc_ft_test = calc_accuracy(result_ft_test, df_test_f1, result_ft_train_opt)\n",
    "print('F1-score test ft: {}'.format(f1_ft_test))\n",
    "print('accuracy test ft: {}'.format(acc_ft_test ))\n",
    "df_test_f1.drop('score', inplace=True, axis=1, errors='ignore')\n",
    "df_test_f1.insert(loc=4, column='score', value=result_ft_test) "
   ]
  },
  {
   "cell_type": "code",
   "execution_count": null,
   "id": "76db4644",
   "metadata": {},
   "outputs": [
    {
     "name": "stdout",
     "output_type": "stream",
     "text": [
      "0.947 0.8200000000000004\n",
      "0.889 0.8200000000000004\n",
      "0.889 0.8200000000000004\n",
      "0.947 0.8200000000000004\n",
      "0.889 0.8200000000000004\n",
      "0.889 0.8200000000000004\n",
      "0.889 0.8200000000000004\n",
      "0.889 0.8200000000000004\n",
      "0.889 0.8200000000000004\n",
      "0.889 0.8200000000000004\n",
      "0.889 0.8200000000000004\n",
      "0.9 0.8200000000000004\n",
      "0.9 0.8200000000000004\n",
      "0.9 0.8200000000000004\n",
      "0.9 0.8200000000000004\n",
      "0.9 0.8200000000000004\n",
      "0.9 0.8200000000000004\n",
      "0.9 0.8200000000000004\n",
      "0.9 0.8200000000000004\n",
      "0.9 0.8200000000000004\n",
      "0.9 0.8200000000000004\n",
      "0.9 0.8200000000000004\n",
      "[False, True, True, False, True, True, True, True, True, True, True, False, False, False, False, False, False, False, False, False, False, False]\n"
     ]
    }
   ],
   "source": [
    "N = len(df_train_f1)\n",
    "\n",
    "sim = modelResearcher_ft.predict_sentences_similarity(df_train_f1['preprocessed_text_rp'], df_train_f1['preprocessed_text_proj'])\n",
    "sim = list(sim)\n",
    "predictionsf = []\n",
    "for i in range(N):\n",
    "    current_df = df_train_f1.drop(i).reset_index().drop(labels='index', axis=1)\n",
    "    current_sim = sim[:i] + sim[i+1:]\n",
    "    steps, thresholds, max_, cutoff = max_f1_score(current_sim, current_df)\n",
    "    print(max_, cutoff)\n",
    "    if sim[i] >= cutoff:\n",
    "      predictionsf.append(True)\n",
    "    else:\n",
    "      predictionsf.append(False)\n",
    "\n",
    "print(predictionsf)"
   ]
  },
  {
   "cell_type": "code",
   "execution_count": null,
   "id": "41427355",
   "metadata": {},
   "outputs": [
    {
     "data": {
      "text/plain": [
       "0.9"
      ]
     },
     "execution_count": 29,
     "metadata": {},
     "output_type": "execute_result"
    }
   ],
   "source": [
    "calc_f1_score_loo(lambda: get_states_leave_one_out(predictionsf, df_train_f1))"
   ]
  }
 ],
 "metadata": {
  "kernelspec": {
   "display_name": "Python 3 (ipykernel)",
   "language": "python",
   "name": "python3"
  },
  "language_info": {
   "codemirror_mode": {
    "name": "ipython",
    "version": 3
   },
   "file_extension": ".py",
   "mimetype": "text/x-python",
   "name": "python",
   "nbconvert_exporter": "python",
   "pygments_lexer": "ipython3",
   "version": "3.9.15"
  }
 },
 "nbformat": 4,
 "nbformat_minor": 5
}
