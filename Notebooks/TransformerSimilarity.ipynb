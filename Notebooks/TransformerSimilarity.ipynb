{
 "cells": [
  {
   "cell_type": "code",
   "execution_count": 1,
   "id": "c5d6a490",
   "metadata": {},
   "outputs": [],
   "source": [
    "import json\n",
    "import pandas as pd\n",
    "import gensim.downloader as api\n",
    "from sklearn.utils import shuffle\n",
    "import zipfile\n",
    "import sys\n",
    "import requests, io\n",
    "import re \n",
    "import random\n",
    "import numpy as np\n",
    "import matplotlib.pyplot as plt"
   ]
  },
  {
   "cell_type": "code",
   "execution_count": 2,
   "id": "45cc3245",
   "metadata": {},
   "outputs": [],
   "source": [
    "from transformers import AutoTokenizer, AutoModel\n",
    "import torch"
   ]
  },
  {
   "cell_type": "code",
   "execution_count": 3,
   "id": "d6ebb620",
   "metadata": {},
   "outputs": [],
   "source": [
    "def read_json(path: str):\n",
    "    file = open(path)\n",
    "    data = json.load(file)\n",
    "    return pd.DataFrame(data)"
   ]
  },
  {
   "cell_type": "code",
   "execution_count": 4,
   "id": "9bc64ae4",
   "metadata": {},
   "outputs": [],
   "source": [
    "data_df = read_json('./documents.json')"
   ]
  },
  {
   "cell_type": "code",
   "execution_count": 5,
   "id": "25a6709d",
   "metadata": {},
   "outputs": [
    {
     "name": "stdout",
     "output_type": "stream",
     "text": [
      "37360\n",
      "328\n"
     ]
    }
   ],
   "source": [
    "print(data_df[data_df[\"object_type\"] == 'rpd'].size)\n",
    "print(data_df[data_df[\"object_type\"] == 'project'].size)"
   ]
  },
  {
   "cell_type": "code",
   "execution_count": 58,
   "id": "e4428fa5",
   "metadata": {},
   "outputs": [],
   "source": [
    "projects = data_df[data_df[\"object_type\"] == 'project'][\"text\"][2:10]\n",
    "rpds = data_df[data_df[\"object_type\"] == 'rpd'][\"text\"][10:19]"
   ]
  },
  {
   "cell_type": "code",
   "execution_count": 59,
   "id": "543cc1e5",
   "metadata": {},
   "outputs": [
    {
     "data": {
      "text/plain": [
       "10    Курс посвящен автоматической обработке и анали...\n",
       "11    Автономные системы, являющиеся объектом изучен...\n",
       "12    Дисциплина знакомит с основными понятиями сист...\n",
       "13    Данный курс знакомит слушателей с основами упр...\n",
       "14    Содержание дисциплины включает в себя изучение...\n",
       "15    Целью дисциплины является формирование у студе...\n",
       "16    Дисциплина посвящена изучению основных принцип...\n",
       "17    На заре робототехники каждый разработчик робот...\n",
       "18    Цели дисциплины охватывают ряд направлений, св...\n",
       "Name: text, dtype: object"
      ]
     },
     "execution_count": 59,
     "metadata": {},
     "output_type": "execute_result"
    }
   ],
   "source": [
    "rpds"
   ]
  },
  {
   "cell_type": "code",
   "execution_count": 60,
   "id": "56b29b48",
   "metadata": {
    "scrolled": true
   },
   "outputs": [
    {
     "name": "stderr",
     "output_type": "stream",
     "text": [
      "Some weights of the model checkpoint at DeepPavlov/rubert-base-cased were not used when initializing BertModel: ['cls.predictions.bias', 'cls.predictions.transform.LayerNorm.bias', 'cls.seq_relationship.weight', 'cls.predictions.transform.LayerNorm.weight', 'cls.predictions.transform.dense.bias', 'cls.predictions.decoder.weight', 'cls.seq_relationship.bias', 'cls.predictions.decoder.bias', 'cls.predictions.transform.dense.weight']\n",
      "- This IS expected if you are initializing BertModel from the checkpoint of a model trained on another task or with another architecture (e.g. initializing a BertForSequenceClassification model from a BertForPreTraining model).\n",
      "- This IS NOT expected if you are initializing BertModel from the checkpoint of a model that you expect to be exactly identical (initializing a BertForSequenceClassification model from a BertForSequenceClassification model).\n"
     ]
    }
   ],
   "source": [
    "model_name = 'DeepPavlov/rubert-base-cased'\n",
    "tokenizer = AutoTokenizer.from_pretrained(model_name)\n",
    "model = AutoModel.from_pretrained(model_name)"
   ]
  },
  {
   "cell_type": "code",
   "execution_count": 61,
   "id": "5adb99b4",
   "metadata": {},
   "outputs": [],
   "source": [
    "tokens = {\n",
    "    'input_ids': [], # list of tensors\n",
    "    'attention_mask': [] # list of tensors\n",
    "}"
   ]
  },
  {
   "cell_type": "code",
   "execution_count": 62,
   "id": "ad9e69ea",
   "metadata": {},
   "outputs": [],
   "source": [
    "for rpd in rpds:\n",
    "    new_tokens = tokenizer.encode_plus(rpd, \n",
    "                          max_length=128, \n",
    "                          truncation=True, \n",
    "                          padding='max_length',\n",
    "                          return_tensors='pt')\n",
    "    tokens['input_ids'].append(new_tokens['input_ids'][0])\n",
    "    tokens['attention_mask'].append(new_tokens['attention_mask'][0])"
   ]
  },
  {
   "cell_type": "code",
   "execution_count": 63,
   "id": "8454031c",
   "metadata": {
    "scrolled": true
   },
   "outputs": [
    {
     "data": {
      "text/plain": [
       "torch.Tensor"
      ]
     },
     "execution_count": 63,
     "metadata": {},
     "output_type": "execute_result"
    }
   ],
   "source": [
    "type(tokens['attention_mask'][0])"
   ]
  },
  {
   "cell_type": "code",
   "execution_count": 64,
   "id": "daf6e198",
   "metadata": {},
   "outputs": [],
   "source": [
    "tokens['input_ids'] = torch.stack(tokens['input_ids'])\n",
    "tokens['attention_mask'] = torch.stack(tokens['attention_mask'])"
   ]
  },
  {
   "cell_type": "code",
   "execution_count": 65,
   "id": "50fe05cb",
   "metadata": {},
   "outputs": [
    {
     "data": {
      "text/plain": [
       "tensor([[  101, 33562, 60419,  ...,  3060, 18517,   102],\n",
       "        [  101, 33576,  2059,  ...,   851, 43399,   102],\n",
       "        [  101, 33683, 56362,  ..., 15652, 15005,   102],\n",
       "        ...,\n",
       "        [  101, 33683, 56362,  ...,  4346, 29700,   102],\n",
       "        [  101,  2988, 82835,  ...,   128, 75064,   102],\n",
       "        [  101, 72663, 35135,  ..., 43497,   128,   102]])"
      ]
     },
     "execution_count": 65,
     "metadata": {},
     "output_type": "execute_result"
    }
   ],
   "source": [
    "tokens['input_ids']"
   ]
  },
  {
   "cell_type": "code",
   "execution_count": 66,
   "id": "fdb52852",
   "metadata": {
    "scrolled": true
   },
   "outputs": [
    {
     "data": {
      "text/plain": [
       "torch.Size([9, 128])"
      ]
     },
     "execution_count": 66,
     "metadata": {},
     "output_type": "execute_result"
    }
   ],
   "source": [
    "tokens['input_ids'].shape"
   ]
  },
  {
   "cell_type": "code",
   "execution_count": 67,
   "id": "0860deae",
   "metadata": {},
   "outputs": [
    {
     "data": {
      "text/plain": [
       "{'input_ids': tensor([[  101, 33562, 60419,  ...,  3060, 18517,   102],\n",
       "         [  101, 33576,  2059,  ...,   851, 43399,   102],\n",
       "         [  101, 33683, 56362,  ..., 15652, 15005,   102],\n",
       "         ...,\n",
       "         [  101, 33683, 56362,  ...,  4346, 29700,   102],\n",
       "         [  101,  2988, 82835,  ...,   128, 75064,   102],\n",
       "         [  101, 72663, 35135,  ..., 43497,   128,   102]]),\n",
       " 'attention_mask': tensor([[1, 1, 1,  ..., 1, 1, 1],\n",
       "         [1, 1, 1,  ..., 1, 1, 1],\n",
       "         [1, 1, 1,  ..., 1, 1, 1],\n",
       "         ...,\n",
       "         [1, 1, 1,  ..., 1, 1, 1],\n",
       "         [1, 1, 1,  ..., 1, 1, 1],\n",
       "         [1, 1, 1,  ..., 1, 1, 1]])}"
      ]
     },
     "execution_count": 67,
     "metadata": {},
     "output_type": "execute_result"
    }
   ],
   "source": [
    "tokens"
   ]
  },
  {
   "cell_type": "code",
   "execution_count": 68,
   "id": "d9a5fdce",
   "metadata": {},
   "outputs": [],
   "source": [
    "outputs = model(**tokens)"
   ]
  },
  {
   "cell_type": "code",
   "execution_count": 69,
   "id": "f8816b9d",
   "metadata": {
    "scrolled": true
   },
   "outputs": [
    {
     "data": {
      "text/plain": [
       "odict_keys(['last_hidden_state', 'pooler_output'])"
      ]
     },
     "execution_count": 69,
     "metadata": {},
     "output_type": "execute_result"
    }
   ],
   "source": [
    "outputs.keys()"
   ]
  },
  {
   "cell_type": "code",
   "execution_count": 70,
   "id": "65d177fa",
   "metadata": {},
   "outputs": [
    {
     "data": {
      "text/plain": [
       "torch.Size([9, 128, 768])"
      ]
     },
     "execution_count": 70,
     "metadata": {},
     "output_type": "execute_result"
    }
   ],
   "source": [
    "embeddings = outputs.last_hidden_state\n",
    "embeddings.shape"
   ]
  },
  {
   "cell_type": "markdown",
   "id": "c47bc898",
   "metadata": {},
   "source": [
    "- 8 предложений;\n",
    "- 128 токенов;\n",
    "- 768 размер измерения - размеры скрытого состояния."
   ]
  },
  {
   "cell_type": "code",
   "execution_count": 71,
   "id": "8e3a86c7",
   "metadata": {},
   "outputs": [
    {
     "data": {
      "text/plain": [
       "torch.Size([9, 128])"
      ]
     },
     "execution_count": 71,
     "metadata": {},
     "output_type": "execute_result"
    }
   ],
   "source": [
    "attention = tokens['attention_mask']\n",
    "attention.shape"
   ]
  },
  {
   "cell_type": "code",
   "execution_count": 72,
   "id": "1db17cd3",
   "metadata": {},
   "outputs": [],
   "source": [
    "mask = attention.unsqueeze(-1).expand(embeddings.shape).float()"
   ]
  },
  {
   "cell_type": "code",
   "execution_count": 73,
   "id": "a2c594ba",
   "metadata": {},
   "outputs": [],
   "source": [
    "mask_embedings = embeddings * mask"
   ]
  },
  {
   "cell_type": "code",
   "execution_count": 74,
   "id": "37192f62",
   "metadata": {},
   "outputs": [
    {
     "data": {
      "text/plain": [
       "torch.Size([9, 128, 768])"
      ]
     },
     "execution_count": 74,
     "metadata": {},
     "output_type": "execute_result"
    }
   ],
   "source": [
    "mask_embedings.shape"
   ]
  },
  {
   "cell_type": "code",
   "execution_count": 75,
   "id": "123a7b90",
   "metadata": {},
   "outputs": [],
   "source": [
    "summed = torch.sum(mask_embedings, 1) "
   ]
  },
  {
   "cell_type": "code",
   "execution_count": 76,
   "id": "cf0ed2a4",
   "metadata": {},
   "outputs": [
    {
     "data": {
      "text/plain": [
       "torch.Size([9, 768])"
      ]
     },
     "execution_count": 76,
     "metadata": {},
     "output_type": "execute_result"
    }
   ],
   "source": [
    "summed.shape"
   ]
  },
  {
   "cell_type": "code",
   "execution_count": 77,
   "id": "10c7e960",
   "metadata": {},
   "outputs": [
    {
     "data": {
      "text/plain": [
       "torch.Size([9, 768])"
      ]
     },
     "execution_count": 77,
     "metadata": {},
     "output_type": "execute_result"
    }
   ],
   "source": [
    "counts = torch.clamp(mask.sum(1), min=1e-9)\n",
    "counts.shape"
   ]
  },
  {
   "cell_type": "code",
   "execution_count": 78,
   "id": "7ecc5e3e",
   "metadata": {},
   "outputs": [
    {
     "data": {
      "text/plain": [
       "torch.Size([9, 768])"
      ]
     },
     "execution_count": 78,
     "metadata": {},
     "output_type": "execute_result"
    }
   ],
   "source": [
    "mean_pooled = summed / counts\n",
    "mean_pooled.shape"
   ]
  },
  {
   "cell_type": "code",
   "execution_count": 79,
   "id": "30b6054c",
   "metadata": {},
   "outputs": [
    {
     "data": {
      "text/plain": [
       "tensor([[ 0.2456, -0.3694,  0.9801,  ...,  0.7707,  0.7140, -0.6835],\n",
       "        [-0.0553, -0.5727,  0.6569,  ...,  0.8005,  0.6820, -0.5352],\n",
       "        [ 0.1983,  0.1160,  0.9993,  ...,  0.5575,  0.9935, -0.6966],\n",
       "        ...,\n",
       "        [ 0.0453, -0.6813,  0.8745,  ...,  0.6944,  0.7335, -0.9741],\n",
       "        [ 0.0356, -0.5139,  0.1714,  ...,  0.7755,  0.5409, -0.6358],\n",
       "        [ 0.2027, -0.5024,  0.6985,  ...,  0.7258,  0.7510, -1.0071]],\n",
       "       grad_fn=<DivBackward0>)"
      ]
     },
     "execution_count": 79,
     "metadata": {},
     "output_type": "execute_result"
    }
   ],
   "source": [
    "mean_pooled"
   ]
  },
  {
   "cell_type": "code",
   "execution_count": 80,
   "id": "38488756",
   "metadata": {},
   "outputs": [],
   "source": [
    "from sklearn.metrics.pairwise import cosine_similarity"
   ]
  },
  {
   "cell_type": "code",
   "execution_count": 82,
   "id": "2e4cc856",
   "metadata": {},
   "outputs": [
    {
     "data": {
      "text/plain": [
       "array([[0.7775164 , 0.6910979 , 0.7905091 , 0.7696227 , 0.74039704,\n",
       "        0.74205387, 0.7150265 , 0.7589864 ]], dtype=float32)"
      ]
     },
     "execution_count": 82,
     "metadata": {},
     "output_type": "execute_result"
    }
   ],
   "source": [
    "mean_pooled = mean_pooled.detach().numpy()\n",
    "\n",
    "cosine_similarity(\n",
    "    [mean_pooled[0]],\n",
    "    mean_pooled[1:]\n",
    ")"
   ]
  },
  {
   "cell_type": "code",
   "execution_count": 87,
   "id": "2b30b28d",
   "metadata": {
    "scrolled": true
   },
   "outputs": [
    {
     "data": {
      "text/plain": [
       "'Курс посвящен автоматической обработке и анализу видеоданных и изображений в интеллектуальных видеокомпьютерных медицинских системах. Основное внимание уделяется методам и алгоритмам цифровой обработки медицинских изображений и видеоданных, методам видеоаналитики, машинного обучения и анализа данных для решения задач обнаружения, сегментации, классификации объектов интереса. Изучаются методы глубокого обучения, а также смарт-технологии визуализации и формирования видеоизображений (создание панорамных изображений, визуализация изображений, сформированных в узких спектральных диапазонах, синтез изображений с учетом персональных особенностей пользователей и др). В рамках курса анализируются структуры и принципы функционирования реальных медицинских видеокомпьютерных систем, а также особенности обработки видеоданных в них. . Целью дисциплины является изучение принципов, методов обработки и анализа медицинских изображений и формирование умений и навыков решения задач видеоаналитики в област'"
      ]
     },
     "execution_count": 87,
     "metadata": {},
     "output_type": "execute_result"
    }
   ],
   "source": [
    "rpds[10][:1000] # target"
   ]
  },
  {
   "cell_type": "code",
   "execution_count": 89,
   "id": "68008424",
   "metadata": {
    "scrolled": true
   },
   "outputs": [
    {
     "data": {
      "text/plain": [
       "'Автономные системы, являющиеся объектом изучения этой дисциплины, - это подвижные роботы, решающие сервисные задачи. Инженеры, разрабатывающие таких роботов, предоставляют интерфейс для низкоуровневого управления системами, поэтому программирование движения по нестандартным траекториям лежит на пользователе. В рамках этой дисциплины рассматриваются способы построения физичной траектории движения, особенности алгоритмов управления автономными системами, а также принципы устройства симуляторов.. Сформировать у обучающихся знания, умения и навыки обоснованного и результативного применения алгоритмов управления автономными системами. Обучить применению существующих алгоритмов теории управления, а также освоению новых методов и алгоритмов управления автономными системами. Дать знания о существующих методах и алгоритмах управления автономными системами. Дать умения разрабатывать алгоритмы управления автономными системами и применять методы компьютерного зрения для управления автономными сист'"
      ]
     },
     "execution_count": 89,
     "metadata": {},
     "output_type": "execute_result"
    }
   ],
   "source": [
    "rpds[11][:1000] # 0.69"
   ]
  },
  {
   "cell_type": "code",
   "execution_count": 90,
   "id": "9e0417be",
   "metadata": {},
   "outputs": [
    {
     "data": {
      "text/plain": [
       "'На заре робототехники каждый разработчик робота был вынужден разрабатывать собственные библиотеки для управления роботом. В современном мире существует множество библиотек, упрощающих этот процесс. Существуют библиотеки и фреймворки, ориентированные на общие робототехнические задачи. Кроме того, есть библиотеки, имеющие более узкую цель, например, эффективная передача информации от узла к узлу. В рамках данного курса слушатели познакомятся с некоторыми из популярных библиотек для разработки программного обеспечения для мобильных роботов.. Освоение практических аспектов и получение опыта в работе с инфраструктурой разработки ПО для мобильных роботов. Приобретение студентами и закрепление у них практических навыков работы в исследовательской группе, выполняющей прикладные исследования в конкретной области, включающие в себя постановку задачи, выбор инструментов и методов ее решения, компьютерную реализацию этих методов и содержательную интерпретацию полученных результатов. Дать знания о '"
      ]
     },
     "execution_count": 90,
     "metadata": {},
     "output_type": "execute_result"
    }
   ],
   "source": [
    "rpds[17][:1000] # 0.715"
   ]
  },
  {
   "cell_type": "code",
   "execution_count": 88,
   "id": "41c5563f",
   "metadata": {},
   "outputs": [
    {
     "data": {
      "text/plain": [
       "'Данный курс знакомит слушателей с основами управления беспилотными автомобилями. Рассматриваются основные компоненты таких сиcтем: модели и методы восприятия информации при помощи сенсоров или человеко-машинного интерфейса; методы определения собственного положения на известной и неизвестной карте; методы планирования пути (в том числе на графах и не на графах); фреймворк, подходящий для разработки собственных решений для беспилотных транспортных средств. Данный курс знакомит с уровнями автономности беспилотных средств, с основами машинного обучения, в том числе при помощи нейросетей, операционной системой Robot Operating System, являющейся де-факто стандартным решением для многих роботов, в том числе бепилотных автомобилей. Курс позволяет освоить основные приёмы программирования в ROS, алгоритмов локализации и построения карты (SLAM), алгоритмов машинного зрения . Сформировать у обучающихся знания, умения и навыки обоснованного и результативного применения существующих методов, моделе'"
      ]
     },
     "execution_count": 88,
     "metadata": {},
     "output_type": "execute_result"
    }
   ],
   "source": [
    "rpds[13][:1000] # 0.79"
   ]
  },
  {
   "cell_type": "code",
   "execution_count": null,
   "id": "c2e149d5",
   "metadata": {},
   "outputs": [],
   "source": []
  }
 ],
 "metadata": {
  "kernelspec": {
   "display_name": "Python 3 (ipykernel)",
   "language": "python",
   "name": "python3"
  },
  "language_info": {
   "codemirror_mode": {
    "name": "ipython",
    "version": 3
   },
   "file_extension": ".py",
   "mimetype": "text/x-python",
   "name": "python",
   "nbconvert_exporter": "python",
   "pygments_lexer": "ipython3",
   "version": "3.9.15"
  }
 },
 "nbformat": 4,
 "nbformat_minor": 5
}
