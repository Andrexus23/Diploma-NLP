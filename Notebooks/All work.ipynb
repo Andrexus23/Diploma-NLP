{
 "cells": [
  {
   "cell_type": "markdown",
   "id": "2e97eaa8",
   "metadata": {},
   "source": [
    "### Будут сравнены модели:\n",
    "- word2vec;\n",
    "- fastText;\n",
    "- sentence BERT;\n",
    "- roBERT;\n",
    "- рекуррентки;\n",
    "- TF-IDF."
   ]
  },
  {
   "cell_type": "markdown",
   "id": "7823e4a9",
   "metadata": {},
   "source": [
    "Метрики качества:\n",
    "- Accuracy;\n",
    "- Recall;\n",
    "- Precision;\n",
    "- F1-score;\n",
    "- ROC (м. б.).\n",
    "    \n",
    "https://webiomed.ru/blog/osnovnye-metriki-zadach-klassifikatsii-v-mashinnom-obuchenii/"
   ]
  },
  {
   "cell_type": "markdown",
   "id": "d088c0e5",
   "metadata": {},
   "source": [
    "Что будет делать решение?\n",
    "- считывать датасеты и предобрабатывать датасеты;\n",
    "- обучать пустые и дообучать готовые модели;\n",
    "- строить метрики качества;\n",
    "- применять обученные/дообученные модели."
   ]
  },
  {
   "cell_type": "code",
   "execution_count": null,
   "id": "f7f8160e",
   "metadata": {},
   "outputs": [],
   "source": []
  }
 ],
 "metadata": {
  "kernelspec": {
   "display_name": "Python 3 (ipykernel)",
   "language": "python",
   "name": "python3"
  },
  "language_info": {
   "codemirror_mode": {
    "name": "ipython",
    "version": 3
   },
   "file_extension": ".py",
   "mimetype": "text/x-python",
   "name": "python",
   "nbconvert_exporter": "python",
   "pygments_lexer": "ipython3",
   "version": "3.9.15"
  }
 },
 "nbformat": 4,
 "nbformat_minor": 5
}
