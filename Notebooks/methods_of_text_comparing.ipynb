{
 "cells": [
  {
   "cell_type": "code",
   "execution_count": 1,
   "metadata": {},
   "outputs": [
    {
     "name": "stderr",
     "output_type": "stream",
     "text": [
      "[nltk_data] Downloading package punkt to\n",
      "[nltk_data]     C:\\Users\\Andrey\\AppData\\Roaming\\nltk_data...\n",
      "[nltk_data]   Package punkt is already up-to-date!\n",
      "[nltk_data] Downloading package stopwords to\n",
      "[nltk_data]     C:\\Users\\Andrey\\AppData\\Roaming\\nltk_data...\n",
      "[nltk_data]   Package stopwords is already up-to-date!\n"
     ]
    },
    {
     "data": {
      "text/plain": [
       "True"
      ]
     },
     "execution_count": 1,
     "metadata": {},
     "output_type": "execute_result"
    }
   ],
   "source": [
    "import json\n",
    "import pandas as pd\n",
    "import gensim\n",
    "import gensim.downloader as api\n",
    "from sklearn.utils import shuffle\n",
    "import zipfile\n",
    "import sys\n",
    "import requests, io\n",
    "import re \n",
    "import random\n",
    "import numpy as np\n",
    "import matplotlib.pyplot as plt\n",
    "\n",
    "import json\n",
    "import pandas as pd\n",
    "import pymorphy2\n",
    "import nltk\n",
    "from nltk.tokenize import word_tokenize\n",
    "from nltk.corpus import stopwords\n",
    "import gensim.models as models\n",
    "from gensim.models import Word2Vec\n",
    "from gensim.models import FastText\n",
    "from gensim.models import KeyedVectors\n",
    "import gensim.downloader as api\n",
    "import sentence_transformers\n",
    "from sentence_transformers import SentenceTransformer\n",
    "from sklearn.utils import shuffle\n",
    "import zipfile\n",
    "import sys\n",
    "import requests, io\n",
    "import re \n",
    "import random\n",
    "import numpy as np\n",
    "import matplotlib.pyplot as plt\n",
    "from nltk.tokenize import sent_tokenize\n",
    "# from google.colab import files\n",
    "\n",
    "nltk.download('punkt')\n",
    "nltk.download('stopwords')"
   ]
  },
  {
   "cell_type": "code",
   "execution_count": 3,
   "metadata": {},
   "outputs": [],
   "source": [
    "def get_states(sim, df, match_threshold):\n",
    "    (TP, FP, FN, TN) = (0, 0, 0, 0)\n",
    "    for i in range(len(sim)):\n",
    "        if df['need_match'][i:i+1].item():\n",
    "            if sim[i] >= match_threshold: \n",
    "                TP += 1\n",
    "            else:\n",
    "                FN += 1\n",
    "        else:\n",
    "            if sim[i] >= match_threshold: \n",
    "                FP += 1\n",
    "            else:\n",
    "                TN += 1\n",
    "    \n",
    "    return (TP, FP, FN, TN)\n",
    "        \n",
    "\n",
    "def calc_f1_score(sim, df, match_threshold):\n",
    "    (TP, FP, FN, TN) = get_states(sim, df, match_threshold)\n",
    "#     print(TP, FP, FN, TN)\n",
    "    return round(float(2*TP / (2*TP + FP + FN)), 3)\n",
    "\n",
    "import re\n",
    "\n",
    "\n",
    "def sent_preprocess(text:str):\n",
    "    preprocessed_text = sent_tokenize(text)\n",
    "    for i in range(len(preprocessed_text)):\n",
    "        res = re.sub(r'([^\\w\\s])|([0-9]+)', '', preprocessed_text[i])\n",
    "        # res = re.sub(r'', '' ,  res)\n",
    "        preprocessed_text[i] = (preprocessed_text[i], res)\n",
    "    \n",
    "    preprocessed_text = list(filter(lambda sentence: sentence[0] != '', preprocessed_text))\n",
    "    \n",
    "    return preprocessed_text"
   ]
  },
  {
   "cell_type": "code",
   "execution_count": 4,
   "metadata": {},
   "outputs": [],
   "source": [
    "match_df_path = './data/match-1.json'\n",
    "unmatch_df_path = './data/unmatch.json'"
   ]
  },
  {
   "cell_type": "code",
   "execution_count": 5,
   "metadata": {},
   "outputs": [],
   "source": [
    "match_df = pd.read_json(match_df_path)\n",
    "unmatch_df = pd.read_json(unmatch_df_path)"
   ]
  },
  {
   "cell_type": "code",
   "execution_count": null,
   "metadata": {},
   "outputs": [],
   "source": [
    "match_df"
   ]
  },
  {
   "cell_type": "code",
   "execution_count": 2,
   "metadata": {},
   "outputs": [],
   "source": [
    "model_ = SentenceTransformer('sentence-transformers/paraphrase-multilingual-MiniLM-L12-v2')"
   ]
  },
  {
   "cell_type": "code",
   "execution_count": 7,
   "metadata": {},
   "outputs": [],
   "source": [
    "sentences1 =sent_preprocess(match_df[\"text_rp\"][0])"
   ]
  },
  {
   "cell_type": "code",
   "execution_count": 33,
   "metadata": {},
   "outputs": [
    {
     "name": "stdout",
     "output_type": "stream",
     "text": [
      "Defaulting to user installation because normal site-packages is not writeable\n",
      "Looking in indexes: https://pypi.org/simple, https://pip.repos.neuron.amazonaws.com/\n",
      "Collecting pymystem3\n",
      "  Downloading pymystem3-0.2.0-py3-none-any.whl (10 kB)\n",
      "Requirement already satisfied: requests in c:\\anaconda3\\lib\\site-packages (from pymystem3) (2.28.1)\n",
      "Requirement already satisfied: urllib3<1.27,>=1.21.1 in c:\\anaconda3\\lib\\site-packages (from requests->pymystem3) (1.26.13)\n",
      "Requirement already satisfied: certifi>=2017.4.17 in c:\\anaconda3\\lib\\site-packages (from requests->pymystem3) (2022.12.7)\n",
      "Requirement already satisfied: charset-normalizer<3,>=2 in c:\\anaconda3\\lib\\site-packages (from requests->pymystem3) (2.0.4)\n",
      "Requirement already satisfied: idna<4,>=2.5 in c:\\anaconda3\\lib\\site-packages (from requests->pymystem3) (3.4)\n",
      "Installing collected packages: pymystem3\n",
      "Successfully installed pymystem3-0.2.0\n"
     ]
    }
   ],
   "source": [
    "!pip install pymystem3"
   ]
  },
  {
   "attachments": {},
   "cell_type": "markdown",
   "metadata": {},
   "source": [
    "## Базовое разбиение текста на предложения"
   ]
  },
  {
   "cell_type": "code",
   "execution_count": 43,
   "metadata": {},
   "outputs": [],
   "source": [
    "from nltk.corpus import stopwords\n",
    "from pymystem3 import Mystem\n",
    "from string import punctuation\n",
    "\n",
    "delete = \"[\\xa0|_|&]\"\n",
    "\n",
    "def sent_preprocess(text:str):\n",
    "    preprocessed_text = sent_tokenize(text)\n",
    "\n",
    "    for i in range(len(preprocessed_text)):\n",
    "        res = preprocessed_text[i].translate(str.maketrans('', '', punctuation))\n",
    "        res = re.sub(delete,\"\", res)\n",
    "        preprocessed_text[i] = res\n",
    "    \n",
    "    preprocessed_text = list(filter(lambda sentence: len(sentence.split(' ')) >= 2, preprocessed_text))\n",
    "    \n",
    "    return preprocessed_text"
   ]
  },
  {
   "cell_type": "code",
   "execution_count": 44,
   "metadata": {},
   "outputs": [
    {
     "data": {
      "text/plain": [
       "['Данный курс знакомит слушателей с основами управления беспилотными автомобилями',\n",
       " 'Рассматриваются основные компоненты таких сиcтем модели и методы восприятия информации при помощи сенсоров или человекомашинного интерфейса методы определения собственного положения на известной и неизвестной карте методы планирования пути в том числе на графах и не на графах фреймворк подходящий для разработки собственных решений для беспилотных транспортных средств',\n",
       " 'Данный курс знакомит с уровнями автономности беспилотных средств с основами машинного обучения в том числе при помощи нейросетей операционной системой Robot Operating System являющейся дефакто стандартным решением для многих роботов в том числе бепилотных автомобилей',\n",
       " 'Курс позволяет освоить основные приёмы программирования в ROS алгоритмов локализации и построения карты SLAM алгоритмов машинного зрения ',\n",
       " 'Сформировать у обучающихся знания умения и навыки обоснованного и результативного применения существующих методов моделей а также алгоритмов для управления беспилотными автомобилями и другими автономными интеллектуальными системами',\n",
       " 'Обучить применению существующих а также освоению новых методов и моделей беспилотного транспорта',\n",
       " 'Дать знания о существующих методах и алгоритмах беспилотного транспорта а также методологии построения систем беспилотного транспорта',\n",
       " 'Дать умения разрабатывать алгоритмы для беспилотного транспорта и применять методы компьютерного зрения и машинного обучения для решения задач беспилотного транспорта',\n",
       " 'Привить навыки разработки и анализа алгоритмов автономного движения наблюдения окружающего мира фильтрации данных',\n",
       " 'ИДЗ заключается в аналитическом поиске необходимой информации для решения поставленной задачи решении и развернутом описании решения',\n",
       " 'Источниками информации являются лекции основная и дополнительная литература интернетисточники',\n",
       " 'Задание на ИДЗ выдается в начале семестра',\n",
       " 'Отчеты по ИДЗ оформляются в соответствии с требованиями к отчету по лабораторной работе приведенными на сайте СПбГЭТУ ЛЭТИ в разделе Шаблоны оформления студенческих работ',\n",
       " 'Объем отчета не менее 5 страниц формата А4 отчет представляется в электронном виде',\n",
       " 'Примерные темы ИДЗ Разработайте приложение основанное на применении ROS обрабатывающее данные лазерного дальномера Разработайте или модифицируйте алгоритм SLAM для решения задачи одновременной локализации и построения карты Разработайте или модифицируйте алгоритм семантической сегментации изображений при помощи нейросетей Разработайте алгоритм движения беспилотного автомобиля в симуляторе  ЭКЗАМЕНАЦИОННЫЙ БИЛЕТ № 1 Дисциплина Алгоритмы беспилотного транспорта 1',\n",
       " 'Локализация на известной карте',\n",
       " 'Структуры данных для хранения карты в памяти',\n",
       " 'Скан матчер на основе стохастического поиска',\n",
       " 'Достоинства недостатки и область применения УТВЕРЖДАЮ Заведующий кафедрой',\n",
       " 'Общие сведения об автономных и интеллектуальных системах',\n",
       " 'Беспилотные автомобили',\n",
       " 'Задачи решаемые беспилотными автомобилями',\n",
       " 'Уровни автоматизации беспилотных автомобилей',\n",
       " 'Датчики и сенсоры',\n",
       " 'Стек алгоритмов выполняемых беспилотными автомобилями',\n",
       " 'Введение в Robot Operating System',\n",
       " 'Назначение ROS',\n",
       " 'Место ROS в беспилотных автомобилях',\n",
       " 'Программная единица в ROS',\n",
       " 'Методы взаимодействия между программными единицами',\n",
       " 'Разработка собственного приложения использующего ROS',\n",
       " 'Программирование с использованием ROS',\n",
       " 'Подготовка CMake файлов xmlфайлов с параметрами',\n",
       " 'Запуск готовых приложений',\n",
       " 'Компиляция и сборка приложений ROS',\n",
       " 'Структура рабочего каталога',\n",
       " 'Разработка запуск и логгирование собственных приложений',\n",
       " 'Использование пакетов поставляемых с ROS',\n",
       " 'Визуализация графа взаимодействий программных модулей ROS',\n",
       " 'Назначение и применение пакетов ROS для упрощения разработки',\n",
       " 'Назначение и применение пакета TF',\n",
       " 'Использование сгенерированного исходного кода',\n",
       " 'Инструменты для визуализации и отладки приложений использующих ROS',\n",
       " 'Пакет RVIZ семейство пакетов rqt пакет Rqtgraph пакет Gazebo',\n",
       " 'Настройка файлов логов',\n",
       " 'Отладка средствами ROS',\n",
       " 'Многопоточность в ROS',\n",
       " 'Введение в машинное обучение',\n",
       " 'Обучение с учителем',\n",
       " 'Задача классификации и регрессии',\n",
       " 'Обучение без учителя',\n",
       " 'Нейронные сети',\n",
       " 'Понятие нейрона перцептрона и простейшая нейронная сеть',\n",
       " 'Слои в нейронных сетях',\n",
       " 'Применение нейронных сетей',\n",
       " 'Нейронные сети прямого распределения',\n",
       " 'Полносвязные сети',\n",
       " 'Нейронная сеть Хопфилда',\n",
       " 'Свёрточные нейронные сети',\n",
       " 'Развёртывающие нейронные сети',\n",
       " 'Классификация и кластеризация изображений при помощи нейронных сетей',\n",
       " 'Нейросеть Кохонена',\n",
       " 'Функционирование сети',\n",
       " 'Современные модификации свёрточных нейросетей для задачи кластеризации',\n",
       " 'Ускорение работы',\n",
       " 'Синтетические данные для обучения',\n",
       " 'Задача фильтрации данных',\n",
       " 'Постановка задачи фильтрации',\n",
       " 'Рекурсивный фильтр',\n",
       " 'Априорная и апостериорная оценка',\n",
       " 'Расширенный фильтр Калмана',\n",
       " 'Матричная линеаризация',\n",
       " 'Фильтр Калмана со старением',\n",
       " 'Задача одновременной локализации и построения карты SLAM',\n",
       " 'Постановка задачи SLAM',\n",
       " 'Решение на базе фильтра Калмана',\n",
       " 'Фильтр частиц',\n",
       " 'Scan matching',\n",
       " 'Графовые подходы',\n",
       " 'Методы оценки качества SLAM алгоритмов',\n",
       " 'Применение SLAM к задаче беспилотных автомобилей',\n",
       " 'Методы представления и хранения карты',\n",
       " 'Карта в EKF SLAM',\n",
       " 'Сетка занятости',\n",
       " 'Детали реализации графовых алгоритмов SLAM',\n",
       " 'Определение и замыкание циклов в графе',\n",
       " 'Методы визуализации карты в ROS',\n",
       " 'Методы оценки качества построенной карты',\n",
       " 'Задача построения пути',\n",
       " 'Задача поиска пути на графе',\n",
       " 'Алгоритм Дейкстры',\n",
       " 'Методы построения пути на неизвестной карте',\n",
       " 'Локальный планировщик пути',\n",
       " 'Синергия глобального и локального планировщика',\n",
       " 'Duckietown как модель города с беспилотными автомобилями',\n",
       " 'Назначение Duckietown',\n",
       " 'Описание составных частей',\n",
       " 'Робот Duckiebot',\n",
       " 'Компоненты робота',\n",
       " 'Автомат состояний Ducketown',\n",
       " 'Применение Duckietown в качестве модели беспилотного транспорта',\n",
       " 'Автоматизация движения по проложенному маршруту в симуляторе Duckietown',\n",
       " 'Датчики Duckiebot',\n",
       " 'Применение алгоритмов SLAM к Duckietown',\n",
       " 'Построение маршрута в Duckietown',\n",
       " 'Симулятор Duckitown',\n",
       " 'Запуск всех компонентов беспилотного автомобиля в симуляторе',\n",
       " 'Обсуждение состояния прикладной технологии автопилотируемых транспортных средств на ближайшие годы']"
      ]
     },
     "execution_count": 44,
     "metadata": {},
     "output_type": "execute_result"
    }
   ],
   "source": [
    "sent_preprocess(match_df[\"text_rp\"][0])"
   ]
  }
 ],
 "metadata": {
  "kernelspec": {
   "display_name": "base",
   "language": "python",
   "name": "python3"
  },
  "language_info": {
   "codemirror_mode": {
    "name": "ipython",
    "version": 3
   },
   "file_extension": ".py",
   "mimetype": "text/x-python",
   "name": "python",
   "nbconvert_exporter": "python",
   "pygments_lexer": "ipython3",
   "version": "3.9.15"
  },
  "orig_nbformat": 4
 },
 "nbformat": 4,
 "nbformat_minor": 2
}
