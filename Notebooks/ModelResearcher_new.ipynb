{
 "cells": [
  {
   "cell_type": "code",
   "execution_count": 1,
   "id": "3a3f7325",
   "metadata": {
    "scrolled": true
   },
   "outputs": [
    {
     "name": "stderr",
     "output_type": "stream",
     "text": [
      "[nltk_data] Downloading package punkt to\n",
      "[nltk_data]     C:\\Users\\Andrey\\AppData\\Roaming\\nltk_data...\n",
      "[nltk_data]   Package punkt is already up-to-date!\n",
      "[nltk_data] Downloading package stopwords to\n",
      "[nltk_data]     C:\\Users\\Andrey\\AppData\\Roaming\\nltk_data...\n",
      "[nltk_data]   Package stopwords is already up-to-date!\n"
     ]
    },
    {
     "data": {
      "text/plain": [
       "True"
      ]
     },
     "execution_count": 1,
     "metadata": {},
     "output_type": "execute_result"
    }
   ],
   "source": [
    "import json\n",
    "import pandas as pd\n",
    "import pymorphy2\n",
    "import nltk\n",
    "from nltk.tokenize import word_tokenize\n",
    "from nltk.corpus import stopwords\n",
    "import gensim\n",
    "import gensim.models as models\n",
    "from gensim.models import Word2Vec\n",
    "from gensim.models import FastText\n",
    "from gensim.models import KeyedVectors\n",
    "import gensim.downloader as api\n",
    "from sklearn.utils import shuffle\n",
    "import zipfile\n",
    "import sys\n",
    "import requests, io\n",
    "import re \n",
    "import random\n",
    "import numpy as np\n",
    "import matplotlib.pyplot as plt\n",
    "\n",
    "nltk.download('punkt')\n",
    "nltk.download('stopwords')"
   ]
  },
  {
   "cell_type": "code",
   "execution_count": 12,
   "id": "1907bb47",
   "metadata": {},
   "outputs": [],
   "source": [
    "def preprocess(text:str, stop_words, punctuation_marks, morph):\n",
    "    tokens = word_tokenize(text.lower())\n",
    "    preprocessed_text = []\n",
    "    for token in tokens:\n",
    "        if token not in punctuation_marks:\n",
    "            lemma = morph.parse(token)[0].normal_form\n",
    "            if re.match(r'(\\d.|\\d)', lemma) is None:\n",
    "                if lemma not in stop_words:\n",
    "                    preprocessed_text.append(lemma)\n",
    "    return preprocessed_text\n",
    "\n",
    "def read_json(path: str):\n",
    "    file = open(path)\n",
    "    data = json.load(file)\n",
    "    return pd.DataFrame(data)\n",
    "\n",
    "def get_states(sim, df, match_threshold):\n",
    "    (TP, FP, FN, TN) = (0, 0, 0, 0)\n",
    "    for i in range(sim.size):\n",
    "        if df['need_match'][i]:\n",
    "            if sim[i] >= match_threshold: \n",
    "                TP += 1\n",
    "            else:\n",
    "                FN += 1\n",
    "        else:\n",
    "            if sim[i] >= match_threshold: \n",
    "                FP += 1\n",
    "            else:\n",
    "                TN += 1\n",
    "    \n",
    "    return (TP, FP, FN, TN)\n",
    "        \n",
    "\n",
    "def calc_f1_score(sim, df, match_threshold):\n",
    "    (TP, FP, FN, TN) = get_states(sim, df, match_threshold)\n",
    "#     print(TP, FP, FN, TN)\n",
    "    return round(float(2*TP / (2*TP + FP + FN)), 3)\n",
    "\n",
    "def calc_accuracy(sim, df, match_threshold):\n",
    "    (TP, FP, FN, TN) = get_states(sim, df, match_threshold)\n",
    "    return round(float((TP + TN) / (TP + TN + FP + FN)), 3)\n",
    "\n",
    "\n",
    "punctuation_marks = ['!', ',', '(', ')', ';', ':', '-', '?', '.', '..', '...', \"\\\"\", \"/\", \"\\`\\`\", \"»\", \"«\" ]\n",
    "stop_words = stopwords.words(\"russian\")\n",
    "morph = pymorphy2.MorphAnalyzer()"
   ]
  },
  {
   "cell_type": "code",
   "execution_count": 128,
   "id": "396a0dae",
   "metadata": {},
   "outputs": [],
   "source": [
    "class ModelResearcher:\n",
    "    def __init__(self):\n",
    "        self.model = None\n",
    "    \n",
    "    def preprocess_and_save(self, data_df: pd.DataFrame, path, text_field='text') -> pd.DataFrame:\n",
    "        # for preprocessing dataset. Use it only in critical cases cause it's too slow on big datasets\n",
    "        data_df['preprocessed_' + text_field] = data_df.apply(lambda row: preprocess(row[text_field], punctuation_marks, stop_words, morph), axis=1)\n",
    "        data_df_preprocessed = data_df.copy()\n",
    "        data_df_preprocessed = data_df_preprocessed.drop(columns=[text_field], axis=1)\n",
    "        data_df_preprocessed.reset_index(drop=True, inplace=True)\n",
    "        if path is not None:\n",
    "            data_df_preprocessed.to_json(path)\n",
    "        return data_df_preprocessed\n",
    "    \n",
    "    def preprocess_and_save_pairs(self, data_df: pd.DataFrame, path, text_field_1, text_field_2) -> pd.DataFrame:\n",
    "        data_df['preprocessed_' + text_field_1] = data_df.apply(lambda row: preprocess(row[text_field_1], punctuation_marks, stop_words, morph), axis=1)\n",
    "        data_df['preprocessed_' + text_field_2] = data_df.apply(lambda row: preprocess(row[text_field_2], punctuation_marks, stop_words, morph), axis=1)\n",
    "        data_df_preprocessed = data_df.copy()\n",
    "        data_df_preprocessed = data_df_preprocessed.drop(columns=[text_field_1, text_field_2], axis=1)\n",
    "        data_df_preprocessed.reset_index(drop=True, inplace=True)\n",
    "        if path is not None:\n",
    "            data_df_preprocessed.to_json(path)\n",
    "        return data_df_preprocessed\n",
    "    \n",
    "    def train(self, data_df: pd.DataFrame, model=\"w2v\"):            \n",
    "        if model == \"w2v\":\n",
    "            train_part = data_df['preprocessed_texts']\n",
    "            self.model = gensim.models.Word2Vec(sentences=train_part, min_count=5, vector_size=50, epochs=5)\n",
    "            self.model.save('w2v')\n",
    "        elif model == \"fast_text\":\n",
    "            train_part = data_df['preprocessed_texts'].tolist()\n",
    "            self.model = gensim.models.FastText(vector_size=50, min_count=5)\n",
    "            self.model.build_vocab(corpus_iterable=train_part)\n",
    "            self.model.train(corpus_iterable=train_part, total_examples=len(train_part), epochs=5)\n",
    "            self.model.save('fastText')\n",
    "        return\n",
    "\n",
    "                    \n",
    "    \n",
    "    def predict_sentences_similarity(self, sentences_1: pd.Series, sentences_2: pd.Series):\n",
    "        if sentences_1.size != sentences_2.size:\n",
    "            return None\n",
    "        else:\n",
    "            if self.model is not None:\n",
    "                sentences_sim = np.zeros(sentences_1.size)\n",
    "                sz = sentences_1.size\n",
    "                for i in range(sz): \n",
    "                    sentences_1_words = [w for w in sentences_1[i] if w in self.model.wv.index_to_key]\n",
    "                    sentences_2_words = [w for w in sentences_2[i] if w in self.model.wv.index_to_key]\n",
    "                    sim = self.model.wv.n_similarity(sentences_1_words, sentences_2_words)\n",
    "                    sentences_sim[i] = sim\n",
    "                \n",
    "                return sentences_sim\n",
    "            else:\n",
    "                return None\n",
    "        \n",
    "    def get_train_test_dfs_for_f1(self, df_match, df_unmatch): \n",
    "        df_match = shuffle(df_match)\n",
    "        df_unmatch = shuffle(df_unmatch)\n",
    "        \n",
    "        df_train_f1 = pd.concat([pd.DataFrame(df_match[0:len(df_match) // 2]), pd.DataFrame(df_unmatch[0:len(df_unmatch) // 2])], axis=0)\n",
    "        df_test_f1 = pd.concat([pd.DataFrame(df_match[len(df_match) // 2 : ]), pd.DataFrame(df_unmatch[len(df_unmatch) // 2 : ])], axis=0)\n",
    "        return (df_train_f1, df_test_f1)\n",
    "    \n",
    "    \n",
    "    def get_optimal_threshold(self, sentences_1: pd.Series, sentences_2: pd.Series, df, step=0.02):\n",
    "        if sentences_1.size != sentences_2.size or self.model is None:\n",
    "            return None\n",
    "        else:\n",
    "            threshold = 0\n",
    "            thresholds = []\n",
    "            max_ = 0\n",
    "            h = step\n",
    "            steps = np.linspace(0, 1, num=int(1/h))\n",
    "            steps = np.round(steps, 2)\n",
    "            h_max = 0\n",
    "            sim =  self.predict_sentences_similarity( sentences_1, sentences_2)\n",
    "            for i in steps:\n",
    "                threshold = calc_f1_score(sim, df, h)\n",
    "                print(h, threshold)\n",
    "                thresholds.append(threshold)\n",
    "                if threshold > max_:\n",
    "                    max_ = threshold\n",
    "                    h_max = h\n",
    "                h += step\n",
    "            plt.plot(steps, thresholds)\n",
    "            plt.figure(figsize=(10,3))\n",
    "            plt.show()\n",
    "            \n",
    "            return h_max"
   ]
  },
  {
   "cell_type": "markdown",
   "id": "c604a377",
   "metadata": {},
   "source": [
    "## Обучим word2vec"
   ]
  },
  {
   "cell_type": "code",
   "execution_count": 129,
   "id": "d53ac827",
   "metadata": {},
   "outputs": [
    {
     "data": {
      "text/plain": [
       "<gensim.models.word2vec.Word2Vec at 0x255875130a0>"
      ]
     },
     "execution_count": 129,
     "metadata": {},
     "output_type": "execute_result"
    }
   ],
   "source": [
    "data_df = read_json('./preprocessed_documents.json')\n",
    "modelResearcher_w2v = ModelResearcher()\n",
    "modelResearcher_w2v.train(data_df, model=\"w2v\")\n",
    "# modelResearcher_w2v.model = models.ldamodel.LdaModel.load('./w2v')\n",
    "modelResearcher_w2v.model"
   ]
  },
  {
   "cell_type": "code",
   "execution_count": 130,
   "id": "2a59bc0b",
   "metadata": {},
   "outputs": [],
   "source": [
    "match_unmatch_df = read_json('./dataset.json')"
   ]
  },
  {
   "cell_type": "code",
   "execution_count": 131,
   "id": "c62ed17f",
   "metadata": {},
   "outputs": [],
   "source": [
    "# match_unmatch_df"
   ]
  },
  {
   "cell_type": "code",
   "execution_count": 132,
   "id": "ef58f1f6",
   "metadata": {},
   "outputs": [],
   "source": [
    "df_match = match_unmatch_df[ match_unmatch_df['need_match'] == True][:-2]\n",
    "df_unmatch = match_unmatch_df[match_unmatch_df['need_match'] == False]\n",
    "\n",
    "df_train_f1, df_test_f1 = modelResearcher_w2v.get_train_test_dfs_for_f1(df_match, df_unmatch)"
   ]
  },
  {
   "cell_type": "code",
   "execution_count": 133,
   "id": "93a42165",
   "metadata": {
    "scrolled": true
   },
   "outputs": [
    {
     "name": "stdout",
     "output_type": "stream",
     "text": [
      "df_train: 22 of 46\n",
      "df_test: 22 of 46\n"
     ]
    }
   ],
   "source": [
    "print('df_train: {} of {}'.format(df_train_f1['id_rp'].size, match_unmatch_df ['id_rp'].size))\n",
    "print('df_test: {} of {}'.format(df_test_f1['id_rp'].size,match_unmatch_df['id_rp'].size))"
   ]
  },
  {
   "cell_type": "code",
   "execution_count": 134,
   "id": "6cef32f8",
   "metadata": {},
   "outputs": [],
   "source": [
    "df_train_f1 = modelResearcher_w2v.preprocess_and_save_pairs(df_train_f1, None, 'text_rp', 'text_proj')\n",
    "df_test_f1 = modelResearcher_w2v.preprocess_and_save_pairs(df_test_f1, None, 'text_rp', 'text_proj')"
   ]
  },
  {
   "cell_type": "code",
   "execution_count": 135,
   "id": "bd7ae0e8",
   "metadata": {
    "scrolled": true
   },
   "outputs": [
    {
     "name": "stdout",
     "output_type": "stream",
     "text": [
      "[0.77876627 0.82473212 0.88759834 0.90513813 0.78248847 0.80279559\n",
      " 0.62541145 0.7449289  0.73357129 0.85430914 0.86086893 0.40470386\n",
      " 0.72429937 0.45979097 0.14298782 0.7447502  0.66249424 0.70209455\n",
      " 0.38735184 0.71113294 0.55092555 0.76066607]\n"
     ]
    }
   ],
   "source": [
    "result_w2v_train = modelResearcher_w2v.predict_sentences_similarity(df_train_f1['preprocessed_text_rp'], df_train_f1['preprocessed_text_proj'])\n",
    "print(result_w2v_train)"
   ]
  },
  {
   "cell_type": "code",
   "execution_count": 136,
   "id": "87001d6f",
   "metadata": {
    "scrolled": true
   },
   "outputs": [
    {
     "name": "stdout",
     "output_type": "stream",
     "text": [
      "0.02 0.667\n",
      "0.04 0.667\n",
      "0.06 0.667\n",
      "0.08 0.667\n",
      "0.1 0.667\n",
      "0.12000000000000001 0.667\n",
      "0.14 0.667\n",
      "0.16 0.688\n",
      "0.18 0.688\n",
      "0.19999999999999998 0.688\n",
      "0.21999999999999997 0.688\n",
      "0.23999999999999996 0.688\n",
      "0.25999999999999995 0.688\n",
      "0.27999999999999997 0.688\n",
      "0.3 0.688\n",
      "0.32 0.688\n",
      "0.34 0.688\n",
      "0.36000000000000004 0.688\n",
      "0.38000000000000006 0.688\n",
      "0.4000000000000001 0.71\n",
      "0.4200000000000001 0.733\n",
      "0.4400000000000001 0.733\n",
      "0.46000000000000013 0.759\n",
      "0.48000000000000015 0.759\n",
      "0.5000000000000001 0.759\n",
      "0.5200000000000001 0.759\n",
      "0.5400000000000001 0.759\n",
      "0.5600000000000002 0.786\n",
      "0.5800000000000002 0.786\n",
      "0.6000000000000002 0.786\n",
      "0.6200000000000002 0.786\n",
      "0.6400000000000002 0.741\n",
      "0.6600000000000003 0.741\n",
      "0.6800000000000003 0.769\n",
      "0.7000000000000003 0.769\n",
      "0.7200000000000003 0.833\n",
      "0.7400000000000003 0.818\n",
      "0.7600000000000003 0.8\n",
      "0.7800000000000004 0.778\n",
      "0.8000000000000004 0.706\n",
      "0.8200000000000004 0.625\n",
      "0.8400000000000004 0.533\n",
      "0.8600000000000004 0.429\n",
      "0.8800000000000004 0.308\n",
      "0.9000000000000005 0.167\n",
      "0.9200000000000005 0.0\n",
      "0.9400000000000005 0.0\n",
      "0.9600000000000005 0.0\n",
      "0.9800000000000005 0.0\n",
      "1.0000000000000004 0.0\n"
     ]
    },
    {
     "data": {
      "image/png": "[encoded data removed]",
      "text/plain": [
       "<Figure size 640x480 with 1 Axes>"
      ]
     },
     "metadata": {},
     "output_type": "display_data"
    },
    {
     "data": {
      "text/plain": [
       "<Figure size 1000x300 with 0 Axes>"
      ]
     },
     "metadata": {},
     "output_type": "display_data"
    }
   ],
   "source": [
    "result_w2v_train_opt = modelResearcher_w2v.get_optimal_threshold(df_train_f1['preprocessed_text_rp'], df_train_f1['preprocessed_text_proj'], df_train_f1, 0.02)"
   ]
  },
  {
   "cell_type": "code",
   "execution_count": 139,
   "id": "a9d6cfd4",
   "metadata": {
    "scrolled": true
   },
   "outputs": [
    {
     "name": "stdout",
     "output_type": "stream",
     "text": [
      "0.7200000000000003\n"
     ]
    }
   ],
   "source": [
    "print(result_w2v_train_opt)"
   ]
  },
  {
   "cell_type": "code",
   "execution_count": 140,
   "id": "2d3f8f97",
   "metadata": {},
   "outputs": [
    {
     "name": "stdout",
     "output_type": "stream",
     "text": [
      "F1-score train w2v: 0.833\n",
      "accuracy train w2v: 0.818\n"
     ]
    }
   ],
   "source": [
    "f1_w2v_train = calc_f1_score(result_w2v_train, df_train_f1, result_w2v_train_opt)\n",
    "acc_w2v_train = calc_accuracy(result_w2v_train, df_train_f1, result_w2v_train_opt)\n",
    "print('F1-score train w2v: {}'.format(f1_w2v_train ))\n",
    "print('accuracy train w2v: {}'.format(acc_w2v_train))\n",
    "df_train_f1.drop('score', inplace=True, axis=1, errors='ignore')\n",
    "df_train_f1.insert(loc=4, column='score', value=result_w2v_train) \n",
    "# df_train_f1"
   ]
  },
  {
   "cell_type": "code",
   "execution_count": 141,
   "id": "6a2b9a22",
   "metadata": {},
   "outputs": [
    {
     "name": "stdout",
     "output_type": "stream",
     "text": [
      "F1-score test w2v: 0.727\n",
      "accuracy test w2v: 0.727\n"
     ]
    }
   ],
   "source": [
    "result_w2v_test = modelResearcher_w2v.predict_sentences_similarity(df_test_f1['preprocessed_text_rp'], df_test_f1['preprocessed_text_proj'])\n",
    "f1_w2v_test = calc_f1_score(result_w2v_test, df_test_f1, result_w2v_train_opt)\n",
    "acc_w2v_test = calc_accuracy(result_w2v_test, df_test_f1, result_w2v_train_opt)\n",
    "print('F1-score test w2v: {}'.format(f1_w2v_test))\n",
    "print('accuracy test w2v: {}'.format(acc_w2v_test))"
   ]
  },
  {
   "cell_type": "code",
   "execution_count": 45,
   "id": "07654414",
   "metadata": {},
   "outputs": [
    {
     "data": {
      "text/html": [
       "<div>\n",
       "<style scoped>\n",
       "    .dataframe tbody tr th:only-of-type {\n",
       "        vertical-align: middle;\n",
       "    }\n",
       "\n",
       "    .dataframe tbody tr th {\n",
       "        vertical-align: top;\n",
       "    }\n",
       "\n",
       "    .dataframe thead th {\n",
       "        text-align: right;\n",
       "    }\n",
       "</style>\n",
       "<table border=\"1\" class=\"dataframe\">\n",
       "  <thead>\n",
       "    <tr style=\"text-align: right;\">\n",
       "      <th></th>\n",
       "      <th>id_rp</th>\n",
       "      <th>id_proj</th>\n",
       "      <th>name_rp</th>\n",
       "      <th>name_proj</th>\n",
       "      <th>score</th>\n",
       "      <th>need_match</th>\n",
       "      <th>preprocessed_text_rp</th>\n",
       "      <th>preprocessed_text_proj</th>\n",
       "    </tr>\n",
       "  </thead>\n",
       "  <tbody>\n",
       "    <tr>\n",
       "      <th>8</th>\n",
       "      <td>1447</td>\n",
       "      <td>43</td>\n",
       "      <td>Моделирование нелинейных динамических систем</td>\n",
       "      <td>Нелинейная динамика и приложения теории хаоса</td>\n",
       "      <td>0.916085</td>\n",
       "      <td>True</td>\n",
       "      <td>[дисциплина, направить, ознакомление, студент,...</td>\n",
       "      <td>[нелинейный, динамика, приложение, теория, хао...</td>\n",
       "    </tr>\n",
       "    <tr>\n",
       "      <th>9</th>\n",
       "      <td>1011</td>\n",
       "      <td>14</td>\n",
       "      <td>Тестирование и сопровождение программного обес...</td>\n",
       "      <td>Тестирование и документирование стенда виртуал...</td>\n",
       "      <td>0.833684</td>\n",
       "      <td>True</td>\n",
       "      <td>[цель, дисциплина, охватывать, ряд, направлени...</td>\n",
       "      <td>[тестирование, документирование, стенд, виртуа...</td>\n",
       "    </tr>\n",
       "    <tr>\n",
       "      <th>10</th>\n",
       "      <td>1005</td>\n",
       "      <td>40</td>\n",
       "      <td>АНАЛИЗ ДАННЫХ В ИСКУССТВЕННОМ ИНТЕЛЛЕКТЕ</td>\n",
       "      <td>Роботизированная система машинного творчества ...</td>\n",
       "      <td>0.785757</td>\n",
       "      <td>True</td>\n",
       "      <td>[освещать, курс, теоретический, прикладной, во...</td>\n",
       "      <td>[роботизированный, система, машинный, творчест...</td>\n",
       "    </tr>\n",
       "    <tr>\n",
       "      <th>11</th>\n",
       "      <td>2649</td>\n",
       "      <td>16</td>\n",
       "      <td>Философия</td>\n",
       "      <td>Разработка системы вскрытия объектов на кадрах...</td>\n",
       "      <td>0.466503</td>\n",
       "      <td>False</td>\n",
       "      <td>[философия, –, гуманитарный, дисциплина, изуча...</td>\n",
       "      <td>[разработка, система, вскрытие, объект, кадр, ...</td>\n",
       "    </tr>\n",
       "    <tr>\n",
       "      <th>12</th>\n",
       "      <td>5105</td>\n",
       "      <td>11</td>\n",
       "      <td>Дискретная математика и теоретическая информатика</td>\n",
       "      <td>Анализ динамики COVID-19 в России</td>\n",
       "      <td>0.579052</td>\n",
       "      <td>False</td>\n",
       "      <td>[раздел, современный, математика, иметь, прило...</td>\n",
       "      <td>[анализ, динамика, covid-19, россия, ·, web-пр...</td>\n",
       "    </tr>\n",
       "    <tr>\n",
       "      <th>13</th>\n",
       "      <td>5663</td>\n",
       "      <td>47</td>\n",
       "      <td>Тестирование и сопровождение программного обес...</td>\n",
       "      <td>Анализ и обучение рекомендательных моделей для...</td>\n",
       "      <td>0.736066</td>\n",
       "      <td>False</td>\n",
       "      <td>[цель, дисциплина, охватывать, ряд, направлени...</td>\n",
       "      <td>[анализ, обучение, рекомендательный, модель, ф...</td>\n",
       "    </tr>\n",
       "    <tr>\n",
       "      <th>14</th>\n",
       "      <td>1557</td>\n",
       "      <td>30</td>\n",
       "      <td>Бережливые технологии в менеджменте качества</td>\n",
       "      <td>Разработка системы детектирования и идентифика...</td>\n",
       "      <td>0.741649</td>\n",
       "      <td>False</td>\n",
       "      <td>[цель, освоение, дисциплина, бережливый, техно...</td>\n",
       "      <td>[разработка, система, детектирование, идентифи...</td>\n",
       "    </tr>\n",
       "    <tr>\n",
       "      <th>15</th>\n",
       "      <td>683</td>\n",
       "      <td>38</td>\n",
       "      <td>Методы осуществления компьютерных атак и вирус...</td>\n",
       "      <td>Разработка системы звукоподводной связи на осн...</td>\n",
       "      <td>0.861592</td>\n",
       "      <td>False</td>\n",
       "      <td>[дисциплина, обеспечивать, получение, знание, ...</td>\n",
       "      <td>[разработка, система, звукоподводный, связь, о...</td>\n",
       "    </tr>\n",
       "    <tr>\n",
       "      <th>16</th>\n",
       "      <td>6093</td>\n",
       "      <td>56</td>\n",
       "      <td>Математический анализ</td>\n",
       "      <td>Практика в проектах по автономному транспорту ...</td>\n",
       "      <td>0.637199</td>\n",
       "      <td>False</td>\n",
       "      <td>[математический, анализ, ключевой, раздел, выс...</td>\n",
       "      <td>[практика, проект, автономный, транспорт, ао, ...</td>\n",
       "    </tr>\n",
       "    <tr>\n",
       "      <th>17</th>\n",
       "      <td>2646</td>\n",
       "      <td>44</td>\n",
       "      <td>Диэлектрические материалы и приборы</td>\n",
       "      <td>Разработка системы проверки доставки писем на ...</td>\n",
       "      <td>0.305069</td>\n",
       "      <td>False</td>\n",
       "      <td>[рассматриваться, современный, представление, ...</td>\n",
       "      <td>[разработка, система, проверка, доставка, пись...</td>\n",
       "    </tr>\n",
       "    <tr>\n",
       "      <th>18</th>\n",
       "      <td>4769</td>\n",
       "      <td>34</td>\n",
       "      <td>Введение в нереляционные системы управления ба...</td>\n",
       "      <td>Разработка модулей «Кафедра» и «Деканат-2» для...</td>\n",
       "      <td>0.703491</td>\n",
       "      <td>False</td>\n",
       "      <td>[дисциплина, знакомить, теоретический, практич...</td>\n",
       "      <td>[разработка, модуль, кафедра, деканат-2, новый...</td>\n",
       "    </tr>\n",
       "    <tr>\n",
       "      <th>19</th>\n",
       "      <td>1552</td>\n",
       "      <td>29</td>\n",
       "      <td>Методы и инструменты управления рисками органи...</td>\n",
       "      <td>Разработка программного комплекса для оценки в...</td>\n",
       "      <td>0.761117</td>\n",
       "      <td>False</td>\n",
       "      <td>[дать, дисциплина, изучаться, основа, термин, ...</td>\n",
       "      <td>[разработка, программный, комплекс, оценка, ва...</td>\n",
       "    </tr>\n",
       "    <tr>\n",
       "      <th>20</th>\n",
       "      <td>2645</td>\n",
       "      <td>11</td>\n",
       "      <td>Компоненты электронной техники</td>\n",
       "      <td>Анализ динамики COVID-19 в России</td>\n",
       "      <td>0.406102</td>\n",
       "      <td>False</td>\n",
       "      <td>[рассмотреть, основной, свойство, характеристи...</td>\n",
       "      <td>[web-приложение, отображение, динамика, различ...</td>\n",
       "    </tr>\n",
       "    <tr>\n",
       "      <th>21</th>\n",
       "      <td>1558</td>\n",
       "      <td>31</td>\n",
       "      <td>Оценка соответствия и аудит</td>\n",
       "      <td>Определение состояния автомобиля используя видео</td>\n",
       "      <td>0.579544</td>\n",
       "      <td>False</td>\n",
       "      <td>[дисциплина, предназначить, изучение, основа, ...</td>\n",
       "      <td>[определение, состояние, автомобиль, использов...</td>\n",
       "    </tr>\n",
       "  </tbody>\n",
       "</table>\n",
       "</div>"
      ],
      "text/plain": [
       "   id_rp id_proj                                            name_rp  \\\n",
       "8   1447      43       Моделирование нелинейных динамических систем   \n",
       "9   1011      14  Тестирование и сопровождение программного обес...   \n",
       "10  1005      40           АНАЛИЗ ДАННЫХ В ИСКУССТВЕННОМ ИНТЕЛЛЕКТЕ   \n",
       "11  2649      16                                          Философия   \n",
       "12  5105      11  Дискретная математика и теоретическая информатика   \n",
       "13  5663      47  Тестирование и сопровождение программного обес...   \n",
       "14  1557      30       Бережливые технологии в менеджменте качества   \n",
       "15   683      38  Методы осуществления компьютерных атак и вирус...   \n",
       "16  6093      56                              Математический анализ   \n",
       "17  2646      44                Диэлектрические материалы и приборы   \n",
       "18  4769      34  Введение в нереляционные системы управления ба...   \n",
       "19  1552      29  Методы и инструменты управления рисками органи...   \n",
       "20  2645      11                     Компоненты электронной техники   \n",
       "21  1558      31                        Оценка соответствия и аудит   \n",
       "\n",
       "                                            name_proj     score  need_match  \\\n",
       "8       Нелинейная динамика и приложения теории хаоса  0.916085        True   \n",
       "9   Тестирование и документирование стенда виртуал...  0.833684        True   \n",
       "10  Роботизированная система машинного творчества ...  0.785757        True   \n",
       "11  Разработка системы вскрытия объектов на кадрах...  0.466503       False   \n",
       "12                  Анализ динамики COVID-19 в России  0.579052       False   \n",
       "13  Анализ и обучение рекомендательных моделей для...  0.736066       False   \n",
       "14  Разработка системы детектирования и идентифика...  0.741649       False   \n",
       "15  Разработка системы звукоподводной связи на осн...  0.861592       False   \n",
       "16  Практика в проектах по автономному транспорту ...  0.637199       False   \n",
       "17  Разработка системы проверки доставки писем на ...  0.305069       False   \n",
       "18  Разработка модулей «Кафедра» и «Деканат-2» для...  0.703491       False   \n",
       "19  Разработка программного комплекса для оценки в...  0.761117       False   \n",
       "20                  Анализ динамики COVID-19 в России  0.406102       False   \n",
       "21   Определение состояния автомобиля используя видео  0.579544       False   \n",
       "\n",
       "                                 preprocessed_text_rp  \\\n",
       "8   [дисциплина, направить, ознакомление, студент,...   \n",
       "9   [цель, дисциплина, охватывать, ряд, направлени...   \n",
       "10  [освещать, курс, теоретический, прикладной, во...   \n",
       "11  [философия, –, гуманитарный, дисциплина, изуча...   \n",
       "12  [раздел, современный, математика, иметь, прило...   \n",
       "13  [цель, дисциплина, охватывать, ряд, направлени...   \n",
       "14  [цель, освоение, дисциплина, бережливый, техно...   \n",
       "15  [дисциплина, обеспечивать, получение, знание, ...   \n",
       "16  [математический, анализ, ключевой, раздел, выс...   \n",
       "17  [рассматриваться, современный, представление, ...   \n",
       "18  [дисциплина, знакомить, теоретический, практич...   \n",
       "19  [дать, дисциплина, изучаться, основа, термин, ...   \n",
       "20  [рассмотреть, основной, свойство, характеристи...   \n",
       "21  [дисциплина, предназначить, изучение, основа, ...   \n",
       "\n",
       "                               preprocessed_text_proj  \n",
       "8   [нелинейный, динамика, приложение, теория, хао...  \n",
       "9   [тестирование, документирование, стенд, виртуа...  \n",
       "10  [роботизированный, система, машинный, творчест...  \n",
       "11  [разработка, система, вскрытие, объект, кадр, ...  \n",
       "12  [анализ, динамика, covid-19, россия, ·, web-пр...  \n",
       "13  [анализ, обучение, рекомендательный, модель, ф...  \n",
       "14  [разработка, система, детектирование, идентифи...  \n",
       "15  [разработка, система, звукоподводный, связь, о...  \n",
       "16  [практика, проект, автономный, транспорт, ао, ...  \n",
       "17  [разработка, система, проверка, доставка, пись...  \n",
       "18  [разработка, модуль, кафедра, деканат-2, новый...  \n",
       "19  [разработка, программный, комплекс, оценка, ва...  \n",
       "20  [web-приложение, отображение, динамика, различ...  \n",
       "21  [определение, состояние, автомобиль, использов...  "
      ]
     },
     "execution_count": 45,
     "metadata": {},
     "output_type": "execute_result"
    }
   ],
   "source": [
    "df_test_f1.drop('score', inplace=True, axis=1, errors='ignore')\n",
    "df_test_f1.insert(loc=4, column='score', value=result_w2v_test) \n",
    "df_test_f1[8:]"
   ]
  },
  {
   "attachments": {},
   "cell_type": "markdown",
   "id": "c6e2fd9e",
   "metadata": {},
   "source": [
    "## Leave One Out"
   ]
  },
  {
   "cell_type": "code",
   "execution_count": 197,
   "id": "77f19f13",
   "metadata": {},
   "outputs": [],
   "source": [
    "def get_states(sim, df, match_threshold):\n",
    "    (TP, FP, FN, TN) = (0, 0, 0, 0)\n",
    "    for i in range(len(sim)):\n",
    "        if df['need_match'][i:i+1].item():\n",
    "            if sim[i] >= match_threshold: \n",
    "                TP += 1\n",
    "            else:\n",
    "                FN += 1\n",
    "        else:\n",
    "            if sim[i] >= match_threshold: \n",
    "                FP += 1\n",
    "            else:\n",
    "                TN += 1\n",
    "    \n",
    "    return (TP, FP, FN, TN)\n",
    "        \n",
    "\n",
    "def calc_f1_score(sim, df, match_threshold):\n",
    "    (TP, FP, FN, TN) = get_states(sim, df, match_threshold)\n",
    "#     print(TP, FP, FN, TN)\n",
    "    return round(float(2*TP / (2*TP + FP + FN)), 3)\n",
    "    \n",
    "def max_f1_score(sim, df):\n",
    "    threshold = 0\n",
    "    thresholds = []\n",
    "    max_ = 0\n",
    "    step_max_ = 0\n",
    "    step = 0.02\n",
    "    h = step\n",
    "    steps = np.linspace(0, 1, num=int(1/h))\n",
    "    steps = np.round(steps, 2)\n",
    "\n",
    "    for i in steps:\n",
    "        threshold = calc_f1_score(sim, df, h)\n",
    "        thresholds.append(threshold)\n",
    "        if threshold > max_:\n",
    "            max_ = threshold\n",
    "            step_max_ = h\n",
    "        h += step\n",
    "    \n",
    "    return (steps, thresholds, max_, step_max_)"
   ]
  },
  {
   "cell_type": "code",
   "execution_count": 163,
   "id": "c046de8f",
   "metadata": {},
   "outputs": [],
   "source": [
    "# df_train_f1"
   ]
  },
  {
   "cell_type": "code",
   "execution_count": 198,
   "id": "6fe0a412",
   "metadata": {},
   "outputs": [
    {
     "name": "stdout",
     "output_type": "stream",
     "text": [
      "0.824 0.7800000000000004\n",
      "0.818 0.7200000000000003\n",
      "0.818 0.7200000000000003\n",
      "0.818 0.7200000000000003\n",
      "0.818 0.7200000000000003\n",
      "0.818 0.7200000000000003\n",
      "0.87 0.7200000000000003\n",
      "0.842 0.7600000000000003\n",
      "0.857 0.7400000000000003\n",
      "0.818 0.7200000000000003\n",
      "0.818 0.7200000000000003\n",
      "0.833 0.7200000000000003\n",
      "0.87 0.7200000000000003\n",
      "0.833 0.7200000000000003\n",
      "0.833 0.7200000000000003\n",
      "0.87 0.7200000000000003\n",
      "0.833 0.7200000000000003\n",
      "0.833 0.7200000000000003\n",
      "0.833 0.7200000000000003\n",
      "0.833 0.7200000000000003\n",
      "0.833 0.7200000000000003\n",
      "0.87 0.7200000000000003\n"
     ]
    }
   ],
   "source": [
    "N = len(df_train_f1)\n",
    "\n",
    "\n",
    "sim = modelResearcher_w2v.predict_sentences_similarity(df_train_f1['preprocessed_text_rp'], df_train_f1['preprocessed_text_proj'])\n",
    "sim = list(sim)\n",
    "predictions = []\n",
    "for i in range(N):\n",
    "    current_df = df_train_f1.drop(i).reset_index().drop(labels='index', axis=1)\n",
    "    current_sim = sim[:i] + sim[i+1:]\n",
    "    steps, thresholds, max_, cutoff = max_f1_score(current_sim, current_df)\n",
    "    print(max_, cutoff)\n",
    "    if sim[i] >= cutoff:\n",
    "      predictions.append(True)\n",
    "    else:\n",
    "      predictions.append(False)"
   ]
  },
  {
   "cell_type": "code",
   "execution_count": 199,
   "id": "8367b21a",
   "metadata": {},
   "outputs": [],
   "source": [
    "def get_states_leave_one_out(predictions, df):\n",
    "    (TP, FP, FN, TN) = (0, 0, 0, 0)\n",
    "    for i in range(len(sim)):\n",
    "        if df['need_match'][i:i+1].item():\n",
    "            if predictions[i]: \n",
    "                TP += 1\n",
    "            else:\n",
    "                FN += 1\n",
    "        else:\n",
    "            if predictions[i]: \n",
    "                FP += 1\n",
    "            else:\n",
    "                TN += 1\n",
    "    \n",
    "    return (TP, FP, FN, TN)\n",
    "        \n",
    "\n",
    "def calc_f1_score_loo(calc_states):\n",
    "    (TP, FP, FN, TN) = calc_states()\n",
    "#     print(TP, FP, FN, TN)\n",
    "    return round(float(2*TP / (2*TP + FP + FN)), 3)"
   ]
  },
  {
   "cell_type": "code",
   "execution_count": 200,
   "id": "868575fc",
   "metadata": {},
   "outputs": [
    {
     "data": {
      "text/plain": [
       "0.667"
      ]
     },
     "execution_count": 200,
     "metadata": {},
     "output_type": "execute_result"
    }
   ],
   "source": [
    "calc_f1_score_loo(lambda: get_states_leave_one_out(predictions, df_train_f1))"
   ]
  },
  {
   "cell_type": "markdown",
   "id": "c729b685",
   "metadata": {},
   "source": [
    "## FastText"
   ]
  },
  {
   "cell_type": "code",
   "execution_count": 184,
   "id": "b2a6ccdf",
   "metadata": {
    "scrolled": false
   },
   "outputs": [],
   "source": [
    "modelResearcher_ft = ModelResearcher()\n",
    "data_df = read_json('./preprocessed_documents.json')\n",
    "modelResearcher_ft.train(data_df, model=\"fast_text\")\n"
   ]
  },
  {
   "cell_type": "code",
   "execution_count": 177,
   "id": "eb59288f",
   "metadata": {},
   "outputs": [
    {
     "name": "stderr",
     "output_type": "stream",
     "text": [
      "WARNING:root:random_state not set so using default value\n",
      "WARNING:root:failed to load state from ft.state: [Errno 2] No such file or directory: 'ft.state'\n"
     ]
    }
   ],
   "source": [
    "# modelResearcher_ft = ModelResearcher()\n",
    "# modelResearcher_ft.model = models.ldamodel.LdaModel.load('ft')"
   ]
  },
  {
   "cell_type": "code",
   "execution_count": 191,
   "id": "2e9d475e",
   "metadata": {},
   "outputs": [
    {
     "name": "stdout",
     "output_type": "stream",
     "text": [
      "0.02 0.667\n",
      "0.04 0.667\n",
      "0.06 0.667\n",
      "0.08 0.667\n",
      "0.1 0.667\n",
      "0.12000000000000001 0.667\n",
      "0.14 0.667\n",
      "0.16 0.667\n",
      "0.18 0.667\n",
      "0.19999999999999998 0.667\n",
      "0.21999999999999997 0.667\n",
      "0.23999999999999996 0.667\n",
      "0.25999999999999995 0.667\n",
      "0.27999999999999997 0.667\n",
      "0.3 0.667\n",
      "0.32 0.667\n",
      "0.34 0.667\n",
      "0.36000000000000004 0.667\n",
      "0.38000000000000006 0.667\n",
      "0.4000000000000001 0.667\n",
      "0.4200000000000001 0.667\n",
      "0.4400000000000001 0.667\n",
      "0.46000000000000013 0.667\n",
      "0.48000000000000015 0.688\n",
      "0.5000000000000001 0.688\n",
      "0.5200000000000001 0.688\n",
      "0.5400000000000001 0.688\n",
      "0.5600000000000002 0.688\n",
      "0.5800000000000002 0.688\n",
      "0.6000000000000002 0.688\n",
      "0.6200000000000002 0.688\n",
      "0.6400000000000002 0.688\n",
      "0.6600000000000003 0.733\n",
      "0.6800000000000003 0.733\n",
      "0.7000000000000003 0.733\n",
      "0.7200000000000003 0.786\n",
      "0.7400000000000003 0.815\n",
      "0.7600000000000003 0.815\n",
      "0.7800000000000004 0.8\n",
      "0.8000000000000004 0.783\n",
      "0.8200000000000004 0.857\n",
      "0.8400000000000004 0.737\n",
      "0.8600000000000004 0.706\n",
      "0.8800000000000004 0.533\n",
      "0.9000000000000005 0.429\n",
      "0.9200000000000005 0.167\n",
      "0.9400000000000005 0.0\n",
      "0.9600000000000005 0.0\n",
      "0.9800000000000005 0.0\n",
      "1.0000000000000004 0.0\n"
     ]
    },
    {
     "data": {
      "image/png": "[encoded data removed]",
      "text/plain": [
       "<Figure size 640x480 with 1 Axes>"
      ]
     },
     "metadata": {},
     "output_type": "display_data"
    },
    {
     "data": {
      "text/plain": [
       "<Figure size 1000x300 with 0 Axes>"
      ]
     },
     "metadata": {},
     "output_type": "display_data"
    }
   ],
   "source": [
    "result_ft_train_opt = modelResearcher_ft.get_optimal_threshold(df_train_f1['preprocessed_text_rp'], df_train_f1['preprocessed_text_proj'], df_train_f1, 0.02)"
   ]
  },
  {
   "cell_type": "code",
   "execution_count": 192,
   "id": "80e00bbd",
   "metadata": {},
   "outputs": [
    {
     "name": "stdout",
     "output_type": "stream",
     "text": [
      "0.8200000000000004\n"
     ]
    }
   ],
   "source": [
    "print(result_ft_train_opt)"
   ]
  },
  {
   "cell_type": "code",
   "execution_count": 193,
   "id": "5e248e99",
   "metadata": {},
   "outputs": [
    {
     "name": "stdout",
     "output_type": "stream",
     "text": [
      "F1-score train ft: 0.857\n",
      "accuracy train ft: 0.864\n"
     ]
    }
   ],
   "source": [
    "result_ft_train = modelResearcher_ft.predict_sentences_similarity(df_train_f1['preprocessed_text_rp'], df_train_f1['preprocessed_text_proj'])\n",
    "f1_ft_train = calc_f1_score(result_ft_train, df_train_f1, result_ft_train_opt)\n",
    "acc_ft_train = calc_accuracy(result_ft_train, df_train_f1, result_ft_train_opt)\n",
    "print('F1-score train ft: {}'.format(f1_ft_train ))\n",
    "print('accuracy train ft: {}'.format(acc_ft_train ))\n",
    "df_train_f1.drop('score', inplace=True, axis=1, errors='ignore')\n",
    "df_train_f1.insert(loc=4, column='score', value=result_ft_train) "
   ]
  },
  {
   "cell_type": "code",
   "execution_count": 194,
   "id": "04d3df73",
   "metadata": {},
   "outputs": [
    {
     "name": "stdout",
     "output_type": "stream",
     "text": [
      "F1-score test ft: 0.762\n",
      "accuracy test ft: 0.773\n"
     ]
    }
   ],
   "source": [
    "result_ft_test = modelResearcher_ft.predict_sentences_similarity(df_test_f1['preprocessed_text_rp'], df_test_f1['preprocessed_text_proj'])\n",
    "f1_ft_test = calc_f1_score(result_ft_test, df_test_f1, result_ft_train_opt)\n",
    "acc_ft_test = calc_accuracy(result_ft_test, df_test_f1, result_ft_train_opt)\n",
    "print('F1-score test ft: {}'.format(f1_ft_test))\n",
    "print('accuracy test ft: {}'.format(acc_ft_test ))\n",
    "df_test_f1.drop('score', inplace=True, axis=1, errors='ignore')\n",
    "df_test_f1.insert(loc=4, column='score', value=result_ft_test) "
   ]
  },
  {
   "cell_type": "code",
   "execution_count": 195,
   "id": "76db4644",
   "metadata": {},
   "outputs": [
    {
     "name": "stdout",
     "output_type": "stream",
     "text": [
      "0.9 0.8200000000000004\n",
      "0.842 0.8200000000000004\n",
      "0.842 0.8200000000000004\n",
      "0.842 0.8200000000000004\n",
      "0.842 0.8200000000000004\n",
      "0.842 0.8200000000000004\n",
      "0.842 0.8200000000000004\n",
      "0.842 0.8200000000000004\n",
      "0.9 0.8200000000000004\n",
      "0.842 0.8200000000000004\n",
      "0.842 0.8200000000000004\n",
      "0.857 0.8200000000000004\n",
      "0.9 0.8200000000000004\n",
      "0.857 0.8200000000000004\n",
      "0.857 0.8200000000000004\n",
      "0.857 0.8200000000000004\n",
      "0.857 0.8200000000000004\n",
      "0.857 0.8200000000000004\n",
      "0.857 0.8200000000000004\n",
      "0.857 0.8200000000000004\n",
      "0.857 0.8200000000000004\n",
      "0.857 0.8200000000000004\n",
      "[False, True, True, True, True, True, True, True, False, True, True, False, True, False, False, False, False, False, False, False, False, False]\n"
     ]
    }
   ],
   "source": [
    "N = len(df_train_f1)\n",
    "\n",
    "sim = modelResearcher_ft.predict_sentences_similarity(df_train_f1['preprocessed_text_rp'], df_train_f1['preprocessed_text_proj'])\n",
    "sim = list(sim)\n",
    "predictions = []\n",
    "for i in range(N):\n",
    "    current_df = df_train_f1.drop(i).reset_index().drop(labels='index', axis=1)\n",
    "    current_sim = sim[:i] + sim[i+1:]\n",
    "    steps, thresholds, max_, cutoff = max_f1_score(current_sim, current_df)\n",
    "    print(max_, cutoff)\n",
    "    if sim[i] >= cutoff:\n",
    "      predictions.append(True)\n",
    "    else:\n",
    "      predictions.append(False)\n",
    "\n",
    "print(predictions)"
   ]
  },
  {
   "cell_type": "code",
   "execution_count": 196,
   "id": "41427355",
   "metadata": {},
   "outputs": [
    {
     "data": {
      "text/plain": [
       "0.857"
      ]
     },
     "execution_count": 196,
     "metadata": {},
     "output_type": "execute_result"
    }
   ],
   "source": [
    "calc_f1_score_loo(lambda: get_states_leave_one_out(predictions, df_train_f1))"
   ]
  }
 ],
 "metadata": {
  "kernelspec": {
   "display_name": "Python 3 (ipykernel)",
   "language": "python",
   "name": "python3"
  },
  "language_info": {
   "codemirror_mode": {
    "name": "ipython",
    "version": 3
   },
   "file_extension": ".py",
   "mimetype": "text/x-python",
   "name": "python",
   "nbconvert_exporter": "python",
   "pygments_lexer": "ipython3",
   "version": "3.9.15"
  }
 },
 "nbformat": 4,
 "nbformat_minor": 5
}
